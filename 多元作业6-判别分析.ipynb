{
 "cells": [
  {
   "cell_type": "markdown",
   "id": "d767787e",
   "metadata": {},
   "source": [
    "# 习题5.5"
   ]
  },
  {
   "cell_type": "markdown",
   "id": "4b490479",
   "metadata": {},
   "source": [
    "\n",
    "<li><span><a href=\"#（1）给出距离判别规则并分类，使用回代法评估\" data-toc-modified-id=\"（1）给出距离判别规则并分类，使用回代法评估-\"><span class=\"toc-item-num\">&nbsp;&nbsp;</span>（1）给出距离判别规则并分类，使用回代法评估</a></span></li><li><span><a href=\"#（2）基于正态性&amp;方差齐性假定和先验概率的贝叶斯判别法\" data-toc-modified-id=\"（2）基于正态性&amp;方差齐性假定和先验概率的贝叶斯判别法-\"><span class=\"toc-item-num\">&nbsp;&nbsp;</span>（2）基于正态性&amp;方差齐性假定和先验概率的贝叶斯判别法</a></span></li><li><span><a href=\"#（3）最小ECM贝叶斯判别法\" data-toc-modified-id=\"（3）最小ECM贝叶斯判别法-\"><span class=\"toc-item-num\">&nbsp;&nbsp;</span>（3）最小ECM贝叶斯判别法</a></span></li><li><span><a href=\"#（4）Fisher判别法\" data-toc-modified-id=\"（4）Fisher判别法-\"><span class=\"toc-item-num\">&nbsp;&nbsp;</span>（4）Fisher判别法\n"
   ]
  },
  {
   "cell_type": "markdown",
   "id": "e2e187ef",
   "metadata": {},
   "source": [
    "### （1）给出距离判别规则并分类，使用回代法评估"
   ]
  },
  {
   "cell_type": "markdown",
   "id": "e615a64a",
   "metadata": {},
   "source": [
    "已知，$\\hat{{W}({x})}=\\hat{a^{\\prime}}(x-\\bar{x})$，其中 $\\overline{{x}}=\\frac{1}{2}\\left(\\overline{x_1}+\\overline{x_2}\\right)$；$\\hat{a}=S_p^{-1}\\left(\\overline{x_1}-\\overline{x_2}\\right)$；$S_p=\\frac{\\left(n_1-1\\right) S_1+\\left(n_2-1\\right) S_2}{n_1+n_2-2}$。\n",
    "\n",
    "则判别规则为$\\begin{cases}x \\in \\pi_1 & , \\text { 若 } \\hat{W(x)} \\geq 0 \\\\ x \\in \\pi_2 & , \\text { 若 } \\hat{W(x)}<0\\end{cases}$"
   ]
  },
  {
   "cell_type": "code",
   "execution_count": 55,
   "id": "1ca3f90e",
   "metadata": {
    "vscode": {
     "languageId": "r"
    }
   },
   "outputs": [
    {
     "data": {
      "text/html": [
       "<table class=\"dataframe\">\n",
       "<caption>A data.frame: 6 × 3</caption>\n",
       "<thead>\n",
       "\t<tr><th></th><th scope=col>x1</th><th scope=col>x2</th><th scope=col>g</th></tr>\n",
       "\t<tr><th></th><th scope=col>&lt;dbl&gt;</th><th scope=col>&lt;dbl&gt;</th><th scope=col>&lt;int&gt;</th></tr>\n",
       "</thead>\n",
       "<tbody>\n",
       "\t<tr><th scope=row>1</th><td>-1.9</td><td> 3.2</td><td>1</td></tr>\n",
       "\t<tr><th scope=row>2</th><td>-6.9</td><td>10.4</td><td>1</td></tr>\n",
       "\t<tr><th scope=row>3</th><td> 5.2</td><td> 2.0</td><td>1</td></tr>\n",
       "\t<tr><th scope=row>4</th><td> 5.0</td><td> 2.5</td><td>1</td></tr>\n",
       "\t<tr><th scope=row>5</th><td> 7.3</td><td> 0.0</td><td>1</td></tr>\n",
       "\t<tr><th scope=row>6</th><td> 6.8</td><td>12.7</td><td>1</td></tr>\n",
       "</tbody>\n",
       "</table>\n"
      ],
      "text/latex": [
       "A data.frame: 6 × 3\n",
       "\\begin{tabular}{r|lll}\n",
       "  & x1 & x2 & g\\\\\n",
       "  & <dbl> & <dbl> & <int>\\\\\n",
       "\\hline\n",
       "\t1 & -1.9 &  3.2 & 1\\\\\n",
       "\t2 & -6.9 & 10.4 & 1\\\\\n",
       "\t3 &  5.2 &  2.0 & 1\\\\\n",
       "\t4 &  5.0 &  2.5 & 1\\\\\n",
       "\t5 &  7.3 &  0.0 & 1\\\\\n",
       "\t6 &  6.8 & 12.7 & 1\\\\\n",
       "\\end{tabular}\n"
      ],
      "text/markdown": [
       "\n",
       "A data.frame: 6 × 3\n",
       "\n",
       "| <!--/--> | x1 &lt;dbl&gt; | x2 &lt;dbl&gt; | g &lt;int&gt; |\n",
       "|---|---|---|---|\n",
       "| 1 | -1.9 |  3.2 | 1 |\n",
       "| 2 | -6.9 | 10.4 | 1 |\n",
       "| 3 |  5.2 |  2.0 | 1 |\n",
       "| 4 |  5.0 |  2.5 | 1 |\n",
       "| 5 |  7.3 |  0.0 | 1 |\n",
       "| 6 |  6.8 | 12.7 | 1 |\n",
       "\n"
      ],
      "text/plain": [
       "  x1   x2   g\n",
       "1 -1.9  3.2 1\n",
       "2 -6.9 10.4 1\n",
       "3  5.2  2.0 1\n",
       "4  5.0  2.5 1\n",
       "5  7.3  0.0 1\n",
       "6  6.8 12.7 1"
      ]
     },
     "metadata": {},
     "output_type": "display_data"
    },
    {
     "data": {
      "text/html": [
       "<table class=\"dataframe\">\n",
       "<caption>A data.frame: 1 × 2</caption>\n",
       "<thead>\n",
       "\t<tr><th></th><th scope=col>x1</th><th scope=col>x2</th></tr>\n",
       "\t<tr><th></th><th scope=col>&lt;dbl&gt;</th><th scope=col>&lt;int&gt;</th></tr>\n",
       "</thead>\n",
       "<tbody>\n",
       "\t<tr><th scope=row>1</th><td>0.6</td><td>3</td></tr>\n",
       "</tbody>\n",
       "</table>\n"
      ],
      "text/latex": [
       "A data.frame: 1 × 2\n",
       "\\begin{tabular}{r|ll}\n",
       "  & x1 & x2\\\\\n",
       "  & <dbl> & <int>\\\\\n",
       "\\hline\n",
       "\t1 & 0.6 & 3\\\\\n",
       "\\end{tabular}\n"
      ],
      "text/markdown": [
       "\n",
       "A data.frame: 1 × 2\n",
       "\n",
       "| <!--/--> | x1 &lt;dbl&gt; | x2 &lt;int&gt; |\n",
       "|---|---|---|\n",
       "| 1 | 0.6 | 3 |\n",
       "\n"
      ],
      "text/plain": [
       "  x1  x2\n",
       "1 0.6 3 "
      ]
     },
     "metadata": {},
     "output_type": "display_data"
    }
   ],
   "source": [
    "# 读入数据\n",
    "data = read.table('.//AMSA_data//《应用多元统计分析》（第6版）文本数据（以逗号为间隔）//exec5.5.csv',header = TRUE,sep = ',')\n",
    "head(data) #训练集\n",
    "data1 = subset(data, g =='1')[,-3]\n",
    "data2 = subset(data, g =='2')[,-3]\n",
    "datat = read.table('.//AMSA_data//《应用多元统计分析》（第6版）文本数据（以逗号为间隔）//exec5.5a.csv',header = TRUE,sep = ',')\n",
    "head(datat) # 测试集"
   ]
  },
  {
   "cell_type": "code",
   "execution_count": 35,
   "id": "64989199",
   "metadata": {
    "vscode": {
     "languageId": "r"
    }
   },
   "outputs": [
    {
     "data": {
      "text/html": [
       "<table class=\"dataframe\">\n",
       "<caption>A matrix: 1 × 1 of type dbl</caption>\n",
       "<thead>\n",
       "\t<tr><th></th><th scope=col>1</th></tr>\n",
       "</thead>\n",
       "<tbody>\n",
       "\t<tr><th scope=row>pred</th><td>1</td></tr>\n",
       "</tbody>\n",
       "</table>\n"
      ],
      "text/latex": [
       "A matrix: 1 × 1 of type dbl\n",
       "\\begin{tabular}{r|l}\n",
       "  & 1\\\\\n",
       "\\hline\n",
       "\tpred & 1\\\\\n",
       "\\end{tabular}\n"
      ],
      "text/markdown": [
       "\n",
       "A matrix: 1 × 1 of type dbl\n",
       "\n",
       "| <!--/--> | 1 |\n",
       "|---|---|\n",
       "| pred | 1 |\n",
       "\n"
      ],
      "text/plain": [
       "     1\n",
       "pred 1"
      ]
     },
     "metadata": {},
     "output_type": "display_data"
    }
   ],
   "source": [
    "# 编写距离判别法的函数\n",
    "\n",
    "jvlipanbie = function(X1, X2, testX=NULL, var.equal=FALSE){\n",
    "  # 输入变量处理：X1，X2是两个总体，testX是测试集，默认总体协方差矩阵不同\n",
    "\n",
    "  if (is.null(testX) == TRUE) testX = rbind(X1,X2) # 如果没有给定测试集，则对数据进行回测\n",
    "\n",
    "  if (is.vector(testX) == TRUE) \n",
    "    testX = t(as.matrix(testX)) # 调整训练集的格式\n",
    "  else if (is.matrix(testX) != TRUE)\n",
    "    testX = as.matrix(testX)\n",
    "\n",
    "  if (is.matrix(X1) == FALSE)\n",
    "    X1 = as.matrix(X1)\n",
    "  if (is.matrix(X2) == FALSE)\n",
    "    X2 = as.matrix(X2) # 保证输入的总体是矩阵\n",
    "\n",
    "  nx = nrow(testX)    # 测试集的大小\n",
    "  pred = matrix(rep(0,nx), nrow=1, byrow=TRUE, dimnames=list(\"pred\",1:nx))  # 生成长度为nx的0向量，用以存储预测的标签\n",
    "  mu1 = colMeans(X1)\n",
    "  mu2 = colMeans(X2) # 均值向量\n",
    "\n",
    "  if (var.equal == TRUE){   # 当两总体同方差\n",
    "    S = cov(rbind(X1,X2)) # 计算协方差\n",
    "    Wx = mahalanobis(testX, mu2, S) - mahalanobis(testX, mu1, S) # 负的判别函数W(x)：到2的距离减去到1的距离\n",
    "  }\n",
    "  else{   # 当两总体异方差\n",
    "    S1 = cov(X1)\n",
    "    S2 = cov(X2)\n",
    "    Wx = mahalanobis(testX, mu2, S2) - mahalanobis(testX, mu1, S1)\n",
    "  }  \n",
    "  \n",
    "  for (i in 1:nx){\n",
    "    if (Wx[i] >= 0)\n",
    "      pred[i] = 1\n",
    "    else\n",
    "      pred[i] = 2  # 所以这里只适用于二分类的任务\n",
    "  }\n",
    "\n",
    "  return(pred) # 返回预测值\n",
    "}\n",
    "\n",
    "jvlipanbie(data1,data2,datat,TRUE) # 使用距离判别法得到的结果是1"
   ]
  },
  {
   "cell_type": "code",
   "execution_count": 48,
   "id": "7e62eecd",
   "metadata": {
    "vscode": {
     "languageId": "r"
    }
   },
   "outputs": [
    {
     "name": "stdout",
     "output_type": "stream",
     "text": [
      "   Z\n",
      "g   1 2\n",
      "  1 8 2\n",
      "  2 1 9\n",
      "[1] \"P(2|1)：0.100000\"\n",
      "[1] \"P(1|2)：0.050000\"\n"
     ]
    }
   ],
   "source": [
    "# 回代法\n",
    "\n",
    "Z =  jvlipanbie(data1,data2,NULL,TRUE) # 回代预测所属类别\n",
    "table1 = table(g = data$g,Z) # 判别情况表\n",
    "print(table1) \n",
    "n21 = 2;n12 = 1\n",
    "n1 = length(t(data1))/2\n",
    "n2 = length(t(data2))/2\n",
    "print(sprintf('P(2|1)：%f',n21/n1))\n",
    "print(sprintf('P(1|2)：%f',n12/n2))"
   ]
  },
  {
   "cell_type": "markdown",
   "id": "ebb18038",
   "metadata": {},
   "source": [
    "因此，根据距离判别法预测明天会下雨，并且使用回代法得到误判概率P(2|1)=0.1，P(1|2)=0.05。"
   ]
  },
  {
   "cell_type": "markdown",
   "id": "3394402a",
   "metadata": {},
   "source": [
    "### （2）基于正态性&方差齐性假定和先验概率的贝叶斯判别法"
   ]
  },
  {
   "cell_type": "code",
   "execution_count": 60,
   "id": "d1ab3238",
   "metadata": {
    "vscode": {
     "languageId": "r"
    }
   },
   "outputs": [
    {
     "data": {
      "text/html": [
       "<dl>\n",
       "\t<dt>$class</dt>\n",
       "\t\t<dd>2\n",
       "<details>\n",
       "\t<summary style=display:list-item;cursor:pointer>\n",
       "\t\t<strong>Levels</strong>:\n",
       "\t</summary>\n",
       "\t<style>\n",
       "\t.list-inline {list-style: none; margin:0; padding: 0}\n",
       "\t.list-inline>li {display: inline-block}\n",
       "\t.list-inline>li:not(:last-child)::after {content: \"\\00b7\"; padding: 0 .5ex}\n",
       "\t</style>\n",
       "\t<ol class=list-inline><li>'1'</li><li>'2'</li></ol>\n",
       "</details></dd>\n",
       "\t<dt>$posterior</dt>\n",
       "\t\t<dd><table class=\"dataframe\">\n",
       "<caption>A matrix: 1 × 2 of type dbl</caption>\n",
       "<thead>\n",
       "\t<tr><th></th><th scope=col>1</th><th scope=col>2</th></tr>\n",
       "</thead>\n",
       "<tbody>\n",
       "\t<tr><th scope=row>1</th><td>0.4062312</td><td>0.5937688</td></tr>\n",
       "</tbody>\n",
       "</table>\n",
       "</dd>\n",
       "\t<dt>$x</dt>\n",
       "\t\t<dd><table class=\"dataframe\">\n",
       "<caption>A matrix: 1 × 1 of type dbl</caption>\n",
       "<thead>\n",
       "\t<tr><th></th><th scope=col>LD1</th></tr>\n",
       "</thead>\n",
       "<tbody>\n",
       "\t<tr><th scope=row>1</th><td>-0.6377856</td></tr>\n",
       "</tbody>\n",
       "</table>\n",
       "</dd>\n",
       "</dl>\n"
      ],
      "text/latex": [
       "\\begin{description}\n",
       "\\item[\\$class] 2\n",
       "\\emph{Levels}: \\begin{enumerate*}\n",
       "\\item '1'\n",
       "\\item '2'\n",
       "\\end{enumerate*}\n",
       "\n",
       "\\item[\\$posterior] A matrix: 1 × 2 of type dbl\n",
       "\\begin{tabular}{r|ll}\n",
       "  & 1 & 2\\\\\n",
       "\\hline\n",
       "\t1 & 0.4062312 & 0.5937688\\\\\n",
       "\\end{tabular}\n",
       "\n",
       "\\item[\\$x] A matrix: 1 × 1 of type dbl\n",
       "\\begin{tabular}{r|l}\n",
       "  & LD1\\\\\n",
       "\\hline\n",
       "\t1 & -0.6377856\\\\\n",
       "\\end{tabular}\n",
       "\n",
       "\\end{description}\n"
      ],
      "text/markdown": [
       "$class\n",
       ":   2\n",
       "**Levels**: 1. '1'\n",
       "2. '2'\n",
       "\n",
       "\n",
       "\n",
       "$posterior\n",
       ":   \n",
       "A matrix: 1 × 2 of type dbl\n",
       "\n",
       "| <!--/--> | 1 | 2 |\n",
       "|---|---|---|\n",
       "| 1 | 0.4062312 | 0.5937688 |\n",
       "\n",
       "\n",
       "$x\n",
       ":   \n",
       "A matrix: 1 × 1 of type dbl\n",
       "\n",
       "| <!--/--> | LD1 |\n",
       "|---|---|\n",
       "| 1 | -0.6377856 |\n",
       "\n",
       "\n",
       "\n",
       "\n"
      ],
      "text/plain": [
       "$class\n",
       "[1] 2\n",
       "Levels: 1 2\n",
       "\n",
       "$posterior\n",
       "          1         2\n",
       "1 0.4062312 0.5937688\n",
       "\n",
       "$x\n",
       "         LD1\n",
       "1 -0.6377856\n"
      ]
     },
     "metadata": {},
     "output_type": "display_data"
    }
   ],
   "source": [
    "library(MASS)\n",
    "ld1 = lda(g~x1+x2, prior = c(0.3,0.7), data)\n",
    "newg = predict(ld1, datat) # 预测所属的类别的结果\n",
    "newg"
   ]
  },
  {
   "cell_type": "markdown",
   "id": "dc41d935",
   "metadata": {},
   "source": [
    "根据给定先验概率的贝叶斯判别法，预测明天不会下雨，并且下雨和不下雨的后验概率是0.4和0.6。"
   ]
  },
  {
   "cell_type": "markdown",
   "id": "76eb315e",
   "metadata": {},
   "source": [
    "### （3）最小ECM贝叶斯判别法"
   ]
  },
  {
   "cell_type": "code",
   "execution_count": 69,
   "id": "3b922c3f",
   "metadata": {
    "vscode": {
     "languageId": "r"
    }
   },
   "outputs": [
    {
     "data": {
      "text/html": [
       "<table class=\"dataframe\">\n",
       "<caption>A matrix: 1 × 1 of type dbl</caption>\n",
       "<thead>\n",
       "\t<tr><th></th><th scope=col>1</th></tr>\n",
       "</thead>\n",
       "<tbody>\n",
       "\t<tr><th scope=row>pred</th><td>1</td></tr>\n",
       "</tbody>\n",
       "</table>\n"
      ],
      "text/latex": [
       "A matrix: 1 × 1 of type dbl\n",
       "\\begin{tabular}{r|l}\n",
       "  & 1\\\\\n",
       "\\hline\n",
       "\tpred & 1\\\\\n",
       "\\end{tabular}\n"
      ],
      "text/markdown": [
       "\n",
       "A matrix: 1 × 1 of type dbl\n",
       "\n",
       "| <!--/--> | 1 |\n",
       "|---|---|\n",
       "| pred | 1 |\n",
       "\n"
      ],
      "text/plain": [
       "     1\n",
       "pred 1"
      ]
     },
     "metadata": {},
     "output_type": "display_data"
    }
   ],
   "source": [
    "bayesminECM = function(X1, X2, testX=NULL, var.equal=FALSE, rate=1){\n",
    "  # 输入变量处理：X1，X2是两个总体，testX是测试集，默认总体协方差矩阵不同\n",
    "  # rate = (c12 p2) / (c21p1)\n",
    "\n",
    "  if (is.null(testX) == TRUE) testX = rbind(X1,X2) # 如果没有给定测试集，则对数据进行回测\n",
    "\n",
    "  if (is.vector(testX) == TRUE) \n",
    "    testX = t(as.matrix(testX)) # 调整训练集的格式\n",
    "  else if (is.matrix(testX) != TRUE)\n",
    "    testX = as.matrix(testX)\n",
    "\n",
    "  if (is.matrix(X1) == FALSE)\n",
    "    X1 = as.matrix(X1)\n",
    "  if (is.matrix(X2) == FALSE)\n",
    "    X2 = as.matrix(X2) # 保证输入的总体是矩阵\n",
    "\n",
    "  nx = nrow(testX)    # 测试集的大小\n",
    "  pred = matrix(rep(0,nx), nrow=1, byrow=TRUE, dimnames=list(\"pred\",1:nx))  # 生成长度为nx的0向量，用以存储预测的标签\n",
    "  mu1 = colMeans(X1)\n",
    "  mu2 = colMeans(X2) # 均值向量\n",
    "  \n",
    "  if (var.equal == TRUE){ # 两总体同方差\n",
    "    S = cov(rbind(X1,X2))\n",
    "    Wx = 1/2*(mahalanobis(testX,mu2,S) - mahalanobis(testX,mu1,S)) # 到2的距离减去到1的距离\n",
    "    beta = log(rate) \n",
    "  }\n",
    "  else{ # 当两总体不同方差\n",
    "    S1 = cov(X1)\n",
    "    S2 = cov(X2)\n",
    "    Wx = 1/2*(mahalanobis(testX, mu2, S2) - mahalanobis(testX, mu1, S1))\n",
    "    beta = log(det(S1)/det(S2))+log(rate)\n",
    "  }\n",
    "  \n",
    "  for (i in 1:nx){\n",
    "    if (Wx[i] >= beta)\n",
    "      pred[i] = 1\n",
    "    else\n",
    "      pred[i] = 2  # 只适用于二分类的任务\n",
    "  }\n",
    "\n",
    "  return(pred) # 返回预测值\n",
    "}\n",
    "\n",
    "c12 = 1  ;c21 = 3*c12  # 假设\n",
    "p1 = 0.3 ;p2 = 0.7\n",
    "rate = (c12*p2) / (c21*p1)\n",
    "bayesminECM(data1,data2,datat,TRUE,rate) # 使用距离判别法得到的结果是1"
   ]
  },
  {
   "cell_type": "markdown",
   "id": "bcc7a06b",
   "metadata": {},
   "source": [
    "在给定相对代价和先验概率之后，贝叶斯判别法的结果是1，说明第二天会下雨，不必为明天的活动准备。"
   ]
  },
  {
   "cell_type": "markdown",
   "id": "463054f1",
   "metadata": {},
   "source": [
    "### （4）Fisher判别法"
   ]
  },
  {
   "cell_type": "code",
   "execution_count": 67,
   "id": "11dfdc5c",
   "metadata": {
    "vscode": {
     "languageId": "r"
    }
   },
   "outputs": [
    {
     "data": {
      "text/html": [
       "<dl>\n",
       "\t<dt>$class</dt>\n",
       "\t\t<dd>1\n",
       "<details>\n",
       "\t<summary style=display:list-item;cursor:pointer>\n",
       "\t\t<strong>Levels</strong>:\n",
       "\t</summary>\n",
       "\t<style>\n",
       "\t.list-inline {list-style: none; margin:0; padding: 0}\n",
       "\t.list-inline>li {display: inline-block}\n",
       "\t.list-inline>li:not(:last-child)::after {content: \"\\00b7\"; padding: 0 .5ex}\n",
       "\t</style>\n",
       "\t<ol class=list-inline><li>'1'</li><li>'2'</li></ol>\n",
       "</details></dd>\n",
       "\t<dt>$posterior</dt>\n",
       "\t\t<dd><table class=\"dataframe\">\n",
       "<caption>A matrix: 1 × 2 of type dbl</caption>\n",
       "<thead>\n",
       "\t<tr><th></th><th scope=col>1</th><th scope=col>2</th></tr>\n",
       "</thead>\n",
       "<tbody>\n",
       "\t<tr><th scope=row>1</th><td>0.6148464</td><td>0.3851536</td></tr>\n",
       "</tbody>\n",
       "</table>\n",
       "</dd>\n",
       "\t<dt>$x</dt>\n",
       "\t\t<dd><table class=\"dataframe\">\n",
       "<caption>A matrix: 1 × 1 of type dbl</caption>\n",
       "<thead>\n",
       "\t<tr><th></th><th scope=col>LD1</th></tr>\n",
       "</thead>\n",
       "<tbody>\n",
       "\t<tr><th scope=row>1</th><td>-0.409151</td></tr>\n",
       "</tbody>\n",
       "</table>\n",
       "</dd>\n",
       "</dl>\n"
      ],
      "text/latex": [
       "\\begin{description}\n",
       "\\item[\\$class] 1\n",
       "\\emph{Levels}: \\begin{enumerate*}\n",
       "\\item '1'\n",
       "\\item '2'\n",
       "\\end{enumerate*}\n",
       "\n",
       "\\item[\\$posterior] A matrix: 1 × 2 of type dbl\n",
       "\\begin{tabular}{r|ll}\n",
       "  & 1 & 2\\\\\n",
       "\\hline\n",
       "\t1 & 0.6148464 & 0.3851536\\\\\n",
       "\\end{tabular}\n",
       "\n",
       "\\item[\\$x] A matrix: 1 × 1 of type dbl\n",
       "\\begin{tabular}{r|l}\n",
       "  & LD1\\\\\n",
       "\\hline\n",
       "\t1 & -0.409151\\\\\n",
       "\\end{tabular}\n",
       "\n",
       "\\end{description}\n"
      ],
      "text/markdown": [
       "$class\n",
       ":   1\n",
       "**Levels**: 1. '1'\n",
       "2. '2'\n",
       "\n",
       "\n",
       "\n",
       "$posterior\n",
       ":   \n",
       "A matrix: 1 × 2 of type dbl\n",
       "\n",
       "| <!--/--> | 1 | 2 |\n",
       "|---|---|---|\n",
       "| 1 | 0.6148464 | 0.3851536 |\n",
       "\n",
       "\n",
       "$x\n",
       ":   \n",
       "A matrix: 1 × 1 of type dbl\n",
       "\n",
       "| <!--/--> | LD1 |\n",
       "|---|---|\n",
       "| 1 | -0.409151 |\n",
       "\n",
       "\n",
       "\n",
       "\n"
      ],
      "text/plain": [
       "$class\n",
       "[1] 1\n",
       "Levels: 1 2\n",
       "\n",
       "$posterior\n",
       "          1         2\n",
       "1 0.6148464 0.3851536\n",
       "\n",
       "$x\n",
       "        LD1\n",
       "1 -0.409151\n"
      ]
     },
     "metadata": {},
     "output_type": "display_data"
    }
   ],
   "source": [
    "n = dim(data)[1] \n",
    "k = 1 #2-1\n",
    "\n",
    "library(MASS)\n",
    "ld2 = lda(g~x1+x2,data)\n",
    "\n",
    "ev = ld2$svd^2*(k-1)/(n-k) # 特征值\n",
    "prop = ev/sum(ev) # 判别函数的贡献率\n",
    "cump = round(cumsum(prop),4) # 累计贡献率\n",
    "cume = round(cumsum(prop),4) # 累计贡献率\n",
    "score = round(newg2$x,3) # fisher判别得分\n",
    "newg2 = predict(ld2,datat)\n",
    "newg2"
   ]
  },
  {
   "cell_type": "markdown",
   "id": "ddd6c49f",
   "metadata": {},
   "source": [
    "因此根据fishe判别法，认为第二天会下雨。"
   ]
  }
 ],
 "metadata": {
  "kernelspec": {
   "display_name": "R",
   "language": "R",
   "name": "ir"
  },
  "language_info": {
   "codemirror_mode": "r",
   "file_extension": ".r",
   "mimetype": "text/x-r-source",
   "name": "R",
   "pygments_lexer": "r",
   "version": "4.1.3"
  },
  "toc": {
   "base_numbering": 1,
   "nav_menu": {},
   "number_sections": true,
   "sideBar": true,
   "skip_h1_title": false,
   "title_cell": "Table of Contents",
   "title_sidebar": "Contents",
   "toc_cell": true,
   "toc_position": {},
   "toc_section_display": true,
   "toc_window_display": true
  }
 },
 "nbformat": 4,
 "nbformat_minor": 5
}
