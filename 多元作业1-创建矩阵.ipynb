{
 "cells": [
  {
   "cell_type": "markdown",
   "id": "98dd3d05",
   "metadata": {},
   "source": [
    "### 作业1 ： 1.9"
   ]
  },
  {
   "cell_type": "code",
   "execution_count": 29,
   "id": "9233a11f",
   "metadata": {
    "vscode": {
     "languageId": "r"
    }
   },
   "outputs": [
    {
     "name": "stdout",
     "output_type": "stream",
     "text": [
      "     [,1] [,2] [,3]\n",
      "[1,]    2    1    1\n",
      "[2,]    1    2    1\n",
      "[3,]    1    1    2\n"
     ]
    }
   ],
   "source": [
    "# 构造矩阵\n",
    "A <- matrix(1,3,3)\n",
    "diag(A) <- c(2,2,2)\n",
    "print(A)"
   ]
  },
  {
   "cell_type": "code",
   "execution_count": 30,
   "id": "78843443",
   "metadata": {
    "vscode": {
     "languageId": "r"
    }
   },
   "outputs": [
    {
     "data": {
      "text/plain": [
       "eigen() decomposition\n",
       "$values\n",
       "[1] 4 1 1\n",
       "\n",
       "$vectors\n",
       "           [,1]       [,2]       [,3]\n",
       "[1,] -0.5773503  0.0000000  0.8164966\n",
       "[2,] -0.5773503 -0.7071068 -0.4082483\n",
       "[3,] -0.5773503  0.7071068 -0.4082483\n"
      ]
     },
     "metadata": {},
     "output_type": "display_data"
    }
   ],
   "source": [
    "eigen(A) # 有三个特征根，一个是4，另外是1（重根）"
   ]
  },
  {
   "cell_type": "code",
   "execution_count": 31,
   "id": "1ff12ad0",
   "metadata": {
    "vscode": {
     "languageId": "r"
    }
   },
   "outputs": [
    {
     "name": "stdout",
     "output_type": "stream",
     "text": [
      "     [,1] [,2] [,3]\n",
      "[1,]    2    1    1\n",
      "[2,]    1    2    1\n",
      "[3,]    1    1    2\n"
     ]
    }
   ],
   "source": [
    "# 谱分解\n",
    "P <- eigen(A)$vectors\n",
    "A1 <- P %*% diag(eigen(A)$values) %*% t(P)\n",
    "print(A1)"
   ]
  },
  {
   "cell_type": "code",
   "execution_count": 47,
   "id": "6dbae636",
   "metadata": {
    "vscode": {
     "languageId": "r"
    }
   },
   "outputs": [
    {
     "name": "stdout",
     "output_type": "stream",
     "text": [
      "     [,1] [,2] [,3]\n",
      "[1,]    2    1    1\n",
      "[2,]    1    2    1\n",
      "[3,]    1    1    2\n"
     ]
    }
   ],
   "source": [
    "A2 <- eigen(A)$values[1] * P[,1] %*% t(P[,1]) + eigen(A)$values[2] * P[,2] %*% t(P[,2]) + eigen(A)$values[3] * P[,3] %*% t(P[,3])\n",
    "print(A2)"
   ]
  },
  {
   "cell_type": "markdown",
   "id": "db54359a",
   "metadata": {},
   "source": [
    "### 第二次作业"
   ]
  },
  {
   "cell_type": "code",
   "execution_count": 4,
   "id": "1b90b13f",
   "metadata": {
    "vscode": {
     "languageId": "r"
    }
   },
   "outputs": [
    {
     "name": "stdout",
     "output_type": "stream",
     "text": [
      "     [,1] [,2] [,3]\n",
      "[1,]    9    1   -2\n",
      "[2,]    1   20    3\n",
      "[3,]   -2    3   12\n"
     ]
    }
   ],
   "source": [
    "sigma = rbind(c(9,1,-2),c(1,20,3),c(-2,3,12))\n",
    "print(sigma)"
   ]
  },
  {
   "cell_type": "code",
   "execution_count": 5,
   "id": "0f5a2d43",
   "metadata": {
    "vscode": {
     "languageId": "r"
    }
   },
   "outputs": [
    {
     "name": "stdout",
     "output_type": "stream",
     "text": [
      "     [,1] [,2] [,3]\n",
      "[1,]    2    3    1\n",
      "[2,]    1   -2    5\n",
      "[3,]    0    1   -1\n"
     ]
    }
   ],
   "source": [
    "A = rbind(c(2,3,1),c(1,-2,5),c(0,1,-1))\n",
    "print(A)"
   ]
  },
  {
   "cell_type": "code",
   "execution_count": 8,
   "id": "96bdd872",
   "metadata": {
    "vscode": {
     "languageId": "r"
    }
   },
   "outputs": [
    {
     "data": {
      "text/html": [
       "<table class=\"dataframe\">\n",
       "<caption>A matrix: 3 × 3 of type dbl</caption>\n",
       "<tbody>\n",
       "\t<tr><td>250</td><td>-26</td><td> 48</td></tr>\n",
       "\t<tr><td>-26</td><td>305</td><td>-76</td></tr>\n",
       "\t<tr><td> 48</td><td>-76</td><td> 26</td></tr>\n",
       "</tbody>\n",
       "</table>\n"
      ],
      "text/latex": [
       "A matrix: 3 × 3 of type dbl\n",
       "\\begin{tabular}{lll}\n",
       "\t 250 & -26 &  48\\\\\n",
       "\t -26 & 305 & -76\\\\\n",
       "\t  48 & -76 &  26\\\\\n",
       "\\end{tabular}\n"
      ],
      "text/markdown": [
       "\n",
       "A matrix: 3 × 3 of type dbl\n",
       "\n",
       "| 250 | -26 |  48 |\n",
       "| -26 | 305 | -76 |\n",
       "|  48 | -76 |  26 |\n",
       "\n"
      ],
      "text/plain": [
       "     [,1] [,2] [,3]\n",
       "[1,] 250  -26   48 \n",
       "[2,] -26  305  -76 \n",
       "[3,]  48  -76   26 "
      ]
     },
     "metadata": {},
     "output_type": "display_data"
    }
   ],
   "source": [
    "A %*% sigma %*% t(A)"
   ]
  },
  {
   "cell_type": "code",
   "execution_count": null,
   "id": "1c634db6",
   "metadata": {
    "vscode": {
     "languageId": "r"
    }
   },
   "outputs": [],
   "source": []
  }
 ],
 "metadata": {
  "kernelspec": {
   "display_name": "R",
   "language": "R",
   "name": "ir"
  },
  "language_info": {
   "codemirror_mode": "r",
   "file_extension": ".r",
   "mimetype": "text/x-r-source",
   "name": "R",
   "pygments_lexer": "r",
   "version": "4.1.3"
  }
 },
 "nbformat": 4,
 "nbformat_minor": 5
}
