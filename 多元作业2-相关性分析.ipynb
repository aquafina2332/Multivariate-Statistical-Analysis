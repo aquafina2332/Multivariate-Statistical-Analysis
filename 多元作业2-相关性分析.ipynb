{
 "cells": [
  {
   "cell_type": "markdown",
   "id": "cd992430",
   "metadata": {},
   "source": [
    "# 基于31个样本体能测试数据集的相关性分析案例"
   ]
  },
  {
   "cell_type": "markdown",
   "id": "0faede0e",
   "metadata": {},
   "source": [
    "### 1.读取数据并计算协差阵和相关阵"
   ]
  },
  {
   "cell_type": "code",
   "execution_count": 7,
   "id": "67a4fa30",
   "metadata": {
    "vscode": {
     "languageId": "r"
    }
   },
   "outputs": [
    {
     "data": {
      "text/html": [
       "<table class=\"dataframe\">\n",
       "<caption>A tibble: 6 × 7</caption>\n",
       "<thead>\n",
       "\t<tr><th scope=col>年龄</th><th scope=col>体重</th><th scope=col>肺活量</th><th scope=col>1.5英里跑的时间</th><th scope=col>休息时的脉搏</th><th scope=col>跑步时的脉搏</th><th scope=col>跑步时的最大脉搏</th></tr>\n",
       "\t<tr><th scope=col>&lt;dbl&gt;</th><th scope=col>&lt;dbl&gt;</th><th scope=col>&lt;dbl&gt;</th><th scope=col>&lt;dbl&gt;</th><th scope=col>&lt;dbl&gt;</th><th scope=col>&lt;dbl&gt;</th><th scope=col>&lt;dbl&gt;</th></tr>\n",
       "</thead>\n",
       "<tbody>\n",
       "\t<tr><td>44</td><td>89.47</td><td>44.609</td><td>11.37</td><td>62</td><td>178</td><td>182</td></tr>\n",
       "\t<tr><td>40</td><td>75.07</td><td>45.313</td><td>10.07</td><td>62</td><td>185</td><td>185</td></tr>\n",
       "\t<tr><td>44</td><td>85.84</td><td>54.297</td><td> 8.65</td><td>45</td><td>156</td><td>168</td></tr>\n",
       "\t<tr><td>42</td><td>68.15</td><td>59.571</td><td> 8.17</td><td>40</td><td>166</td><td>172</td></tr>\n",
       "\t<tr><td>38</td><td>89.02</td><td>49.874</td><td> 9.22</td><td>55</td><td>178</td><td>180</td></tr>\n",
       "\t<tr><td>47</td><td>77.45</td><td>44.811</td><td>11.63</td><td>58</td><td>176</td><td>176</td></tr>\n",
       "</tbody>\n",
       "</table>\n"
      ],
      "text/latex": [
       "A tibble: 6 × 7\n",
       "\\begin{tabular}{lllllll}\n",
       " 年龄 & 体重 & 肺活量 & 1.5英里跑的时间 & 休息时的脉搏 & 跑步时的脉搏 & 跑步时的最大脉搏\\\\\n",
       " <dbl> & <dbl> & <dbl> & <dbl> & <dbl> & <dbl> & <dbl>\\\\\n",
       "\\hline\n",
       "\t 44 & 89.47 & 44.609 & 11.37 & 62 & 178 & 182\\\\\n",
       "\t 40 & 75.07 & 45.313 & 10.07 & 62 & 185 & 185\\\\\n",
       "\t 44 & 85.84 & 54.297 &  8.65 & 45 & 156 & 168\\\\\n",
       "\t 42 & 68.15 & 59.571 &  8.17 & 40 & 166 & 172\\\\\n",
       "\t 38 & 89.02 & 49.874 &  9.22 & 55 & 178 & 180\\\\\n",
       "\t 47 & 77.45 & 44.811 & 11.63 & 58 & 176 & 176\\\\\n",
       "\\end{tabular}\n"
      ],
      "text/markdown": [
       "\n",
       "A tibble: 6 × 7\n",
       "\n",
       "| 年龄 &lt;dbl&gt; | 体重 &lt;dbl&gt; | 肺活量 &lt;dbl&gt; | 1.5英里跑的时间 &lt;dbl&gt; | 休息时的脉搏 &lt;dbl&gt; | 跑步时的脉搏 &lt;dbl&gt; | 跑步时的最大脉搏 &lt;dbl&gt; |\n",
       "|---|---|---|---|---|---|---|\n",
       "| 44 | 89.47 | 44.609 | 11.37 | 62 | 178 | 182 |\n",
       "| 40 | 75.07 | 45.313 | 10.07 | 62 | 185 | 185 |\n",
       "| 44 | 85.84 | 54.297 |  8.65 | 45 | 156 | 168 |\n",
       "| 42 | 68.15 | 59.571 |  8.17 | 40 | 166 | 172 |\n",
       "| 38 | 89.02 | 49.874 |  9.22 | 55 | 178 | 180 |\n",
       "| 47 | 77.45 | 44.811 | 11.63 | 58 | 176 | 176 |\n",
       "\n"
      ],
      "text/plain": [
       "  年龄 体重  肺活量 1.5英里跑的时间 休息时的脉搏 跑步时的脉搏 跑步时的最大脉搏\n",
       "1 44   89.47 44.609 11.37           62           178          182             \n",
       "2 40   75.07 45.313 10.07           62           185          185             \n",
       "3 44   85.84 54.297  8.65           45           156          168             \n",
       "4 42   68.15 59.571  8.17           40           166          172             \n",
       "5 38   89.02 49.874  9.22           55           178          180             \n",
       "6 47   77.45 44.811 11.63           58           176          176             "
      ]
     },
     "metadata": {},
     "output_type": "display_data"
    }
   ],
   "source": [
    "# 读取数据\n",
    "# 数据源自上海财经大学云文档网站，是本书的配套数据\n",
    "library(readxl)\n",
    "data = read_excel('.//AMSA_data//《应用多元统计分析》（第6版）Excel数据//examp3.4.2.xlsx')\n",
    "head(data) #查看前几行"
   ]
  },
  {
   "cell_type": "code",
   "execution_count": 4,
   "id": "ceaeda72",
   "metadata": {
    "vscode": {
     "languageId": "r"
    }
   },
   "outputs": [
    {
     "data": {
      "text/html": [
       "<table class=\"dataframe\">\n",
       "<caption>A matrix: 7 × 7 of type dbl</caption>\n",
       "<thead>\n",
       "\t<tr><th></th><th scope=col>年龄</th><th scope=col>体重</th><th scope=col>肺活量</th><th scope=col>1.5英里跑的时间</th><th scope=col>休息时的脉搏</th><th scope=col>跑步时的脉搏</th><th scope=col>跑步时的最大脉搏</th></tr>\n",
       "</thead>\n",
       "<tbody>\n",
       "\t<tr><th scope=row>年龄</th><td> 27.159140</td><td>-10.136495</td><td> -8.456265</td><td> 1.364710</td><td> -6.119355</td><td>-18.051613</td><td>-20.675269</td></tr>\n",
       "\t<tr><th scope=row>体重</th><td>-10.136495</td><td> 69.365039</td><td> -7.221051</td><td> 1.658255</td><td>  1.568204</td><td> 15.498656</td><td> 19.033720</td></tr>\n",
       "\t<tr><th scope=row>肺活量</th><td> -8.456265</td><td> -7.221051</td><td> 28.379385</td><td>-6.372547</td><td>-15.306418</td><td>-21.735238</td><td>-11.557478</td></tr>\n",
       "\t<tr><th scope=row>1.5英里跑的时间</th><td>  1.364710</td><td>  1.658255</td><td> -6.372547</td><td> 1.924918</td><td>  4.609301</td><td>  4.461247</td><td>  2.874763</td></tr>\n",
       "\t<tr><th scope=row>休息时的脉搏</th><td> -6.119355</td><td>  1.568204</td><td>-15.306418</td><td> 4.609301</td><td> 68.797849</td><td> 27.038710</td><td> 19.573118</td></tr>\n",
       "\t<tr><th scope=row>跑步时的脉搏</th><td>-18.051613</td><td> 15.498656</td><td>-21.735238</td><td> 4.461247</td><td> 27.038710</td><td>105.103226</td><td> 87.350538</td></tr>\n",
       "\t<tr><th scope=row>跑步时的最大脉搏</th><td>-20.675269</td><td> 19.033720</td><td>-11.557478</td><td> 2.874763</td><td> 19.573118</td><td> 87.350538</td><td> 83.980645</td></tr>\n",
       "</tbody>\n",
       "</table>\n"
      ],
      "text/latex": [
       "A matrix: 7 × 7 of type dbl\n",
       "\\begin{tabular}{r|lllllll}\n",
       "  & 年龄 & 体重 & 肺活量 & 1.5英里跑的时间 & 休息时的脉搏 & 跑步时的脉搏 & 跑步时的最大脉搏\\\\\n",
       "\\hline\n",
       "\t年龄 &  27.159140 & -10.136495 &  -8.456265 &  1.364710 &  -6.119355 & -18.051613 & -20.675269\\\\\n",
       "\t体重 & -10.136495 &  69.365039 &  -7.221051 &  1.658255 &   1.568204 &  15.498656 &  19.033720\\\\\n",
       "\t肺活量 &  -8.456265 &  -7.221051 &  28.379385 & -6.372547 & -15.306418 & -21.735238 & -11.557478\\\\\n",
       "\t1.5英里跑的时间 &   1.364710 &   1.658255 &  -6.372547 &  1.924918 &   4.609301 &   4.461247 &   2.874763\\\\\n",
       "\t休息时的脉搏 &  -6.119355 &   1.568204 & -15.306418 &  4.609301 &  68.797849 &  27.038710 &  19.573118\\\\\n",
       "\t跑步时的脉搏 & -18.051613 &  15.498656 & -21.735238 &  4.461247 &  27.038710 & 105.103226 &  87.350538\\\\\n",
       "\t跑步时的最大脉搏 & -20.675269 &  19.033720 & -11.557478 &  2.874763 &  19.573118 &  87.350538 &  83.980645\\\\\n",
       "\\end{tabular}\n"
      ],
      "text/markdown": [
       "\n",
       "A matrix: 7 × 7 of type dbl\n",
       "\n",
       "| <!--/--> | 年龄 | 体重 | 肺活量 | 1.5英里跑的时间 | 休息时的脉搏 | 跑步时的脉搏 | 跑步时的最大脉搏 |\n",
       "|---|---|---|---|---|---|---|---|\n",
       "| 年龄 |  27.159140 | -10.136495 |  -8.456265 |  1.364710 |  -6.119355 | -18.051613 | -20.675269 |\n",
       "| 体重 | -10.136495 |  69.365039 |  -7.221051 |  1.658255 |   1.568204 |  15.498656 |  19.033720 |\n",
       "| 肺活量 |  -8.456265 |  -7.221051 |  28.379385 | -6.372547 | -15.306418 | -21.735238 | -11.557478 |\n",
       "| 1.5英里跑的时间 |   1.364710 |   1.658255 |  -6.372547 |  1.924918 |   4.609301 |   4.461247 |   2.874763 |\n",
       "| 休息时的脉搏 |  -6.119355 |   1.568204 | -15.306418 |  4.609301 |  68.797849 |  27.038710 |  19.573118 |\n",
       "| 跑步时的脉搏 | -18.051613 |  15.498656 | -21.735238 |  4.461247 |  27.038710 | 105.103226 |  87.350538 |\n",
       "| 跑步时的最大脉搏 | -20.675269 |  19.033720 | -11.557478 |  2.874763 |  19.573118 |  87.350538 |  83.980645 |\n",
       "\n"
      ],
      "text/plain": [
       "                 年龄       体重       肺活量     1.5英里跑的时间 休息时的脉搏\n",
       "年龄              27.159140 -10.136495  -8.456265  1.364710        -6.119355  \n",
       "体重             -10.136495  69.365039  -7.221051  1.658255         1.568204  \n",
       "肺活量            -8.456265  -7.221051  28.379385 -6.372547       -15.306418  \n",
       "1.5英里跑的时间    1.364710   1.658255  -6.372547  1.924918         4.609301  \n",
       "休息时的脉搏      -6.119355   1.568204 -15.306418  4.609301        68.797849  \n",
       "跑步时的脉搏     -18.051613  15.498656 -21.735238  4.461247        27.038710  \n",
       "跑步时的最大脉搏 -20.675269  19.033720 -11.557478  2.874763        19.573118  \n",
       "                 跑步时的脉搏 跑步时的最大脉搏\n",
       "年龄             -18.051613   -20.675269      \n",
       "体重              15.498656    19.033720      \n",
       "肺活量           -21.735238   -11.557478      \n",
       "1.5英里跑的时间    4.461247     2.874763      \n",
       "休息时的脉搏      27.038710    19.573118      \n",
       "跑步时的脉搏     105.103226    87.350538      \n",
       "跑步时的最大脉搏  87.350538    83.980645      "
      ]
     },
     "metadata": {},
     "output_type": "display_data"
    }
   ],
   "source": [
    "# 协方差矩阵\n",
    "cov(data)"
   ]
  },
  {
   "cell_type": "code",
   "execution_count": 6,
   "id": "e9156e1d",
   "metadata": {
    "vscode": {
     "languageId": "r"
    }
   },
   "outputs": [
    {
     "data": {
      "text/html": [
       "<table class=\"dataframe\">\n",
       "<caption>A matrix: 7 × 7 of type dbl</caption>\n",
       "<thead>\n",
       "\t<tr><th></th><th scope=col>年龄</th><th scope=col>体重</th><th scope=col>肺活量</th><th scope=col>1.5英里跑的时间</th><th scope=col>休息时的脉搏</th><th scope=col>跑步时的脉搏</th><th scope=col>跑步时的最大脉搏</th></tr>\n",
       "</thead>\n",
       "<tbody>\n",
       "\t<tr><th scope=row>年龄</th><td> 1.0000000</td><td>-0.23353903</td><td>-0.3045924</td><td> 0.1887453</td><td>-0.14156640</td><td>-0.3378703</td><td>-0.4329159</td></tr>\n",
       "\t<tr><th scope=row>体重</th><td>-0.2335390</td><td> 1.00000000</td><td>-0.1627528</td><td> 0.1435076</td><td> 0.02270099</td><td> 0.1815163</td><td> 0.2493812</td></tr>\n",
       "\t<tr><th scope=row>肺活量</th><td>-0.3045924</td><td>-0.16275285</td><td> 1.0000000</td><td>-0.8621949</td><td>-0.34640540</td><td>-0.3979742</td><td>-0.2367402</td></tr>\n",
       "\t<tr><th scope=row>1.5英里跑的时间</th><td> 0.1887453</td><td> 0.14350758</td><td>-0.8621949</td><td> 1.0000000</td><td> 0.40053599</td><td> 0.3136478</td><td> 0.2261030</td></tr>\n",
       "\t<tr><th scope=row>休息时的脉搏</th><td>-0.1415664</td><td> 0.02270099</td><td>-0.3464054</td><td> 0.4005360</td><td> 1.00000000</td><td> 0.3179732</td><td> 0.2575034</td></tr>\n",
       "\t<tr><th scope=row>跑步时的脉搏</th><td>-0.3378703</td><td> 0.18151633</td><td>-0.3979742</td><td> 0.3136478</td><td> 0.31797319</td><td> 1.0000000</td><td> 0.9297538</td></tr>\n",
       "\t<tr><th scope=row>跑步时的最大脉搏</th><td>-0.4329159</td><td> 0.24938123</td><td>-0.2367402</td><td> 0.2261030</td><td> 0.25750341</td><td> 0.9297538</td><td> 1.0000000</td></tr>\n",
       "</tbody>\n",
       "</table>\n"
      ],
      "text/latex": [
       "A matrix: 7 × 7 of type dbl\n",
       "\\begin{tabular}{r|lllllll}\n",
       "  & 年龄 & 体重 & 肺活量 & 1.5英里跑的时间 & 休息时的脉搏 & 跑步时的脉搏 & 跑步时的最大脉搏\\\\\n",
       "\\hline\n",
       "\t年龄 &  1.0000000 & -0.23353903 & -0.3045924 &  0.1887453 & -0.14156640 & -0.3378703 & -0.4329159\\\\\n",
       "\t体重 & -0.2335390 &  1.00000000 & -0.1627528 &  0.1435076 &  0.02270099 &  0.1815163 &  0.2493812\\\\\n",
       "\t肺活量 & -0.3045924 & -0.16275285 &  1.0000000 & -0.8621949 & -0.34640540 & -0.3979742 & -0.2367402\\\\\n",
       "\t1.5英里跑的时间 &  0.1887453 &  0.14350758 & -0.8621949 &  1.0000000 &  0.40053599 &  0.3136478 &  0.2261030\\\\\n",
       "\t休息时的脉搏 & -0.1415664 &  0.02270099 & -0.3464054 &  0.4005360 &  1.00000000 &  0.3179732 &  0.2575034\\\\\n",
       "\t跑步时的脉搏 & -0.3378703 &  0.18151633 & -0.3979742 &  0.3136478 &  0.31797319 &  1.0000000 &  0.9297538\\\\\n",
       "\t跑步时的最大脉搏 & -0.4329159 &  0.24938123 & -0.2367402 &  0.2261030 &  0.25750341 &  0.9297538 &  1.0000000\\\\\n",
       "\\end{tabular}\n"
      ],
      "text/markdown": [
       "\n",
       "A matrix: 7 × 7 of type dbl\n",
       "\n",
       "| <!--/--> | 年龄 | 体重 | 肺活量 | 1.5英里跑的时间 | 休息时的脉搏 | 跑步时的脉搏 | 跑步时的最大脉搏 |\n",
       "|---|---|---|---|---|---|---|---|\n",
       "| 年龄 |  1.0000000 | -0.23353903 | -0.3045924 |  0.1887453 | -0.14156640 | -0.3378703 | -0.4329159 |\n",
       "| 体重 | -0.2335390 |  1.00000000 | -0.1627528 |  0.1435076 |  0.02270099 |  0.1815163 |  0.2493812 |\n",
       "| 肺活量 | -0.3045924 | -0.16275285 |  1.0000000 | -0.8621949 | -0.34640540 | -0.3979742 | -0.2367402 |\n",
       "| 1.5英里跑的时间 |  0.1887453 |  0.14350758 | -0.8621949 |  1.0000000 |  0.40053599 |  0.3136478 |  0.2261030 |\n",
       "| 休息时的脉搏 | -0.1415664 |  0.02270099 | -0.3464054 |  0.4005360 |  1.00000000 |  0.3179732 |  0.2575034 |\n",
       "| 跑步时的脉搏 | -0.3378703 |  0.18151633 | -0.3979742 |  0.3136478 |  0.31797319 |  1.0000000 |  0.9297538 |\n",
       "| 跑步时的最大脉搏 | -0.4329159 |  0.24938123 | -0.2367402 |  0.2261030 |  0.25750341 |  0.9297538 |  1.0000000 |\n",
       "\n"
      ],
      "text/plain": [
       "                 年龄       体重        肺活量     1.5英里跑的时间 休息时的脉搏\n",
       "年龄              1.0000000 -0.23353903 -0.3045924  0.1887453      -0.14156640 \n",
       "体重             -0.2335390  1.00000000 -0.1627528  0.1435076       0.02270099 \n",
       "肺活量           -0.3045924 -0.16275285  1.0000000 -0.8621949      -0.34640540 \n",
       "1.5英里跑的时间   0.1887453  0.14350758 -0.8621949  1.0000000       0.40053599 \n",
       "休息时的脉搏     -0.1415664  0.02270099 -0.3464054  0.4005360       1.00000000 \n",
       "跑步时的脉搏     -0.3378703  0.18151633 -0.3979742  0.3136478       0.31797319 \n",
       "跑步时的最大脉搏 -0.4329159  0.24938123 -0.2367402  0.2261030       0.25750341 \n",
       "                 跑步时的脉搏 跑步时的最大脉搏\n",
       "年龄             -0.3378703   -0.4329159      \n",
       "体重              0.1815163    0.2493812      \n",
       "肺活量           -0.3979742   -0.2367402      \n",
       "1.5英里跑的时间   0.3136478    0.2261030      \n",
       "休息时的脉搏      0.3179732    0.2575034      \n",
       "跑步时的脉搏      1.0000000    0.9297538      \n",
       "跑步时的最大脉搏  0.9297538    1.0000000      "
      ]
     },
     "metadata": {},
     "output_type": "display_data"
    }
   ],
   "source": [
    "# 相关系数矩阵\n",
    "cor(data)"
   ]
  },
  {
   "cell_type": "markdown",
   "id": "bc5ad211",
   "metadata": {},
   "source": [
    "### 2.基于数据可视化的统计分析"
   ]
  },
  {
   "cell_type": "code",
   "execution_count": 8,
   "id": "062017b1",
   "metadata": {
    "vscode": {
     "languageId": "r"
    }
   },
   "outputs": [
    {
     "name": "stderr",
     "output_type": "stream",
     "text": [
      "corrplot 0.92 loaded\n",
      "\n"
     ]
    },
    {
     "data": {
      "image/png": "[encoded data removed]",
      "text/plain": [
       "Plot with title \"\""
      ]
     },
     "metadata": {
      "image/png": {
       "height": 420,
       "width": 420
      }
     },
     "output_type": "display_data"
    }
   ],
   "source": [
    "# 对相关系数矩阵进行可视化分析\n",
    "# 绘制热力图\n",
    "b<-cor(data)\n",
    "library(\"corrplot\")\n",
    "col=colorRampPalette(c(\"navy\", \"white\", \"firebrick3\"))\n",
    "corrplot(b,type=\"upper\",col=col(10),tl.pos=\"d\",tl.cex=0.75) \n",
    "corrplot(b,add=TRUE, type=\"lower\", method=\"number\",diag=FALSE,tl.pos=\"n\", cl.pos=\"n\",col=col(10))"
   ]
  },
  {
   "cell_type": "markdown",
   "id": "50bad9ba",
   "metadata": {},
   "source": [
    "图片的左下三角是对应变量的相关系数值，而上三角可以直观清晰地观察到（线性）相关性的大小。从图中可以得知，肺活量大小和1.5英里跑的时间呈较大的负相关性，而跑步时的脉搏和跑步时的最大脉搏呈现较强的正相关性。"
   ]
  },
  {
   "cell_type": "markdown",
   "id": "a96dd215",
   "metadata": {},
   "source": [
    "然而当样本容量很小时，计算出的相关系数不一定能反映总体的真实相关关系，而且，当总体不相关时，利用样本数据计算出的也不一定等于零，有时还可能较大，这就会产生虚假相关现象。为判断样本相关系数对总体相关程度的代表性，需要对相关系数进行显著性检验。若在统计上是显著的，说明它可以作为总体相关程度的代表值，否则不能作为总体相关程度的代表值。因此，这里我们也尝试用可视化的方法计算出fisher提出的t检验结果。"
   ]
  },
  {
   "cell_type": "code",
   "execution_count": 9,
   "id": "2f454b97",
   "metadata": {
    "vscode": {
     "languageId": "r"
    }
   },
   "outputs": [
    {
     "name": "stderr",
     "output_type": "stream",
     "text": [
      "Loading required package: xts\n",
      "\n",
      "Loading required package: zoo\n",
      "\n",
      "\n",
      "Attaching package: 'zoo'\n",
      "\n",
      "\n",
      "The following objects are masked from 'package:base':\n",
      "\n",
      "    as.Date, as.Date.numeric\n",
      "\n",
      "\n",
      "\n",
      "Attaching package: 'PerformanceAnalytics'\n",
      "\n",
      "\n",
      "The following object is masked from 'package:graphics':\n",
      "\n",
      "    legend\n",
      "\n",
      "\n"
     ]
    },
    {
     "data": {
      "image/png": "[encoded data removed]",
      "text/plain": [
       "Plot with title \"\""
      ]
     },
     "metadata": {
      "image/png": {
       "height": 420,
       "width": 420
      }
     },
     "output_type": "display_data"
    }
   ],
   "source": [
    "# 绘制特征分析图\n",
    "library(PerformanceAnalytics)\n",
    "chart.Correlation(data,histogram = TRUE,pch=19)"
   ]
  },
  {
   "cell_type": "markdown",
   "id": "7036c555",
   "metadata": {},
   "source": [
    "在该图的右上三角形中，两个‘*’表明检验P值小于0.01，三个‘*’表明P值小于0.001。因此我们有统计依据地认为肺活量大小和1.5英里跑的时间之间的负相关性和跑步时的脉搏和跑步时的最大脉搏呈现的正相关性是在统计上显著的。"
   ]
  },
  {
   "cell_type": "markdown",
   "id": "27cf7665",
   "metadata": {},
   "source": [
    "在该图的右下三角形中，我绘制了两两变量之间的散点图，可以清楚的看到，肺活量大小和1.5英里跑的时间两个变量组成的三点确集中分布于一条向右下倾斜的直线左右，而跑步时的脉搏和跑步时最大脉搏两个变量则同理。显然，这也是具有实际意义的。"
   ]
  },
  {
   "cell_type": "markdown",
   "id": "2d0b2a63",
   "metadata": {},
   "source": [
    "### 3.尝试使用计算互信息的方法"
   ]
  },
  {
   "cell_type": "markdown",
   "id": "c808a794",
   "metadata": {},
   "source": [
    "互信息描述了两个变量联合分布和两个边缘函数乘积的相对熵。这样的话，如果两个变量的相对熵是零的话，那么这两个变量就是相互独立的。"
   ]
  },
  {
   "cell_type": "code",
   "execution_count": 57,
   "id": "e886828c",
   "metadata": {
    "vscode": {
     "languageId": "r"
    }
   },
   "outputs": [
    {
     "name": "stdout",
     "output_type": "stream",
     "text": [
      "[1] 2.304172\n",
      "[1] 1.166723\n"
     ]
    }
   ],
   "source": [
    "# 计算互信息\n",
    "library(infotheo)\n",
    "mi<-function(mylist1,mylist2){\n",
    "  mylist1 = round(mylist1,0)  # 不是离散数据不能计算互信息，只好进行粗略估计\n",
    "  mylist2 = round(mylist2,0) \n",
    "  return(entropy(mylist1)+entropy(mylist2)-entropy(cbind(mylist1,mylist2)))\n",
    "}\n",
    "\n",
    "# 1尝试计算休息时脉搏和体重之间的互信息\n",
    "pvalue1 = mi(data[,2],data[,5])\n",
    "# 2尝试计算肺活量大小和1.5英里跑的时间之间的互信息\n",
    "pvalue2 = mi(data[,3],data[,4])\n",
    "\n",
    "print(pvalue1)\n",
    "print(pvalue2)"
   ]
  },
  {
   "cell_type": "markdown",
   "id": "f22c90c6",
   "metadata": {},
   "source": [
    "额，但是计算出来的数值非零，说明它们都不独立。"
   ]
  },
  {
   "cell_type": "markdown",
   "id": "49ea8a3a",
   "metadata": {},
   "source": [
    "### 4.总结"
   ]
  },
  {
   "cell_type": "markdown",
   "id": "6742d038",
   "metadata": {},
   "source": [
    "由于相关性系数矩阵可以通俗的理解为标准化了的协方差阵，因此我基于相关阵对数据进行了可视化分析，又考虑到了样本随机性的影响，引入fisher提出的相关系数显著性检验方法进行统计检验，在最后尝试了计算相对熵。最终我发现，肺活量大小和1.5英里跑的时间之间有强负相关性；跑步时的脉搏和跑步时的最大脉搏呈现强正相关性，这为我们的体育锻炼指导和体质测试安排提供了数理统计依据。"
   ]
  },
  {
   "cell_type": "markdown",
   "id": "38d5f7a7",
   "metadata": {},
   "source": [
    "参考文献\n",
    "\n",
    "[1] 贾俊平,何晓群,金勇进.统计学(第二版)[M].中国人民大学出版社,2004."
   ]
  }
 ],
 "metadata": {
  "kernelspec": {
   "display_name": "R",
   "language": "R",
   "name": "ir"
  },
  "language_info": {
   "codemirror_mode": "r",
   "file_extension": ".r",
   "mimetype": "text/x-r-source",
   "name": "R",
   "pygments_lexer": "r",
   "version": "4.1.3"
  }
 },
 "nbformat": 4,
 "nbformat_minor": 5
}
