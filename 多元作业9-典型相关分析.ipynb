{
 "cells": [
  {
   "cell_type": "markdown",
   "id": "52d15ec7",
   "metadata": {},
   "source": [
    "# 10.3 对长、次子头型数据的典型相关分析 "
   ]
  },
  {
   "cell_type": "markdown",
   "id": "efa07a34",
   "metadata": {},
   "source": [
    "<h1>目录<span class=\"tocSkip\"></span></h1>\n",
    "<div class=\"toc\"><li><span><a href=\"#引言\" data-toc-modified-id=\"引言-1\"><span class=\"toc-item-num\">1&nbsp;&nbsp;</span>引言</a></span></li><li><span><a href=\"#载入原始数据\" data-toc-modified-id=\"载入原始数据-2\"><span class=\"toc-item-num\">2&nbsp;&nbsp;</span>载入原始数据</a></span></li><li><span><a href=\"#典型相关分析\" data-toc-modified-id=\"典型相关分析-3\"><span class=\"toc-item-num\">3&nbsp;&nbsp;</span>典型相关分析</a></span><ul class=\"toc-item\"><li><span><a href=\"#数据标准化\" data-toc-modified-id=\"数据标准化-3.1\"><span class=\"toc-item-num\">3.1&nbsp;&nbsp;</span>数据标准化</a></span></li><li><span><a href=\"#典型相关系数与典型系数\" data-toc-modified-id=\"典型相关系数与典型系数-3.2\"><span class=\"toc-item-num\">3.2&nbsp;&nbsp;</span>典型相关系数与典型系数</a></span></li><li><span><a href=\"#原始变量与典型变量的样本相关系数\" data-toc-modified-id=\"原始变量与典型变量的样本相关系数-3.3\"><span class=\"toc-item-num\">3.3&nbsp;&nbsp;</span>原始变量与典型变量的样本相关系数</a></span></li><li><span><a href=\"#典型变量得分\" data-toc-modified-id=\"典型变量得分-3.4\"><span class=\"toc-item-num\">3.4&nbsp;&nbsp;</span>典型变量得分</a></span></li></<li><span><a href=\"#相关系数显著性检验\" data-toc-modified-id=\"相关系数显著性检验-4\"><span class=\"toc-item-num\">4&nbsp;&nbsp;</span>相关系数显著性检验</a></span></li><li><span><a href=\"#结论\" data-toc-modified-id=\"结论-5\"><span class=\"toc-item-num\">5&nbsp;&nbsp;</span>结论</a></span></li>"
   ]
  },
  {
   "cell_type": "markdown",
   "id": "8a4fd301",
   "metadata": {},
   "source": [
    "## 引言\n",
    "把线性回归和主成分分析问题推广到多个因变量和多个自变量，同时找因变量的若干线性组合与自变量的若干线性组合，使其组间成对的线性组合的相关性最强，组内的线性组合不相关，且尽可能保存原始变量信息，这就是**典型相关分析**。\n",
    "\n",
    "**基本分析步骤**如下：首先在每组变量中找出变量的线性组合，使其具有最大相关性，然后再每组变量中找出第二对线性组合，使其分别与第一对线性组合不相关，而第二对线性组合本身具有最大的相关性，如此继续下去，直到两组变量之间的相关性被提取完毕。\n",
    "\n",
    "本案例中的数据是25个家庭中成年长子和次子的头长和头宽，x1=长子头长，x2=长子头宽，y1=次子头长，y2=次子头宽。我们想要分析长子和次子的头型之间是否有相关关系。由于不能得到总体分布的信息，这里我们使用**样本典型相关分析法**。"
   ]
  },
  {
   "cell_type": "markdown",
   "id": "16583ba3",
   "metadata": {},
   "source": [
    "## 1.载入原始数据"
   ]
  },
  {
   "cell_type": "code",
   "execution_count": 7,
   "id": "111c71f8",
   "metadata": {
    "vscode": {
     "languageId": "r"
    }
   },
   "outputs": [
    {
     "data": {
      "text/html": [
       "<table class=\"dataframe\">\n",
       "<caption>A data.frame: 6 × 4</caption>\n",
       "<thead>\n",
       "\t<tr><th></th><th scope=col>x1</th><th scope=col>x2</th><th scope=col>y1</th><th scope=col>y2</th></tr>\n",
       "\t<tr><th></th><th scope=col>&lt;int&gt;</th><th scope=col>&lt;int&gt;</th><th scope=col>&lt;int&gt;</th><th scope=col>&lt;int&gt;</th></tr>\n",
       "</thead>\n",
       "<tbody>\n",
       "\t<tr><th scope=row>1</th><td>191</td><td>155</td><td>179</td><td>145</td></tr>\n",
       "\t<tr><th scope=row>2</th><td>195</td><td>149</td><td>201</td><td>152</td></tr>\n",
       "\t<tr><th scope=row>3</th><td>181</td><td>148</td><td>185</td><td>149</td></tr>\n",
       "\t<tr><th scope=row>4</th><td>183</td><td>153</td><td>188</td><td>149</td></tr>\n",
       "\t<tr><th scope=row>5</th><td>176</td><td>144</td><td>171</td><td>142</td></tr>\n",
       "\t<tr><th scope=row>6</th><td>208</td><td>157</td><td>192</td><td>152</td></tr>\n",
       "</tbody>\n",
       "</table>\n"
      ],
      "text/latex": [
       "A data.frame: 6 × 4\n",
       "\\begin{tabular}{r|llll}\n",
       "  & x1 & x2 & y1 & y2\\\\\n",
       "  & <int> & <int> & <int> & <int>\\\\\n",
       "\\hline\n",
       "\t1 & 191 & 155 & 179 & 145\\\\\n",
       "\t2 & 195 & 149 & 201 & 152\\\\\n",
       "\t3 & 181 & 148 & 185 & 149\\\\\n",
       "\t4 & 183 & 153 & 188 & 149\\\\\n",
       "\t5 & 176 & 144 & 171 & 142\\\\\n",
       "\t6 & 208 & 157 & 192 & 152\\\\\n",
       "\\end{tabular}\n"
      ],
      "text/markdown": [
       "\n",
       "A data.frame: 6 × 4\n",
       "\n",
       "| <!--/--> | x1 &lt;int&gt; | x2 &lt;int&gt; | y1 &lt;int&gt; | y2 &lt;int&gt; |\n",
       "|---|---|---|---|---|\n",
       "| 1 | 191 | 155 | 179 | 145 |\n",
       "| 2 | 195 | 149 | 201 | 152 |\n",
       "| 3 | 181 | 148 | 185 | 149 |\n",
       "| 4 | 183 | 153 | 188 | 149 |\n",
       "| 5 | 176 | 144 | 171 | 142 |\n",
       "| 6 | 208 | 157 | 192 | 152 |\n",
       "\n"
      ],
      "text/plain": [
       "  x1  x2  y1  y2 \n",
       "1 191 155 179 145\n",
       "2 195 149 201 152\n",
       "3 181 148 185 149\n",
       "4 183 153 188 149\n",
       "5 176 144 171 142\n",
       "6 208 157 192 152"
      ]
     },
     "metadata": {},
     "output_type": "display_data"
    }
   ],
   "source": [
    "data = read.table('.//AMSA_data//《应用多元统计分析》（第6版）文本数据（以逗号为间隔）//exec10.3.csv',header=TRUE, sep=\",\",row.names = 'i')\n",
    "head(data)\n",
    "p = 2; q = 2; m = min(p, q)\n",
    "colnames(data) = c('长子头长','长子头宽','次子头长','次子头宽')"
   ]
  },
  {
   "cell_type": "code",
   "execution_count": 2,
   "id": "1908833f",
   "metadata": {
    "vscode": {
     "languageId": "r"
    }
   },
   "outputs": [
    {
     "name": "stderr",
     "output_type": "stream",
     "text": [
      "corrplot 0.92 loaded\n",
      "\n"
     ]
    },
    {
     "data": {
      "image/png": "[encoded data removed]",
      "text/plain": [
       "Plot with title \"\""
      ]
     },
     "metadata": {
      "image/png": {
       "height": 420,
       "width": 420
      }
     },
     "output_type": "display_data"
    }
   ],
   "source": [
    "# 绘制热力图观察原始变量的相关性\n",
    "library(\"corrplot\")\n",
    "b = cor(as.matrix(data)) # 相关系数矩阵\n",
    "col = colorRampPalette(c(\"navy\", \"white\", \"firebrick3\"))\n",
    "corrplot(b,type = \"upper\",col = col(10),tl.pos = \"d\",tl.cex = 0.75) \n",
    "corrplot(b,add = TRUE, type = \"lower\", method = \"number\",diag = FALSE,tl.pos = \"n\", cl.pos = \"n\",col = col(10))"
   ]
  },
  {
   "cell_type": "markdown",
   "id": "4a713ffc",
   "metadata": {},
   "source": [
    "通过观察数据的结构，我们发现本案例的数据维数较低，每部分变量各自只有两个原始变量。通过绘制各个变量之间的相关系数图可知，两两变量之间均存在较大的正相关性。变量之间具有强相关性是显然的，可能是由于人的头部的形状比大致在某一个比例范围内，并且长次子均遗传于同一套基因，如果扣除这些因素的影响，相关性可能就没有这么强。这也说明了我们分析的仅是相关性而不是因果性。"
   ]
  },
  {
   "cell_type": "markdown",
   "id": "945296f1",
   "metadata": {},
   "source": [
    "## 2.典型相关分析"
   ]
  },
  {
   "cell_type": "markdown",
   "id": "e1980eda",
   "metadata": {},
   "source": [
    "### 2.1数据标准化"
   ]
  },
  {
   "cell_type": "markdown",
   "id": "cda17a42",
   "metadata": {},
   "source": [
    "假设得到了$X$和$Y$的$n$次独立观测数据。从数据可以估计$X$的方差阵${\\boldsymbol{\\Sigma}}_{11}$, $Y$的方差阵${\\boldsymbol{\\Sigma}}_{22}$, 以及$X$与$Y$的协方差阵${\\boldsymbol{\\Sigma}}_{12}$。\n",
    "\n",
    "如果从估计的方差和协方差去计算典型相关， 可能出现特征值不小于1的现象， 所以通常把每个分量的$n$个数据进行标准化， 然后基于$X$的相关阵估计$R_{11}$，$Y$的相关阵估计$R_{22}$和$X$与$Y$的相关系数阵的估计$R_{12}$来进行典型相关分析。 根据典型相关的线性变换不变性， 理论上与用原始数据的结果是一样的。"
   ]
  },
  {
   "cell_type": "code",
   "execution_count": 3,
   "id": "e3ca1bbf",
   "metadata": {
    "vscode": {
     "languageId": "r"
    }
   },
   "outputs": [],
   "source": [
    "Z = scale(data)  #数据标准化"
   ]
  },
  {
   "cell_type": "markdown",
   "id": "269299a0",
   "metadata": {},
   "source": [
    "### 2.2典型相关系数与典型系数"
   ]
  },
  {
   "cell_type": "markdown",
   "id": "f2150bec",
   "metadata": {},
   "source": [
    "一般地, 第 $\\mathrm{i}(1<\\mathrm{i} \\leq \\mathrm{m})$ 对典型变量 $\\mu_{i}=a^{\\prime} x, v_{i}=b^{\\prime} y$ 是指, 找出 $a \\in R^{p}, b \\in R^{q}$, 在约束条件\n",
    "\n",
    "$$\n",
    "a^{\\prime} \\Sigma_{11} a=1, b^{\\prime} \\Sigma_{22} b=1\n",
    "$$\n",
    "\n",
    "$$\n",
    "\\begin{aligned}\n",
    "& a^{\\prime} \\Sigma_{11} a_{k}=0, b^{\\prime} \\Sigma_{22} b_{k}=0, \\quad k=1,2, \\ldots, i-1\n",
    "\\end{aligned}\n",
    "$$\n",
    "\n",
    "下, 使得\n",
    "\n",
    "$$\n",
    "\\rho\\left(u_{i}, v_{i}\\right)=\\rho\\left(a^{\\prime} x, b^{\\prime} y\\right)=a^{\\prime} \\Sigma_{12} b\n",
    "$$\n",
    "\n",
    "达到最大。\n",
    "\n",
    "此时的最大值 $\\rho_{i}$ 称为第 $\\mathrm{i}$ 典型相关系数, 称 $a_{i}, b_{i}$ 为第 $\\mathrm{i}$ 对典型系数向量。"
   ]
  },
  {
   "cell_type": "code",
   "execution_count": 5,
   "id": "a12d83a4",
   "metadata": {
    "vscode": {
     "languageId": "r"
    }
   },
   "outputs": [
    {
     "data": {
      "text/html": [
       "<style>\n",
       ".list-inline {list-style: none; margin:0; padding: 0}\n",
       ".list-inline>li {display: inline-block}\n",
       ".list-inline>li:not(:last-child)::after {content: \"\\00b7\"; padding: 0 .5ex}\n",
       "</style>\n",
       "<ol class=list-inline><li>0.7885</li><li>0.0537</li></ol>\n"
      ],
      "text/latex": [
       "\\begin{enumerate*}\n",
       "\\item 0.7885\n",
       "\\item 0.0537\n",
       "\\end{enumerate*}\n"
      ],
      "text/markdown": [
       "1. 0.7885\n",
       "2. 0.0537\n",
       "\n",
       "\n"
      ],
      "text/plain": [
       "[1] 0.7885 0.0537"
      ]
     },
     "metadata": {},
     "output_type": "display_data"
    }
   ],
   "source": [
    "# install.packages(\"CCA\")\n",
    "library(CCA)\n",
    "cc = cc(Z[, 1:p], Z[, (p+1):(p+q)])  #典型相关分析\n",
    "round(cc$cor,4) #典型相关系数"
   ]
  },
  {
   "cell_type": "markdown",
   "id": "af20b18f",
   "metadata": {},
   "source": [
    "可以看到，第一对典型变量的相关系数很大，两组变量之间的相关性明显。而第二对典型变量的相关系数非常小，对于信息的提取帮助不大，因此我们可以认为只使用第一对典型变量代表两组变量是合适的。但是我们还需要借助相关系数系数的显著性检验进行辅助判断，见后文。"
   ]
  },
  {
   "cell_type": "code",
   "execution_count": 8,
   "id": "d85ba975",
   "metadata": {
    "vscode": {
     "languageId": "r"
    }
   },
   "outputs": [
    {
     "data": {
      "text/html": [
       "<table class=\"dataframe\">\n",
       "<caption>A matrix: 2 × 2 of type dbl</caption>\n",
       "<thead>\n",
       "\t<tr><th></th><th scope=col>u1</th><th scope=col>u2</th></tr>\n",
       "</thead>\n",
       "<tbody>\n",
       "\t<tr><th scope=row>长子头长</th><td>-0.552</td><td>-1.366</td></tr>\n",
       "\t<tr><th scope=row>长子头宽</th><td>-0.522</td><td> 1.378</td></tr>\n",
       "</tbody>\n",
       "</table>\n"
      ],
      "text/latex": [
       "A matrix: 2 × 2 of type dbl\n",
       "\\begin{tabular}{r|ll}\n",
       "  & u1 & u2\\\\\n",
       "\\hline\n",
       "\t长子头长 & -0.552 & -1.366\\\\\n",
       "\t长子头宽 & -0.522 &  1.378\\\\\n",
       "\\end{tabular}\n"
      ],
      "text/markdown": [
       "\n",
       "A matrix: 2 × 2 of type dbl\n",
       "\n",
       "| <!--/--> | u1 | u2 |\n",
       "|---|---|---|\n",
       "| 长子头长 | -0.552 | -1.366 |\n",
       "| 长子头宽 | -0.522 |  1.378 |\n",
       "\n"
      ],
      "text/plain": [
       "         u1     u2    \n",
       "长子头长 -0.552 -1.366\n",
       "长子头宽 -0.522  1.378"
      ]
     },
     "metadata": {},
     "output_type": "display_data"
    },
    {
     "data": {
      "text/html": [
       "<table class=\"dataframe\">\n",
       "<caption>A matrix: 2 × 2 of type dbl</caption>\n",
       "<thead>\n",
       "\t<tr><th></th><th scope=col>v1</th><th scope=col>v2</th></tr>\n",
       "</thead>\n",
       "<tbody>\n",
       "\t<tr><th scope=row>次子头长</th><td>-0.504</td><td>-1.769</td></tr>\n",
       "\t<tr><th scope=row>次子头宽</th><td>-0.538</td><td> 1.759</td></tr>\n",
       "</tbody>\n",
       "</table>\n"
      ],
      "text/latex": [
       "A matrix: 2 × 2 of type dbl\n",
       "\\begin{tabular}{r|ll}\n",
       "  & v1 & v2\\\\\n",
       "\\hline\n",
       "\t次子头长 & -0.504 & -1.769\\\\\n",
       "\t次子头宽 & -0.538 &  1.759\\\\\n",
       "\\end{tabular}\n"
      ],
      "text/markdown": [
       "\n",
       "A matrix: 2 × 2 of type dbl\n",
       "\n",
       "| <!--/--> | v1 | v2 |\n",
       "|---|---|---|\n",
       "| 次子头长 | -0.504 | -1.769 |\n",
       "| 次子头宽 | -0.538 |  1.759 |\n",
       "\n"
      ],
      "text/plain": [
       "         v1     v2    \n",
       "次子头长 -0.504 -1.769\n",
       "次子头宽 -0.538  1.759"
      ]
     },
     "metadata": {},
     "output_type": "display_data"
    }
   ],
   "source": [
    "uname = paste(\"u\", 1:m, sep = \"\")\n",
    "vname = paste(\"v\", 1:m, sep = \"\")\n",
    "A = cc$xcoef  #x的典型系数\n",
    "colnames(A) = uname  #添加列名\n",
    "round(A, 3)\n",
    "\n",
    "B = cc$ycoef  #y的典型系数\n",
    "colnames(B) = vname\n",
    "round(B, 3) "
   ]
  },
  {
   "cell_type": "markdown",
   "id": "958f8892",
   "metadata": {},
   "source": [
    "因此，第一对样本典型变量为：\n",
    "$$u_{1}^{*}=-0.552 x_{1}^{*}-0.522\tx_{2}^{*}$$\n",
    "$$v_{1}^{*}=-0.504 y_{1}^{*}-0.538\ty_{2}^{*}$$\n",
    "\n",
    "第二对样本典型变量为：\n",
    "$$u_{2}^{*}=-1.366 x_{1}^{*}+1.378\tx_{2}^{*}$$\n",
    "$$v_{2}^{*}=-1.769 y_{1}^{*}+1.759\ty_{2}^{*}$$\n",
    "\n",
    "由于我们根据上述的分析选择了只使用第一对变量，这里我们就仅仅分析第一对样本典型变量的系数。显然的，这四个系数在数值上都非常相近。$u_{1}^{*}$代表了长子的头型的变量，$v_{1}^{*}$代表了次子的头型的变量，而各自的载荷又非常的相近，几乎都在-0.5左右，这说明人的头部的长度和宽度可以一起综合反映头的形状，而无分贡献率高低。也说明我们计算出来的典型变量能够较好地提取出原始变量的信息。"
   ]
  },
  {
   "cell_type": "markdown",
   "id": "6155904f",
   "metadata": {},
   "source": [
    "### 2.3原始变量与典型变量的样本相关系数"
   ]
  },
  {
   "cell_type": "markdown",
   "id": "b056b5a5",
   "metadata": {},
   "source": [
    "我们也可以从相关系数的角度来解释典型变量，原始变量与典型变量间的相关系数计算方法如下：\n",
    "\n",
    "记 $\\mathrm{A}=\\left(a_{1}, a_{2}, \\ldots, a_{m}\\right), \\mathrm{B}=\\left(b_{1}, b_{2}, \\ldots, b_{m}\\right)$, 则\n",
    "\n",
    "$$\n",
    "u=A^{\\prime} x, v=B^{\\prime} y\n",
    "$$\n",
    "\n",
    "则原始变量与典型变量之间的相关矩阵为\n",
    "\n",
    "$$\n",
    "\\begin{aligned}\n",
    "& \\rho(x, u)=D_{1}^{-1} \\Sigma_{11} A \\\\\n",
    "& \\rho(x, v)=D_{1}^{-1} \\Sigma_{12} B \\\\\n",
    "& \\rho(y, u)=D_{2}^{-1} \\Sigma_{21} A \\\\\n",
    "& \\rho(y, v)=D_{2}^{-1} \\Sigma_{22} B\n",
    "\\end{aligned}\n",
    "$$\n",
    "\n",
    "其中, $D_{1}=\\operatorname{diag}\\left(\\sqrt{V\\left(x_{1}\\right)}, \\ldots, \\sqrt{V\\left(x_{p}\\right)}\\right), \\quad D_{2}=\\operatorname{diag}\\left(\\sqrt{V\\left(y_{1}\\right)}, \\ldots, \\sqrt{V\\left(y_{q}\\right)}\\right)$"
   ]
  },
  {
   "cell_type": "code",
   "execution_count": 12,
   "id": "e0cd9579",
   "metadata": {
    "vscode": {
     "languageId": "r"
    }
   },
   "outputs": [
    {
     "data": {
      "text/html": [
       "<table class=\"dataframe\">\n",
       "<caption>A matrix: 2 × 2 of type dbl</caption>\n",
       "<thead>\n",
       "\t<tr><th></th><th scope=col>u1</th><th scope=col>u2</th></tr>\n",
       "</thead>\n",
       "<tbody>\n",
       "\t<tr><th scope=row>长子头长</th><td>-0.935</td><td>-0.354</td></tr>\n",
       "\t<tr><th scope=row>长子头宽</th><td>-0.927</td><td> 0.375</td></tr>\n",
       "</tbody>\n",
       "</table>\n"
      ],
      "text/latex": [
       "A matrix: 2 × 2 of type dbl\n",
       "\\begin{tabular}{r|ll}\n",
       "  & u1 & u2\\\\\n",
       "\\hline\n",
       "\t长子头长 & -0.935 & -0.354\\\\\n",
       "\t长子头宽 & -0.927 &  0.375\\\\\n",
       "\\end{tabular}\n"
      ],
      "text/markdown": [
       "\n",
       "A matrix: 2 × 2 of type dbl\n",
       "\n",
       "| <!--/--> | u1 | u2 |\n",
       "|---|---|---|\n",
       "| 长子头长 | -0.935 | -0.354 |\n",
       "| 长子头宽 | -0.927 |  0.375 |\n",
       "\n"
      ],
      "text/plain": [
       "         u1     u2    \n",
       "长子头长 -0.935 -0.354\n",
       "长子头宽 -0.927  0.375"
      ]
     },
     "metadata": {},
     "output_type": "display_data"
    },
    {
     "data": {
      "text/html": [
       "<table class=\"dataframe\">\n",
       "<caption>A matrix: 2 × 2 of type dbl</caption>\n",
       "<thead>\n",
       "\t<tr><th></th><th scope=col>u1</th><th scope=col>u2</th></tr>\n",
       "</thead>\n",
       "<tbody>\n",
       "\t<tr><th scope=row>次子头长</th><td>-0.754</td><td>-0.016</td></tr>\n",
       "\t<tr><th scope=row>次子头宽</th><td>-0.758</td><td> 0.015</td></tr>\n",
       "</tbody>\n",
       "</table>\n"
      ],
      "text/latex": [
       "A matrix: 2 × 2 of type dbl\n",
       "\\begin{tabular}{r|ll}\n",
       "  & u1 & u2\\\\\n",
       "\\hline\n",
       "\t次子头长 & -0.754 & -0.016\\\\\n",
       "\t次子头宽 & -0.758 &  0.015\\\\\n",
       "\\end{tabular}\n"
      ],
      "text/markdown": [
       "\n",
       "A matrix: 2 × 2 of type dbl\n",
       "\n",
       "| <!--/--> | u1 | u2 |\n",
       "|---|---|---|\n",
       "| 次子头长 | -0.754 | -0.016 |\n",
       "| 次子头宽 | -0.758 |  0.015 |\n",
       "\n"
      ],
      "text/plain": [
       "         u1     u2    \n",
       "次子头长 -0.754 -0.016\n",
       "次子头宽 -0.758  0.015"
      ]
     },
     "metadata": {},
     "output_type": "display_data"
    },
    {
     "data": {
      "text/html": [
       "<table class=\"dataframe\">\n",
       "<caption>A matrix: 2 × 2 of type dbl</caption>\n",
       "<thead>\n",
       "\t<tr><th></th><th scope=col>v1</th><th scope=col>v2</th></tr>\n",
       "</thead>\n",
       "<tbody>\n",
       "\t<tr><th scope=row>长子头长</th><td>-0.737</td><td>-0.019</td></tr>\n",
       "\t<tr><th scope=row>长子头宽</th><td>-0.731</td><td> 0.020</td></tr>\n",
       "</tbody>\n",
       "</table>\n"
      ],
      "text/latex": [
       "A matrix: 2 × 2 of type dbl\n",
       "\\begin{tabular}{r|ll}\n",
       "  & v1 & v2\\\\\n",
       "\\hline\n",
       "\t长子头长 & -0.737 & -0.019\\\\\n",
       "\t长子头宽 & -0.731 &  0.020\\\\\n",
       "\\end{tabular}\n"
      ],
      "text/markdown": [
       "\n",
       "A matrix: 2 × 2 of type dbl\n",
       "\n",
       "| <!--/--> | v1 | v2 |\n",
       "|---|---|---|\n",
       "| 长子头长 | -0.737 | -0.019 |\n",
       "| 长子头宽 | -0.731 |  0.020 |\n",
       "\n"
      ],
      "text/plain": [
       "         v1     v2    \n",
       "长子头长 -0.737 -0.019\n",
       "长子头宽 -0.731  0.020"
      ]
     },
     "metadata": {},
     "output_type": "display_data"
    },
    {
     "data": {
      "text/html": [
       "<table class=\"dataframe\">\n",
       "<caption>A matrix: 2 × 2 of type dbl</caption>\n",
       "<thead>\n",
       "\t<tr><th></th><th scope=col>v1</th><th scope=col>v2</th></tr>\n",
       "</thead>\n",
       "<tbody>\n",
       "\t<tr><th scope=row>次子头长</th><td>-0.956</td><td>-0.293</td></tr>\n",
       "\t<tr><th scope=row>次子头宽</th><td>-0.962</td><td> 0.274</td></tr>\n",
       "</tbody>\n",
       "</table>\n"
      ],
      "text/latex": [
       "A matrix: 2 × 2 of type dbl\n",
       "\\begin{tabular}{r|ll}\n",
       "  & v1 & v2\\\\\n",
       "\\hline\n",
       "\t次子头长 & -0.956 & -0.293\\\\\n",
       "\t次子头宽 & -0.962 &  0.274\\\\\n",
       "\\end{tabular}\n"
      ],
      "text/markdown": [
       "\n",
       "A matrix: 2 × 2 of type dbl\n",
       "\n",
       "| <!--/--> | v1 | v2 |\n",
       "|---|---|---|\n",
       "| 次子头长 | -0.956 | -0.293 |\n",
       "| 次子头宽 | -0.962 |  0.274 |\n",
       "\n"
      ],
      "text/plain": [
       "         v1     v2    \n",
       "次子头长 -0.956 -0.293\n",
       "次子头宽 -0.962  0.274"
      ]
     },
     "metadata": {},
     "output_type": "display_data"
    }
   ],
   "source": [
    "Rxu = cc$scores$corr.X.xscores  #x和其典型变量之间的相关系数\n",
    "colnames(Rxu) = uname\n",
    "round(Rxu, 3) \n",
    "Ryu = cc$scores$corr.Y.xscores  #y和x的典型变量之间的相关系数\n",
    "colnames(Ryu) = uname\n",
    "round(Ryu, 3) \n",
    "Rxv = cc$scores$corr.X.yscores  #x和y的典型变量之间的相关系数\n",
    "colnames(Rxv) = vname\n",
    "round(Rxv, 3)\n",
    "Ryv = cc$scores$corr.Y.yscores  #计算y和其典型变量之间的相关系数\n",
    "colnames(Ryv) = vname \n",
    "round(Ryv, 3)"
   ]
  },
  {
   "cell_type": "markdown",
   "id": "b4448415",
   "metadata": {},
   "source": [
    "长子头宽和头长变量与第一典型变量$u_{1}^{*}$、次子头宽和头长变量与$v_{1}^{*}$有大致相同的相关系数，约在-0.95左右；同样地，次子头宽和头长变量与第一典型变量$u_{1}^{*}$、长子头宽和头长变量与$v_{1}^{*}$有大致相同的相关系数，约在-0.75左右。因此，$u_{1}^{*}$较好地代表了长子的头型变量，$v_{1}^{*}$较好地代表了次子的头型变量，这与基于典型系数的解释基本一致。"
   ]
  },
  {
   "cell_type": "markdown",
   "id": "ac35571d",
   "metadata": {},
   "source": [
    "下面进行可视化分析。作所有原始变量与前两对典型变量得分的相关系数的散点图， 横坐标是与原始变量对应的$u_{1}^{*}$的第一典型系数， 纵坐标是$u_{1}^{*}$的典型系数。长子的头型变量为红色，次子的为蓝色。"
   ]
  },
  {
   "cell_type": "code",
   "execution_count": 13,
   "id": "df78160b",
   "metadata": {
    "vscode": {
     "languageId": "r"
    }
   },
   "outputs": [
    {
     "data": {
      "image/png": "[encoded data removed]",
      "text/plain": [
       "plot without title"
      ]
     },
     "metadata": {
      "image/png": {
       "height": 420,
       "width": 420
      }
     },
     "output_type": "display_data"
    }
   ],
   "source": [
    "plt.cc(cc, d1 = 1, d2 = 2, \n",
    "  type = \"v\", var.label = TRUE)"
   ]
  },
  {
   "cell_type": "markdown",
   "id": "bcd8ee3e",
   "metadata": {},
   "source": [
    "可以看到，代表长子头型的两个变量在第一维度上的取值大致相当，代表次子头型的两个变量在第二维度上的取值也大致相当。"
   ]
  },
  {
   "cell_type": "markdown",
   "id": "3c7dd5ce",
   "metadata": {},
   "source": [
    "### 2.4典型变量得分"
   ]
  },
  {
   "cell_type": "markdown",
   "id": "14163462",
   "metadata": {},
   "source": [
    "\n",
    "\n",
    "将样本 $\\left(x_{j}, y_{j}\\right), \\mathrm{j}=1,2, \\ldots, n$ 代入典型变量的定义公式, 有\n",
    "\n",
    "$$\n",
    "u_{j i}=\\hat{A}^{\\prime} x_{j}, \\quad v_{j i}=\\hat{B}^{\\prime} y_{j}, \\quad \\mathrm{j}=1,2, \\ldots, n, \\quad i=1,2, \\ldots, m\n",
    "$$\n",
    "\n",
    "分别称为第 $\\mathrm{j}$ 个样品的第 $\\mathrm{i}$ 对典型变量得分。\n",
    "\n",
    "我们还可以画出第一对典型变量得分 $\\left(u_{j 1}, v_{j 1}\\right), \\mathrm{j}=1,2, \\ldots, n$ 的散点图, 该图能最大限度地呈 现两组变量之间的相关性, 也可以用来检查是否有 (影响两组相关性的) 异常值出现。如需要, 可再画出第二对或更多对的典型变量得分散点图。"
   ]
  },
  {
   "cell_type": "code",
   "execution_count": 9,
   "id": "97b69ea8",
   "metadata": {
    "vscode": {
     "languageId": "r"
    }
   },
   "outputs": [
    {
     "data": {
      "text/html": [
       "<table class=\"dataframe\">\n",
       "<caption>A matrix: 6 × 4 of type dbl</caption>\n",
       "<thead>\n",
       "\t<tr><th></th><th scope=col>u1</th><th scope=col>u2</th><th scope=col>v1</th><th scope=col>v2</th></tr>\n",
       "</thead>\n",
       "<tbody>\n",
       "\t<tr><th scope=row>1</th><td>-0.573</td><td>-0.014</td><td> 0.583</td><td>-0.259</td></tr>\n",
       "\t<tr><th scope=row>2</th><td>-0.375</td><td>-1.695</td><td>-1.084</td><td>-2.299</td></tr>\n",
       "\t<tr><th scope=row>3</th><td> 0.488</td><td> 0.077</td><td>-0.039</td><td>-0.267</td></tr>\n",
       "\t<tr><th scope=row>4</th><td> 0.021</td><td> 0.732</td><td>-0.190</td><td>-0.796</td></tr>\n",
       "\t<tr><th scope=row>5</th><td> 1.053</td><td> 0.029</td><td> 1.226</td><td> 0.364</td></tr>\n",
       "\t<tr><th scope=row>6</th><td>-1.676</td><td>-2.019</td><td>-0.631</td><td>-0.714</td></tr>\n",
       "</tbody>\n",
       "</table>\n"
      ],
      "text/latex": [
       "A matrix: 6 × 4 of type dbl\n",
       "\\begin{tabular}{r|llll}\n",
       "  & u1 & u2 & v1 & v2\\\\\n",
       "\\hline\n",
       "\t1 & -0.573 & -0.014 &  0.583 & -0.259\\\\\n",
       "\t2 & -0.375 & -1.695 & -1.084 & -2.299\\\\\n",
       "\t3 &  0.488 &  0.077 & -0.039 & -0.267\\\\\n",
       "\t4 &  0.021 &  0.732 & -0.190 & -0.796\\\\\n",
       "\t5 &  1.053 &  0.029 &  1.226 &  0.364\\\\\n",
       "\t6 & -1.676 & -2.019 & -0.631 & -0.714\\\\\n",
       "\\end{tabular}\n"
      ],
      "text/markdown": [
       "\n",
       "A matrix: 6 × 4 of type dbl\n",
       "\n",
       "| <!--/--> | u1 | u2 | v1 | v2 |\n",
       "|---|---|---|---|---|\n",
       "| 1 | -0.573 | -0.014 |  0.583 | -0.259 |\n",
       "| 2 | -0.375 | -1.695 | -1.084 | -2.299 |\n",
       "| 3 |  0.488 |  0.077 | -0.039 | -0.267 |\n",
       "| 4 |  0.021 |  0.732 | -0.190 | -0.796 |\n",
       "| 5 |  1.053 |  0.029 |  1.226 |  0.364 |\n",
       "| 6 | -1.676 | -2.019 | -0.631 | -0.714 |\n",
       "\n"
      ],
      "text/plain": [
       "  u1     u2     v1     v2    \n",
       "1 -0.573 -0.014  0.583 -0.259\n",
       "2 -0.375 -1.695 -1.084 -2.299\n",
       "3  0.488  0.077 -0.039 -0.267\n",
       "4  0.021  0.732 -0.190 -0.796\n",
       "5  1.053  0.029  1.226  0.364\n",
       "6 -1.676 -2.019 -0.631 -0.714"
      ]
     },
     "metadata": {},
     "output_type": "display_data"
    }
   ],
   "source": [
    "u = cc$scores$xscores  #x的典型变量得分\n",
    "colnames(u) = uname\n",
    "v = cc$scores$yscores  #y的典型变量得分\n",
    "colnames(v) = vname\n",
    "head(round(cbind(u, v), 3))  #按列合并x和y的典型变量得分，仅仅展示前六列"
   ]
  },
  {
   "cell_type": "code",
   "execution_count": 47,
   "id": "5b7e3edb",
   "metadata": {
    "vscode": {
     "languageId": "r"
    }
   },
   "outputs": [
    {
     "data": {
      "image/png": "[encoded data removed]",
      "text/plain": [
       "plot without title"
      ]
     },
     "metadata": {
      "image/png": {
       "height": 420,
       "width": 420
      }
     },
     "output_type": "display_data"
    },
    {
     "data": {
      "image/png": "[encoded data removed]",
      "text/plain": [
       "plot without title"
      ]
     },
     "metadata": {
      "image/png": {
       "height": 420,
       "width": 420
      }
     },
     "output_type": "display_data"
    }
   ],
   "source": [
    "#画出以相关变量U1、V1和U2、V2为坐标的数据散点图\n",
    "plot(u[, 1], v[, 1], xlab = \"u1\", ylab = \"v1\", col=\"#00aeff\",pch=16 )  #作第一对典型变量得分的散点图\n",
    "text(u[, 1], v[, 1], row.names(data), pos = 4, cex = 0.7)  #为散点添标签\n",
    "plot(u[, 2], v[, 2], xlab = \"u2\", ylab = \"v2\", col=\"#00aeff\",pch=16)  #作第二对典型变量得分的散点图\n",
    "text(u[, 2], v[, 2], row.names(data), pos = 4, cex = 0.7)  #为散点添标签"
   ]
  },
  {
   "cell_type": "markdown",
   "id": "7b3833b9",
   "metadata": {},
   "source": [
    "由散点图可知，第一典型相关变量分布在一条直线附近，大致呈线性结构；而第二典型相关变量数据很分散，难以看出聚集性规律。与前文分析呼应，这是因为第一典型变量其相关系数为0.78，接近1，所以在一直线附近；而第二典型变量的相关系数是0.05，接近于0，所以很分散。因此根据可视化的分析，我们认为仅选择第一对变量进行分析是合理的。"
   ]
  },
  {
   "cell_type": "markdown",
   "id": "fd24198a",
   "metadata": {},
   "source": [
    "## 3.相关系数显著性检验"
   ]
  },
  {
   "cell_type": "markdown",
   "id": "584167c7",
   "metadata": {},
   "source": [
    "为确定选择多少对典型变量，需要做典型相关系数的显著性检验。若认为相关系数k为0 就没有必要考虑第k对典型变量了。\n",
    "\n",
    "以总体的检验为例。\n",
    "\n",
    "设$\\begin{array}{l c r}{{\\left(\\begin{array}{l}{{x}}\\\\ {{y}}\\end{array}\\right)\\sim N_{p+q}\\left(\\mu,\\Sigma\\right),\\Sigma\\gt 0}}\\end{array}$又设$S$为样本协差阵,且$n>p+q$. 考虑假设检验问题\n",
    "$$H_{0}:\\rho _{1}=\\rho _{2}=\\dots=\\rho _{m}=0  $$\n",
    "$$H_{1}:\\rho _{1}, \\rho _{2}, \\dots, \\rho _{m}  至少有一个不为零$$\n",
    "其中$m=min\\{pq\\}$。\n",
    "\n",
    "似然比检验统计量为\n",
    "$$\\Lambda_{1}=\\prod_{i=1}^{m}\\left(1-r_{i}^{2}\\right)$$\n",
    "\n",
    "对于充分大的$n$，当$H_{0}$成立时，统计量\n",
    "$$Q_{1}=-\\biggr[n-\\frac{1}{2}(p+q+3)\\biggr]\\ln \\Lambda_{1}\\stackrel{\\cdot}{\\sim}\\chi^{2}\\left(p q\\right)$$\n",
    "在给定的$a$下，若$Q_{1}\\geq\\,\\chi_{\\alpha}^{2}\\left(\\,p q\\,\\right)$，则拒绝$H_{0}$，认为典型变量$u_{1}$与$v_{1}$之间的相关性是显著的；否则，就认为第一个典型相关系数不显著。\n",
    "\n",
    "重复检验直到对某个$k$值$H_{0}$未被拒绝为止。事实上，检验的总显著性水平已不是$a$了，且易受样本容量大小的影响。因此，检验的结果只宜作为确定典型变量个数的重要参考依据，而不宜作为唯一的依据。通常选择尽可能小的$k$。"
   ]
  },
  {
   "cell_type": "code",
   "execution_count": 13,
   "id": "843a45f2",
   "metadata": {
    "vscode": {
     "languageId": "r"
    }
   },
   "outputs": [
    {
     "data": {
      "text/html": [
       "<table class=\"dataframe\">\n",
       "<caption>A data.frame: 2 × 3</caption>\n",
       "<thead>\n",
       "\t<tr><th scope=col>Q</th><th scope=col>df</th><th scope=col>pvalues</th></tr>\n",
       "\t<tr><th scope=col>&lt;dbl&gt;</th><th scope=col>&lt;dbl&gt;</th><th scope=col>&lt;dbl&gt;</th></tr>\n",
       "</thead>\n",
       "<tbody>\n",
       "\t<tr><td>20.96417998</td><td>4</td><td>0.0003218897</td></tr>\n",
       "\t<tr><td> 0.06218088</td><td>1</td><td>0.8030815916</td></tr>\n",
       "</tbody>\n",
       "</table>\n"
      ],
      "text/latex": [
       "A data.frame: 2 × 3\n",
       "\\begin{tabular}{lll}\n",
       " Q & df & pvalues\\\\\n",
       " <dbl> & <dbl> & <dbl>\\\\\n",
       "\\hline\n",
       "\t 20.96417998 & 4 & 0.0003218897\\\\\n",
       "\t  0.06218088 & 1 & 0.8030815916\\\\\n",
       "\\end{tabular}\n"
      ],
      "text/markdown": [
       "\n",
       "A data.frame: 2 × 3\n",
       "\n",
       "| Q &lt;dbl&gt; | df &lt;dbl&gt; | pvalues &lt;dbl&gt; |\n",
       "|---|---|---|\n",
       "| 20.96417998 | 4 | 0.0003218897 |\n",
       "|  0.06218088 | 1 | 0.8030815916 |\n",
       "\n"
      ],
      "text/plain": [
       "  Q           df pvalues     \n",
       "1 20.96417998 4  0.0003218897\n",
       "2  0.06218088 1  0.8030815916"
      ]
     },
     "metadata": {},
     "output_type": "display_data"
    }
   ],
   "source": [
    "# 编写函数进行典型相关分析显著性检验\n",
    "corcoef.test = function(r,n,p,q){ # r是相关系，n是样本量，p\\q是x\\y的向量个数\n",
    "    m = min(p,q) \n",
    "    Q = rep(0,m)\n",
    "    df = rep(0,m)\n",
    "    pvalues = rep(0,m)\n",
    "    lambda = 1\n",
    "    for (k in (m-1):0){\n",
    "        lambda = lambda*(1-r[k+1]^2) # 似然比检验统计量\n",
    "        Q[k+1] = -(n-(p+q+3)/2)*log(lambda)  # 每一个m都记录一次\n",
    "        df[k+1] = (p-k)*(q-k) # 卡方分布的自由度\n",
    "        pvalues[k+1] = 1-pchisq(Q[k+1],df[k+1]) # p值\n",
    "    }\n",
    "    data.frame(Q,df,pvalues)\n",
    "} \n",
    "\n",
    "corcoef.test(r = cc$cor, n = dim(data)[1], p = p, q = q)  #使用创建的函数进行检验"
   ]
  },
  {
   "cell_type": "markdown",
   "id": "067e14c9",
   "metadata": {},
   "source": [
    "从结果看出，检验第一对变量的相关系数时，p值远远小于0.05，因此拒绝原假设，认为这对典型变量之间的相关性是显著的，即认为两组变量之间有显著的线性相关性。并且也检验了我们前文分析时只使用第一对典型变量的有效性。"
   ]
  },
  {
   "cell_type": "markdown",
   "id": "36a8c4b4",
   "metadata": {},
   "source": [
    "## 结论"
   ]
  },
  {
   "cell_type": "markdown",
   "id": "eafa8d80",
   "metadata": {},
   "source": [
    "通过直观观察典型相关系数对比数值、绘制典型变量得分的散点图、进行相关系数显著性检验等分析，我们在分析时只使用第一对典型变量是有意义的。通过分析典型系数，我们也可以得到典型系数能综合提取原始变量的信息。因而，最终的分析结果是可靠的：长子和次子的头型之间存在显著的线性相关性。"
   ]
  }
 ],
 "metadata": {
  "kernelspec": {
   "display_name": "R",
   "language": "R",
   "name": "ir"
  },
  "language_info": {
   "codemirror_mode": "r",
   "file_extension": ".r",
   "mimetype": "text/x-r-source",
   "name": "R",
   "pygments_lexer": "r",
   "version": "4.1.3"
  },
  "toc": {
   "base_numbering": 1,
   "nav_menu": {},
   "number_sections": true,
   "sideBar": true,
   "skip_h1_title": false,
   "title_cell": "Table of Contents",
   "title_sidebar": "Contents",
   "toc_cell": true,
   "toc_position": {},
   "toc_section_display": true,
   "toc_window_display": true
  }
 },
 "nbformat": 4,
 "nbformat_minor": 5
}
