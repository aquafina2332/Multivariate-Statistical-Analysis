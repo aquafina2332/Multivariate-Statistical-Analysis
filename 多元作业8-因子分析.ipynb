{
 "cells": [
  {
   "cell_type": "markdown",
   "id": "13bd2caa",
   "metadata": {},
   "source": [
    "# 8.5 洛杉矶人口调查数据的因子分析"
   ]
  },
  {
   "cell_type": "markdown",
   "id": "2b822f25",
   "metadata": {},
   "source": [
    "<h1>目录<span class=\"tocSkip\"></span></h1>\n",
    "<ul class=\"toc-item\"><li><ul class=\"toc-item\"><li><span><a href=\"#引言\" data-toc-modified-id=\"引言-1\"><span class=\"toc-item-num\">1&nbsp;&nbsp;</span>引言</a></span></li><li><span><a href=\"#一、数据探索性分析\" data-toc-modified-id=\"一、数据探索性分析-2\"><span class=\"toc-item-num\">2&nbsp;&nbsp;</span>一、数据探索性分析</a></span></li><li><span><a href=\"#二、正交因子模型建立\" data-toc-modified-id=\"二、正交因子模型建立-3\"><span class=\"toc-item-num\">3&nbsp;&nbsp;</span>二、正交因子模型建立</a></span></li><li><span><a href=\"#三、使用主成分法求解模型\" data-toc-modified-id=\"三、使用主成分法求解模型-4\"><span class=\"toc-item-num\">4&nbsp;&nbsp;</span>三、使用主成分法求解模型</a></span></li><li><span><a href=\"#四、使用主因子法求解模型\" data-toc-modified-id=\"四、使用主因子法求解模型-5\"><span class=\"toc-item-num\">5&nbsp;&nbsp;</span>四、使用主因子法求解模型</a></span></li><li><span><a href=\"#五、使用极大似然法求解模型\" data-toc-modified-id=\"五、使用极大似然法求解模型-6\"><span class=\"toc-item-num\">6&nbsp;&nbsp;</span>五、使用极大似然法求解模型</a></span></li></ul></li></ul></li></ul></div>"
   ]
  },
  {
   "cell_type": "markdown",
   "id": "ed4f521e",
   "metadata": {},
   "source": [
    "### 引言"
   ]
  },
  {
   "cell_type": "markdown",
   "id": "c2e857e0",
   "metadata": {},
   "source": [
    "因子分析也是一种重要的降维方法，与主成分分析法相比，它的可解释性更强，通常能够通过因子旋转对提取的因子给出较为符合实际背景和意义的解释。因子分析的主要目的是用几个潜在的、不可观测的随机变量（即因子）来描述原始变量间的协方差关系或相关关系。需要注意的是，因子往往不能表示为原始变量的线性组合，并且往往会随着模型中因子个数的变化而不同。\n",
    "\n",
    "本案例的数据是对洛杉矶12个标准大都市居民统计地区中进行人口调查获得的，它有五个社会经济变量，分别是人口总数、教育水平、佣人总数、服务业人数、房价水平。下面我们通过这个案例对因子分析方法的操作进行展示。"
   ]
  },
  {
   "cell_type": "markdown",
   "id": "43d21446",
   "metadata": {},
   "source": [
    "### 一、数据探索性分析"
   ]
  },
  {
   "cell_type": "code",
   "execution_count": 28,
   "id": "0e43ee17",
   "metadata": {
    "vscode": {
     "languageId": "r"
    }
   },
   "outputs": [
    {
     "data": {
      "text/html": [
       "<table class=\"dataframe\">\n",
       "<caption>A data.frame: 6 × 5</caption>\n",
       "<thead>\n",
       "\t<tr><th></th><th scope=col>人口总数</th><th scope=col>居民的教育程度或教育年数的中位数</th><th scope=col>佣人总数</th><th scope=col>各种服务行业的人数</th><th scope=col>房价中位数</th></tr>\n",
       "\t<tr><th></th><th scope=col>&lt;int&gt;</th><th scope=col>&lt;dbl&gt;</th><th scope=col>&lt;int&gt;</th><th scope=col>&lt;int&gt;</th><th scope=col>&lt;int&gt;</th></tr>\n",
       "</thead>\n",
       "<tbody>\n",
       "\t<tr><th scope=row>1</th><td>5700</td><td>12.8</td><td>2500</td><td>270</td><td>25000</td></tr>\n",
       "\t<tr><th scope=row>2</th><td>1000</td><td>10.9</td><td> 600</td><td> 10</td><td>10000</td></tr>\n",
       "\t<tr><th scope=row>3</th><td>3400</td><td> 8.8</td><td>1000</td><td> 10</td><td> 9000</td></tr>\n",
       "\t<tr><th scope=row>4</th><td>3800</td><td>13.6</td><td>1700</td><td>140</td><td>25000</td></tr>\n",
       "\t<tr><th scope=row>5</th><td>4000</td><td>12.8</td><td>1600</td><td>140</td><td>25000</td></tr>\n",
       "\t<tr><th scope=row>6</th><td>8200</td><td> 8.3</td><td>2600</td><td> 60</td><td>12000</td></tr>\n",
       "</tbody>\n",
       "</table>\n"
      ],
      "text/latex": [
       "A data.frame: 6 × 5\n",
       "\\begin{tabular}{r|lllll}\n",
       "  & 人口总数 & 居民的教育程度或教育年数的中位数 & 佣人总数 & 各种服务行业的人数 & 房价中位数\\\\\n",
       "  & <int> & <dbl> & <int> & <int> & <int>\\\\\n",
       "\\hline\n",
       "\t1 & 5700 & 12.8 & 2500 & 270 & 25000\\\\\n",
       "\t2 & 1000 & 10.9 &  600 &  10 & 10000\\\\\n",
       "\t3 & 3400 &  8.8 & 1000 &  10 &  9000\\\\\n",
       "\t4 & 3800 & 13.6 & 1700 & 140 & 25000\\\\\n",
       "\t5 & 4000 & 12.8 & 1600 & 140 & 25000\\\\\n",
       "\t6 & 8200 &  8.3 & 2600 &  60 & 12000\\\\\n",
       "\\end{tabular}\n"
      ],
      "text/markdown": [
       "\n",
       "A data.frame: 6 × 5\n",
       "\n",
       "| <!--/--> | 人口总数 &lt;int&gt; | 居民的教育程度或教育年数的中位数 &lt;dbl&gt; | 佣人总数 &lt;int&gt; | 各种服务行业的人数 &lt;int&gt; | 房价中位数 &lt;int&gt; |\n",
       "|---|---|---|---|---|---|\n",
       "| 1 | 5700 | 12.8 | 2500 | 270 | 25000 |\n",
       "| 2 | 1000 | 10.9 |  600 |  10 | 10000 |\n",
       "| 3 | 3400 |  8.8 | 1000 |  10 |  9000 |\n",
       "| 4 | 3800 | 13.6 | 1700 | 140 | 25000 |\n",
       "| 5 | 4000 | 12.8 | 1600 | 140 | 25000 |\n",
       "| 6 | 8200 |  8.3 | 2600 |  60 | 12000 |\n",
       "\n"
      ],
      "text/plain": [
       "  人口总数 居民的教育程度或教育年数的中位数 佣人总数 各种服务行业的人数\n",
       "1 5700     12.8                             2500     270               \n",
       "2 1000     10.9                              600      10               \n",
       "3 3400      8.8                             1000      10               \n",
       "4 3800     13.6                             1700     140               \n",
       "5 4000     12.8                             1600     140               \n",
       "6 8200      8.3                             2600      60               \n",
       "  房价中位数\n",
       "1 25000     \n",
       "2 10000     \n",
       "3  9000     \n",
       "4 25000     \n",
       "5 25000     \n",
       "6 12000     "
      ]
     },
     "metadata": {},
     "output_type": "display_data"
    }
   ],
   "source": [
    "# 读入数据\n",
    "data = read.table('.//AMSA_data//《应用多元统计分析》（第6版）文本数据（以逗号为间隔）//exec8.5.csv',header = TRUE,sep = ',',row.names = '编号')\n",
    "head(data)\n",
    "colnames(data) = c('人口','教育','佣人','服务业','房价')"
   ]
  },
  {
   "cell_type": "code",
   "execution_count": 9,
   "id": "7a9d17bb",
   "metadata": {
    "vscode": {
     "languageId": "r"
    }
   },
   "outputs": [
    {
     "data": {
      "image/png": "[encoded data removed]",
      "text/plain": [
       "Plot with title \"\""
      ]
     },
     "metadata": {
      "image/png": {
       "height": 420,
       "width": 420
      }
     },
     "output_type": "display_data"
    }
   ],
   "source": [
    "# 绘制热力图\n",
    "library(\"corrplot\")\n",
    "b = cor(as.matrix(data)) # 相关系数矩阵\n",
    "col = colorRampPalette(c(\"navy\", \"white\", \"firebrick3\"))\n",
    "corrplot(b,type = \"upper\",col = col(10),tl.pos = \"d\",tl.cex = 0.75) \n",
    "corrplot(b,add = TRUE, type = \"lower\", method = \"number\",diag = FALSE,tl.pos = \"n\", cl.pos = \"n\",col = col(10))"
   ]
  },
  {
   "cell_type": "markdown",
   "id": "ca33ac98",
   "metadata": {},
   "source": [
    "通过观察变量之间的相关系数可知，各变量之间存在交错复杂的相关关系，其中人口和佣人变量之间的相关系数最强，相关系数高达0.97；教育和房价的相关程度次之，相关系数为0.86；之后是服务业和房价。从图中我们还可以得到更多的信息，红色代表变量之间的正相关关系，气泡的越大、颜色越深，表明两变量间的相关程度越大。"
   ]
  },
  {
   "cell_type": "markdown",
   "id": "0b161a18",
   "metadata": {},
   "source": [
    "### 二、正交因子模型建立"
   ]
  },
  {
   "cell_type": "markdown",
   "id": "004cd0b8",
   "metadata": {},
   "source": [
    "设有 $\\mathrm{p}$ 维可观测的随机向量 $x=\\left(x_{1}, x_{2}, \\ldots, x_{p}\\right)^{\\prime}$, 其均值为 $\\mu=\\left(\\mu_{1}, \\mu_{2}, \\ldots, \\mu_{p}\\right)^{\\prime}$, 协方差矩阵为 $\\Sigma=\\left(\\sigma_{i j}\\right)$, 公共因子向量为 $f=$ $\\left(f_{1}, f_{2}, \\ldots, f_{m}\\right)^{\\prime}$, 特殊因子向量为 $\\varepsilon=\\left(\\varepsilon_{1}, \\varepsilon_{2}, \\ldots, \\varepsilon_{p}\\right)^{\\prime}$, 因子载荷矩阵为 $\\mathrm{A}=\\left(a_{i j}\\right): \\mathrm{p} \\times \\mathrm{m}$. 则**模型**用矩阵和向量表示为:\n",
    "\n",
    "$$\n",
    "x=\\mu+A f+\\varepsilon\n",
    "$$\n",
    "\n",
    "**假设条件**为：\n",
    "\n",
    "$$\n",
    "\\left\\{\\begin{array}{l}\n",
    "E(f)=0 \\\\\n",
    "E(\\varepsilon)=0 \\\\\n",
    "V(f)=I \\\\\n",
    "V(\\varepsilon)=D=\\operatorname{diag}\\left(\\sigma_{1}^{2}, \\sigma_{2}^{2}, \\ldots, \\sigma_{p}^{2}\\right) \\\\\n",
    "\\operatorname{Cov}(f, \\varepsilon)=E\\left(f \\varepsilon^{\\prime}\\right)=0\n",
    "\\end{array}\\right.\n",
    "$$\n",
    "\n",
    "进一步, 我们需要解释因子载荷矩阵 $\\mathrm{A}$ 的**统计意义**:\n",
    "\n",
    "(1) $\\mathrm{A}$ 的元素: 若使用协方差矩阵 $\\Sigma$ 进行分解, $a_{i j}$ 是 $x_{i}$ 与 $f_{j}$ 之间的协方差；如果使用相关矩阵 $\\mathrm{R}$, 则表示 $x_{i}$ 与 $f_{j}$ 之间的相关系 数。\n",
    "\n",
    "(2) A 的行平方和: 即共性方差(Communality)，反映了公共因子对 $x_{i}$ 的影响，可以看成是公共因子 $f_{1}, f_{2}, \\ldots, f_{m}$ 对 $x_{i}$ 的方差贡 献。表达式为:\n",
    "\n",
    "$$\n",
    "h_{i}^{2}=\\sum_{j=1}^{m} a_{i j}^{2}, \\mathrm{i}=1,2, \\ldots, \\mathrm{p}\n",
    "$$\n",
    "\n",
    "另, 称 $\\sigma_{i}^{2}$ 是特殊因子 $\\varepsilon_{i}$ 对 $x_{i}$ 的方差贡献，称为特殊方差，且有 $\\sigma_{i i}=h_{i}^{2}+\\sigma_{i}^{2}$ 的关系式。\n",
    "\n",
    "(3) A 的列平方和：公共因子 $f_{i}$ 对 $x_{1}, x_{2}, \\ldots, x_{p}$ 的总方差贡献，是衡量公共因子 $f_{i}$ 重要性的尺度。\n",
    "\n",
    "$$\n",
    "g_{j}^{2}=\\sum_{i=1}^{p} a_{i j}^{2}, \\mathrm{j}=1,2, \\ldots, \\mathrm{m}\n",
    "$$\n",
    "\n",
    "$f_{i}$ 的贡献率为为 $g_{j}^{2} / \\sum_{i=1}^{p} V\\left(x_{i}\\right)$.\n",
    "\n",
    "(4) A 的所有元素的平方和：公共因子对总方差的累计贡献。 \n",
    "\n",
    "在**模型求解**时, $\\mu$ 和 $\\Sigma$ 可分别估计为\n",
    "\n",
    "$$\n",
    "\\bar{x}=\\frac{1}{n} \\sum_{i=1}^{n} x_{i}\n",
    "$$\n",
    "\n",
    "和\n",
    "\n",
    "$$\n",
    "\\mathrm{S}=\\frac{1}{n-1} \\sum_{i=1}^{n}\\left(x_{i}-\\bar{x}\\right)\\left(x_{i}-\\bar{x}\\right)^{\\prime}\n",
    "$$\n",
    "\n",
    "为建立因子模型, 还需要估计因子载荷矩阵 $\\mathrm{A}$ 和特殊方差矩阵 $\\mathrm{D}$ 。常用的参数估计方法有如下三种: 主成分法、主因子法 和极大似然法。"
   ]
  },
  {
   "cell_type": "markdown",
   "id": "0c0bde3a",
   "metadata": {},
   "source": [
    "### 三、使用主成分法求解模型"
   ]
  },
  {
   "cell_type": "markdown",
   "id": "06f6933d",
   "metadata": {},
   "source": [
    "设样本协方差矩阵 $\\mathrm{S}$ 的特征值依次为 $\\hat{\\lambda_{1}} \\geq \\hat{\\lambda_{2}} \\geq \\cdots \\geq \\hat{\\lambda_{p}} \\geq 0$, 相应的正交单位特征向量为 $\\hat{t}_{1}, \\hat{t}_{2}, \\ldots, \\hat{t}_{p}$ 。选取相对较小的因子 数 $\\mathrm{m}$, 并使得累计贡献率达到一个较高的百分比, 此时 $\\hat{\\lambda}_{m+1}, \\ldots, \\hat{\\lambda}_{p}$ 一般已经相对较小, 于是 $\\mathrm{S}$ 可作如下的近似分解:\n",
    "\n",
    "$$\n",
    "\\mathrm{S}=\\hat{A} \\hat{A}^{\\prime}+\\hat{D}\n",
    "$$\n",
    "\n",
    "其中, $\\hat{A}=\\left(\\sqrt{\\hat{\\lambda}_{1}} \\hat{t}_{1}, \\ldots, \\sqrt{\\hat{\\lambda}_{m}} \\hat{t}_{m}\\right)=\\left(\\hat{a}_{i j}\\right), \\hat{D}=\\operatorname{diag}\\left(\\hat{\\sigma}_{1}^{2}, \\hat{\\sigma}_{2}^{2}, \\ldots, \\hat{\\sigma}_{p}^{2}\\right), \\quad \\hat{\\sigma}_{i}^{2}=s_{i i}-\\sum_{i=1}^{m} \\hat{a}_{i j}^{2}, \\mathrm{i}=1,2, \\ldots, \\mathrm{p}$ 。\n",
    "\n",
    "称 $S-\\left(\\hat{A} \\hat{A}^{\\prime}+\\hat{D}\\right)$ 为残差矩阵, 有\n",
    "\n",
    "$$\n",
    "S-\\left(\\hat{A} \\hat{A}^{\\prime}+\\hat{D}\\right) \\text { 的元素平方和 } \\leq \\hat{\\lambda}^{2}{ }_{m+1}+\\cdots+\\hat{\\lambda}^{2}{ }_{p}\n",
    "$$\n",
    "\n",
    "因而, 当被略去的特征值的平方和较小时，表示因子模型的拟合是较好的。\n",
    "\n",
    "当 $p$ 个原始变量的单位不同, 或虽然单位相同, 但各变量的数值变异性相差较大时, 应该用样本相关矩阵代替上式中的 S。"
   ]
  },
  {
   "cell_type": "markdown",
   "id": "8952785b",
   "metadata": {},
   "source": [
    "下面，分别取m=1和m=2进行主成分法求解."
   ]
  },
  {
   "cell_type": "code",
   "execution_count": 12,
   "id": "558a202c",
   "metadata": {
    "vscode": {
     "languageId": "r"
    }
   },
   "outputs": [
    {
     "data": {
      "text/plain": [
       "\n",
       "Loadings:\n",
       "       PC1  \n",
       "人口   0.581\n",
       "教育   0.767\n",
       "佣人   0.672\n",
       "服务业 0.932\n",
       "房价   0.791\n",
       "\n",
       "                 PC1\n",
       "SS loadings    2.873\n",
       "Proportion Var 0.575"
      ]
     },
     "metadata": {},
     "output_type": "display_data"
    }
   ],
   "source": [
    "library(psych)\n",
    "pc1 = principal(data, nfactors = 1, residuals = TRUE, rotate = \"none\", covar = FALSE)  #主成分法因子分析，从相关矩阵出发（即covar = FALSE，为缺省选项），选取2个因子，残差矩阵，未旋转\n",
    "pc1$loadings  #因子载荷矩阵，列元素的平方和、因子所解释的总方差的比例及累计比例"
   ]
  },
  {
   "cell_type": "code",
   "execution_count": 13,
   "id": "c92a7eaa",
   "metadata": {
    "vscode": {
     "languageId": "r"
    }
   },
   "outputs": [
    {
     "data": {
      "text/plain": [
       "\n",
       "Loadings:\n",
       "       PC1    PC2   \n",
       "人口    0.581  0.806\n",
       "教育    0.767 -0.545\n",
       "佣人    0.672  0.726\n",
       "服务业  0.932 -0.104\n",
       "房价    0.791 -0.558\n",
       "\n",
       "                 PC1   PC2\n",
       "SS loadings    2.873 1.797\n",
       "Proportion Var 0.575 0.359\n",
       "Cumulative Var 0.575 0.934"
      ]
     },
     "metadata": {},
     "output_type": "display_data"
    }
   ],
   "source": [
    "pc = principal(data, nfactors = 2, residuals = TRUE, rotate = \"none\", covar = FALSE)  #主成分法因子分析，从相关矩阵出发（即covar = FALSE，为缺省选项），选取2个因子，残差矩阵，未旋转\n",
    "pc$loadings  #因子载荷矩阵，列元素的平方和、因子所解释的总方差的比例及累计比例"
   ]
  },
  {
   "cell_type": "markdown",
   "id": "9233e9ff",
   "metadata": {},
   "source": [
    "可以看到，当m=1时，因子所解释的总方差的比例仅仅为0.575，而当m=2时，累计解释比例已经达到了0.934。因此，我们选择m=2.\n"
   ]
  },
  {
   "cell_type": "code",
   "execution_count": 14,
   "id": "5e13379b",
   "metadata": {
    "vscode": {
     "languageId": "r"
    }
   },
   "outputs": [
    {
     "data": {
      "text/html": [
       "<table class=\"dataframe\">\n",
       "<caption>A data.frame: 5 × 1</caption>\n",
       "<thead>\n",
       "\t<tr><th></th><th scope=col>round.pc.communality..3.</th></tr>\n",
       "\t<tr><th></th><th scope=col>&lt;dbl&gt;</th></tr>\n",
       "</thead>\n",
       "<tbody>\n",
       "\t<tr><th scope=row>人口</th><td>0.988</td></tr>\n",
       "\t<tr><th scope=row>教育</th><td>0.885</td></tr>\n",
       "\t<tr><th scope=row>佣人</th><td>0.979</td></tr>\n",
       "\t<tr><th scope=row>服务业</th><td>0.880</td></tr>\n",
       "\t<tr><th scope=row>房价</th><td>0.938</td></tr>\n",
       "</tbody>\n",
       "</table>\n"
      ],
      "text/latex": [
       "A data.frame: 5 × 1\n",
       "\\begin{tabular}{r|l}\n",
       "  & round.pc.communality..3.\\\\\n",
       "  & <dbl>\\\\\n",
       "\\hline\n",
       "\t人口 & 0.988\\\\\n",
       "\t教育 & 0.885\\\\\n",
       "\t佣人 & 0.979\\\\\n",
       "\t服务业 & 0.880\\\\\n",
       "\t房价 & 0.938\\\\\n",
       "\\end{tabular}\n"
      ],
      "text/markdown": [
       "\n",
       "A data.frame: 5 × 1\n",
       "\n",
       "| <!--/--> | round.pc.communality..3. &lt;dbl&gt; |\n",
       "|---|---|\n",
       "| 人口 | 0.988 |\n",
       "| 教育 | 0.885 |\n",
       "| 佣人 | 0.979 |\n",
       "| 服务业 | 0.880 |\n",
       "| 房价 | 0.938 |\n",
       "\n"
      ],
      "text/plain": [
       "       round.pc.communality..3.\n",
       "人口   0.988                   \n",
       "教育   0.885                   \n",
       "佣人   0.979                   \n",
       "服务业 0.880                   \n",
       "房价   0.938                   "
      ]
     },
     "metadata": {},
     "output_type": "display_data"
    }
   ],
   "source": [
    "data.frame(round(pc$communality, 3))  #共性方差"
   ]
  },
  {
   "cell_type": "markdown",
   "id": "50be2e9b",
   "metadata": {},
   "source": [
    "共性方差反映了全部公共因子对原始变量的影响。我们发现两因子的共性方差都很大（均大于85%），表明两个因子能够解释各变量方差的绝大部分。"
   ]
  },
  {
   "cell_type": "code",
   "execution_count": 15,
   "id": "5d7dd964",
   "metadata": {
    "vscode": {
     "languageId": "r"
    }
   },
   "outputs": [
    {
     "data": {
      "text/html": [
       "<table class=\"dataframe\">\n",
       "<caption>A data.frame: 5 × 5</caption>\n",
       "<thead>\n",
       "\t<tr><th></th><th scope=col>人口</th><th scope=col>教育</th><th scope=col>佣人</th><th scope=col>服务业</th><th scope=col>房价</th></tr>\n",
       "\t<tr><th></th><th scope=col>&lt;dbl&gt;</th><th scope=col>&lt;dbl&gt;</th><th scope=col>&lt;dbl&gt;</th><th scope=col>&lt;dbl&gt;</th><th scope=col>&lt;dbl&gt;</th></tr>\n",
       "</thead>\n",
       "<tbody>\n",
       "\t<tr><th scope=row>人口</th><td> 0.000</td><td> 0.003</td><td>-0.004</td><td>-0.019</td><td> 0.013</td></tr>\n",
       "\t<tr><th scope=row>教育</th><td> 0.003</td><td> 0.000</td><td> 0.034</td><td>-0.081</td><td>-0.048</td></tr>\n",
       "\t<tr><th scope=row>佣人</th><td>-0.004</td><td> 0.034</td><td> 0.000</td><td>-0.037</td><td>-0.005</td></tr>\n",
       "\t<tr><th scope=row>服务业</th><td>-0.019</td><td>-0.081</td><td>-0.037</td><td> 0.000</td><td>-0.018</td></tr>\n",
       "\t<tr><th scope=row>房价</th><td> 0.013</td><td>-0.048</td><td>-0.005</td><td>-0.018</td><td> 0.000</td></tr>\n",
       "</tbody>\n",
       "</table>\n"
      ],
      "text/latex": [
       "A data.frame: 5 × 5\n",
       "\\begin{tabular}{r|lllll}\n",
       "  & 人口 & 教育 & 佣人 & 服务业 & 房价\\\\\n",
       "  & <dbl> & <dbl> & <dbl> & <dbl> & <dbl>\\\\\n",
       "\\hline\n",
       "\t人口 &  0.000 &  0.003 & -0.004 & -0.019 &  0.013\\\\\n",
       "\t教育 &  0.003 &  0.000 &  0.034 & -0.081 & -0.048\\\\\n",
       "\t佣人 & -0.004 &  0.034 &  0.000 & -0.037 & -0.005\\\\\n",
       "\t服务业 & -0.019 & -0.081 & -0.037 &  0.000 & -0.018\\\\\n",
       "\t房价 &  0.013 & -0.048 & -0.005 & -0.018 &  0.000\\\\\n",
       "\\end{tabular}\n"
      ],
      "text/markdown": [
       "\n",
       "A data.frame: 5 × 5\n",
       "\n",
       "| <!--/--> | 人口 &lt;dbl&gt; | 教育 &lt;dbl&gt; | 佣人 &lt;dbl&gt; | 服务业 &lt;dbl&gt; | 房价 &lt;dbl&gt; |\n",
       "|---|---|---|---|---|---|\n",
       "| 人口 |  0.000 |  0.003 | -0.004 | -0.019 |  0.013 |\n",
       "| 教育 |  0.003 |  0.000 |  0.034 | -0.081 | -0.048 |\n",
       "| 佣人 | -0.004 |  0.034 |  0.000 | -0.037 | -0.005 |\n",
       "| 服务业 | -0.019 | -0.081 | -0.037 |  0.000 | -0.018 |\n",
       "| 房价 |  0.013 | -0.048 | -0.005 | -0.018 |  0.000 |\n",
       "\n"
      ],
      "text/plain": [
       "       人口   教育   佣人   服务业 房价  \n",
       "人口    0.000  0.003 -0.004 -0.019  0.013\n",
       "教育    0.003  0.000  0.034 -0.081 -0.048\n",
       "佣人   -0.004  0.034  0.000 -0.037 -0.005\n",
       "服务业 -0.019 -0.081 -0.037  0.000 -0.018\n",
       "房价    0.013 -0.048 -0.005 -0.018  0.000"
      ]
     },
     "metadata": {},
     "output_type": "display_data"
    }
   ],
   "source": [
    "residual = pc$residual-diag(diag(pc$residual))  #残差矩阵（pc$residual的对角线元素是特殊方差）\n",
    "data.frame(round(residual, 3))"
   ]
  },
  {
   "cell_type": "markdown",
   "id": "5c369c2e",
   "metadata": {},
   "source": [
    "该残差矩阵中的元素都很小（绝对值最大为0.081），因此我们认为两因子模型很好地拟合了该数据。\n",
    "\n",
    "根据前文的因子载荷矩阵，原始变量在$f_{1}$上的载荷皆为正，其中服务业的载荷为0.932，但是这五个载荷相差并不悬殊，因此较难进行解释。因此我们可以使用因子旋转技术将载荷见的差距拉大，以便于直观地解释不同因子的含义。"
   ]
  },
  {
   "cell_type": "markdown",
   "id": "70af63b4",
   "metadata": {},
   "source": [
    "若我们对公共因子作正交旋转 $f^{*}=T^{\\prime} f$, 则载荷矩阵也变为 $A^{*}=A T$, 又由于 $A^{* \\prime}=T^{\\prime} A^{\\prime}$, 因此, $p$ 个坐标点 $a_{i}$ 经上述的正交旋转后转换为新的坐标点 $a_{i}^{*}$。这种方法有可能会使每一变量的坐标点接近于其中的一个新坐标轴, 即它只在该轴对应的因子上有高的载荷, 而在其余因子上有小的载荷, 因而使一些元素接近于 0 , 而另一些元素接近于 $\\pm 1$, 以使因子更加易于解释。旋转的目标一般应是尽可能地让各坐标轴穿过或接近各变量的点群。\n",
    "\n",
    "在正交旋转中, 使用最普遍的是最大方差旋转法 (varimax), 这种方法的思想是选择正交矩阵 $T$, 使得矩阵 $A^{*}$ 所有 $m$ 个列元 素平方和的相对方差之和达到最大。"
   ]
  },
  {
   "cell_type": "code",
   "execution_count": 17,
   "id": "efa75cb6",
   "metadata": {
    "vscode": {
     "languageId": "r"
    }
   },
   "outputs": [
    {
     "data": {
      "text/html": [
       "<table class=\"dataframe\">\n",
       "<caption>A data.frame: 2 × 2</caption>\n",
       "<thead>\n",
       "\t<tr><th scope=col>X1</th><th scope=col>X2</th></tr>\n",
       "\t<tr><th scope=col>&lt;dbl&gt;</th><th scope=col>&lt;dbl&gt;</th></tr>\n",
       "</thead>\n",
       "<tbody>\n",
       "\t<tr><td> 0.822</td><td>0.570</td></tr>\n",
       "\t<tr><td>-0.570</td><td>0.822</td></tr>\n",
       "</tbody>\n",
       "</table>\n"
      ],
      "text/latex": [
       "A data.frame: 2 × 2\n",
       "\\begin{tabular}{ll}\n",
       " X1 & X2\\\\\n",
       " <dbl> & <dbl>\\\\\n",
       "\\hline\n",
       "\t  0.822 & 0.570\\\\\n",
       "\t -0.570 & 0.822\\\\\n",
       "\\end{tabular}\n"
      ],
      "text/markdown": [
       "\n",
       "A data.frame: 2 × 2\n",
       "\n",
       "| X1 &lt;dbl&gt; | X2 &lt;dbl&gt; |\n",
       "|---|---|\n",
       "|  0.822 | 0.570 |\n",
       "| -0.570 | 0.822 |\n",
       "\n"
      ],
      "text/plain": [
       "  X1     X2   \n",
       "1  0.822 0.570\n",
       "2 -0.570 0.822"
      ]
     },
     "metadata": {},
     "output_type": "display_data"
    },
    {
     "data": {
      "text/plain": [
       "\n",
       "Loadings:\n",
       "       RC1    RC2   \n",
       "人口           0.994\n",
       "教育    0.941       \n",
       "佣人    0.139  0.980\n",
       "服务业  0.826  0.446\n",
       "房价    0.968       \n",
       "\n",
       "                 RC1   RC2\n",
       "SS loadings    2.524 2.146\n",
       "Proportion Var 0.505 0.429\n",
       "Cumulative Var 0.505 0.934"
      ]
     },
     "metadata": {},
     "output_type": "display_data"
    }
   ],
   "source": [
    "rc=principal(data, nfactors=2, rotate=\"varimax\", scores=TRUE)  #使用最大方差旋转法，计算因子得分（缺省时为回归法）\n",
    "data.frame(round(rc$rot.mat, 3))  #旋转矩阵T\n",
    "rc$loadings  #旋转后的因子载荷矩阵"
   ]
  },
  {
   "cell_type": "markdown",
   "id": "2d1a7af2",
   "metadata": {},
   "source": [
    "可以看到，在第一个因子中，人口变量的载荷很小，几乎为零，佣人变量的载荷也非常小；而房价、教育和服务业变量的载荷很大，均达到了0.8以上。结合经济生活常识，如果一个地方经济发展较为发达，尤其是在技术推动型的发达社会，那么人口会相对较少，雇佣的廉价劳动力也会较少，而居民的生活质量则显著较高，对教育的投入会较多，第三产业服务业会较为发达，房价也会随着城市经济的发展而提高。因此，我们可以将第一个因子称为**经济发达因子**。\n",
    "\n",
    "而在第二个因子中，人口和佣人的载荷非常高，均为0.98以上，代表服务业人口数的变量的载荷接近0.5，而教育和房价的变量的载荷则几乎为零。在实际中有许多人口基数过于庞大的国家，通常这种社会背景会导致人口增长与就业岗位增长不匹配，因而佣人和餐厅服务员等服务人员之类的廉价劳动力会增加，导致使人均教育投入水平大为降低，并且随着人口的流失房价也会下跌。因此，我们将第二个因子称为**人口膨胀因子**。"
   ]
  },
  {
   "cell_type": "code",
   "execution_count": 19,
   "id": "4f29e5f6",
   "metadata": {
    "vscode": {
     "languageId": "r"
    }
   },
   "outputs": [
    {
     "data": {
      "image/png": "[encoded data removed]",
      "text/plain": [
       "Plot with title \"Principal Component Analysis\""
      ]
     },
     "metadata": {
      "image/png": {
       "height": 420,
       "width": 420
      }
     },
     "output_type": "display_data"
    }
   ],
   "source": [
    "factor.plot(rc, xlim=c(0, 1.0), ylim=c(-0.5, 1.0))  #因子载荷图"
   ]
  },
  {
   "cell_type": "markdown",
   "id": "41f7dc3e",
   "metadata": {},
   "source": [
    "通过因子载荷图，我们可以直观地看到，教育和房价变量在第一因子中载荷大，但在第二因子中载荷小；人口和佣人变量则与之相反。在我们此前的相关性分析中，人口和佣人变量之间的相关系数最强，相关系数高达0.97；教育和房价的相关程度次之，相关系数为0.86。因此，这因子载荷也验证了这种相关关系，即人口和佣人、教育和房价两两变量之间信息重叠较为严重，因此我们的因子分析降维过程是较为有效的。"
   ]
  },
  {
   "cell_type": "markdown",
   "id": "5e0932f2",
   "metadata": {},
   "source": [
    "为了实现降维后再对各样品进行比较分析，我们可以计算因子的得分。需要注意的是，因子得分的计算并不是通常意义下的参数估计，而是对不可观测的随机变量的取值作出估计。通常应用两种方法：加权最小二乘法（Bartlett,1937）和回归法（Thompson,1951）。后者虽然是有偏估计，但是它的精度往往更高。"
   ]
  },
  {
   "cell_type": "code",
   "execution_count": 20,
   "id": "7e69d397",
   "metadata": {
    "vscode": {
     "languageId": "r"
    }
   },
   "outputs": [
    {
     "data": {
      "text/html": [
       "<table class=\"dataframe\">\n",
       "<caption>A matrix: 5 × 2 of type dbl</caption>\n",
       "<thead>\n",
       "\t<tr><th></th><th scope=col>RC1</th><th scope=col>RC2</th></tr>\n",
       "</thead>\n",
       "<tbody>\n",
       "\t<tr><th scope=row>人口</th><td>-0.090</td><td> 0.484</td></tr>\n",
       "\t<tr><th scope=row>教育</th><td> 0.392</td><td>-0.097</td></tr>\n",
       "\t<tr><th scope=row>佣人</th><td>-0.038</td><td> 0.465</td></tr>\n",
       "\t<tr><th scope=row>服务业</th><td> 0.300</td><td> 0.137</td></tr>\n",
       "\t<tr><th scope=row>房价</th><td> 0.403</td><td>-0.098</td></tr>\n",
       "</tbody>\n",
       "</table>\n"
      ],
      "text/latex": [
       "A matrix: 5 × 2 of type dbl\n",
       "\\begin{tabular}{r|ll}\n",
       "  & RC1 & RC2\\\\\n",
       "\\hline\n",
       "\t人口 & -0.090 &  0.484\\\\\n",
       "\t教育 &  0.392 & -0.097\\\\\n",
       "\t佣人 & -0.038 &  0.465\\\\\n",
       "\t服务业 &  0.300 &  0.137\\\\\n",
       "\t房价 &  0.403 & -0.098\\\\\n",
       "\\end{tabular}\n"
      ],
      "text/markdown": [
       "\n",
       "A matrix: 5 × 2 of type dbl\n",
       "\n",
       "| <!--/--> | RC1 | RC2 |\n",
       "|---|---|---|\n",
       "| 人口 | -0.090 |  0.484 |\n",
       "| 教育 |  0.392 | -0.097 |\n",
       "| 佣人 | -0.038 |  0.465 |\n",
       "| 服务业 |  0.300 |  0.137 |\n",
       "| 房价 |  0.403 | -0.098 |\n",
       "\n"
      ],
      "text/plain": [
       "       RC1    RC2   \n",
       "人口   -0.090  0.484\n",
       "教育    0.392 -0.097\n",
       "佣人   -0.038  0.465\n",
       "服务业  0.300  0.137\n",
       "房价    0.403 -0.098"
      ]
     },
     "metadata": {},
     "output_type": "display_data"
    }
   ],
   "source": [
    "round(rc$weights, 3)  #标准化得分系数"
   ]
  },
  {
   "cell_type": "markdown",
   "id": "e4df1444",
   "metadata": {},
   "source": [
    "根据标准化的得分系数，我们有如下表达式：\n",
    "\n",
    "$$\n",
    "\\begin{gathered}\n",
    "\\hat{f}_{1}^{*}=-0.090 x_{1}^{*}+0.392 x_{2}^{*}-0.038 x_{3}^{*}+0.300 x_{4}^{*}+0.403 x_{5}^{*} \\\\\n",
    "\\hat{f}_{2}^{*}=0.484 x_{1}^{*}-0.097 x_{2}^{*}+0.465 x_{3}^{*}+0.137 x_{4}^{*}-0.098 x_{5}^{*}\n",
    "\\end{gathered}\n",
    "$$"
   ]
  },
  {
   "cell_type": "code",
   "execution_count": 22,
   "id": "df6caab5",
   "metadata": {
    "vscode": {
     "languageId": "r"
    }
   },
   "outputs": [
    {
     "data": {
      "text/html": [
       "<table class=\"dataframe\">\n",
       "<caption>A matrix: 6 × 2 of type dbl</caption>\n",
       "<thead>\n",
       "\t<tr><th></th><th scope=col>RC1</th><th scope=col>RC2</th></tr>\n",
       "</thead>\n",
       "<tbody>\n",
       "\t<tr><th scope=row>3</th><td>-1.261</td><td>-0.765</td></tr>\n",
       "\t<tr><th scope=row>6</th><td>-1.224</td><td> 0.551</td></tr>\n",
       "\t<tr><th scope=row>11</th><td>-0.945</td><td> 0.963</td></tr>\n",
       "\t<tr><th scope=row>2</th><td>-0.661</td><td>-1.382</td></tr>\n",
       "\t<tr><th scope=row>12</th><td>-0.450</td><td> 1.109</td></tr>\n",
       "\t<tr><th scope=row>8</th><td>-0.440</td><td> 0.735</td></tr>\n",
       "</tbody>\n",
       "</table>\n"
      ],
      "text/latex": [
       "A matrix: 6 × 2 of type dbl\n",
       "\\begin{tabular}{r|ll}\n",
       "  & RC1 & RC2\\\\\n",
       "\\hline\n",
       "\t3 & -1.261 & -0.765\\\\\n",
       "\t6 & -1.224 &  0.551\\\\\n",
       "\t11 & -0.945 &  0.963\\\\\n",
       "\t2 & -0.661 & -1.382\\\\\n",
       "\t12 & -0.450 &  1.109\\\\\n",
       "\t8 & -0.440 &  0.735\\\\\n",
       "\\end{tabular}\n"
      ],
      "text/markdown": [
       "\n",
       "A matrix: 6 × 2 of type dbl\n",
       "\n",
       "| <!--/--> | RC1 | RC2 |\n",
       "|---|---|---|\n",
       "| 3 | -1.261 | -0.765 |\n",
       "| 6 | -1.224 |  0.551 |\n",
       "| 11 | -0.945 |  0.963 |\n",
       "| 2 | -0.661 | -1.382 |\n",
       "| 12 | -0.450 |  1.109 |\n",
       "| 8 | -0.440 |  0.735 |\n",
       "\n"
      ],
      "text/plain": [
       "   RC1    RC2   \n",
       "3  -1.261 -0.765\n",
       "6  -1.224  0.551\n",
       "11 -0.945  0.963\n",
       "2  -0.661 -1.382\n",
       "12 -0.450  1.109\n",
       "8  -0.440  0.735"
      ]
     },
     "metadata": {},
     "output_type": "display_data"
    },
    {
     "data": {
      "text/html": [
       "<table class=\"dataframe\">\n",
       "<caption>A matrix: 6 × 2 of type dbl</caption>\n",
       "<thead>\n",
       "\t<tr><th></th><th scope=col>RC1</th><th scope=col>RC2</th></tr>\n",
       "</thead>\n",
       "<tbody>\n",
       "\t<tr><th scope=row>7</th><td>-0.171</td><td>-1.549</td></tr>\n",
       "\t<tr><th scope=row>9</th><td> 0.322</td><td> 0.913</td></tr>\n",
       "\t<tr><th scope=row>5</th><td> 0.936</td><td>-0.765</td></tr>\n",
       "\t<tr><th scope=row>4</th><td> 1.114</td><td>-0.799</td></tr>\n",
       "\t<tr><th scope=row>1</th><td> 1.203</td><td>-0.033</td></tr>\n",
       "\t<tr><th scope=row>10</th><td> 1.578</td><td> 1.023</td></tr>\n",
       "</tbody>\n",
       "</table>\n"
      ],
      "text/latex": [
       "A matrix: 6 × 2 of type dbl\n",
       "\\begin{tabular}{r|ll}\n",
       "  & RC1 & RC2\\\\\n",
       "\\hline\n",
       "\t7 & -0.171 & -1.549\\\\\n",
       "\t9 &  0.322 &  0.913\\\\\n",
       "\t5 &  0.936 & -0.765\\\\\n",
       "\t4 &  1.114 & -0.799\\\\\n",
       "\t1 &  1.203 & -0.033\\\\\n",
       "\t10 &  1.578 &  1.023\\\\\n",
       "\\end{tabular}\n"
      ],
      "text/markdown": [
       "\n",
       "A matrix: 6 × 2 of type dbl\n",
       "\n",
       "| <!--/--> | RC1 | RC2 |\n",
       "|---|---|---|\n",
       "| 7 | -0.171 | -1.549 |\n",
       "| 9 |  0.322 |  0.913 |\n",
       "| 5 |  0.936 | -0.765 |\n",
       "| 4 |  1.114 | -0.799 |\n",
       "| 1 |  1.203 | -0.033 |\n",
       "| 10 |  1.578 |  1.023 |\n",
       "\n"
      ],
      "text/plain": [
       "   RC1    RC2   \n",
       "7  -0.171 -1.549\n",
       "9   0.322  0.913\n",
       "5   0.936 -0.765\n",
       "4   1.114 -0.799\n",
       "1   1.203 -0.033\n",
       "10  1.578  1.023"
      ]
     },
     "metadata": {},
     "output_type": "display_data"
    }
   ],
   "source": [
    "scores=round(rc$scores, 3)  #因子得分\n",
    "head(scores[order(scores[, 1]), ])  #按因子1得分排序\n",
    "tail(scores[order(scores[, 1]), ])"
   ]
  },
  {
   "cell_type": "code",
   "execution_count": 23,
   "id": "02a0ad9e",
   "metadata": {
    "vscode": {
     "languageId": "r"
    }
   },
   "outputs": [
    {
     "data": {
      "text/html": [
       "<table class=\"dataframe\">\n",
       "<caption>A matrix: 6 × 2 of type dbl</caption>\n",
       "<thead>\n",
       "\t<tr><th></th><th scope=col>RC1</th><th scope=col>RC2</th></tr>\n",
       "</thead>\n",
       "<tbody>\n",
       "\t<tr><th scope=row>7</th><td>-0.171</td><td>-1.549</td></tr>\n",
       "\t<tr><th scope=row>2</th><td>-0.661</td><td>-1.382</td></tr>\n",
       "\t<tr><th scope=row>4</th><td> 1.114</td><td>-0.799</td></tr>\n",
       "\t<tr><th scope=row>3</th><td>-1.261</td><td>-0.765</td></tr>\n",
       "\t<tr><th scope=row>5</th><td> 0.936</td><td>-0.765</td></tr>\n",
       "\t<tr><th scope=row>1</th><td> 1.203</td><td>-0.033</td></tr>\n",
       "</tbody>\n",
       "</table>\n"
      ],
      "text/latex": [
       "A matrix: 6 × 2 of type dbl\n",
       "\\begin{tabular}{r|ll}\n",
       "  & RC1 & RC2\\\\\n",
       "\\hline\n",
       "\t7 & -0.171 & -1.549\\\\\n",
       "\t2 & -0.661 & -1.382\\\\\n",
       "\t4 &  1.114 & -0.799\\\\\n",
       "\t3 & -1.261 & -0.765\\\\\n",
       "\t5 &  0.936 & -0.765\\\\\n",
       "\t1 &  1.203 & -0.033\\\\\n",
       "\\end{tabular}\n"
      ],
      "text/markdown": [
       "\n",
       "A matrix: 6 × 2 of type dbl\n",
       "\n",
       "| <!--/--> | RC1 | RC2 |\n",
       "|---|---|---|\n",
       "| 7 | -0.171 | -1.549 |\n",
       "| 2 | -0.661 | -1.382 |\n",
       "| 4 |  1.114 | -0.799 |\n",
       "| 3 | -1.261 | -0.765 |\n",
       "| 5 |  0.936 | -0.765 |\n",
       "| 1 |  1.203 | -0.033 |\n",
       "\n"
      ],
      "text/plain": [
       "  RC1    RC2   \n",
       "7 -0.171 -1.549\n",
       "2 -0.661 -1.382\n",
       "4  1.114 -0.799\n",
       "3 -1.261 -0.765\n",
       "5  0.936 -0.765\n",
       "1  1.203 -0.033"
      ]
     },
     "metadata": {},
     "output_type": "display_data"
    },
    {
     "data": {
      "text/html": [
       "<table class=\"dataframe\">\n",
       "<caption>A matrix: 6 × 2 of type dbl</caption>\n",
       "<thead>\n",
       "\t<tr><th></th><th scope=col>RC1</th><th scope=col>RC2</th></tr>\n",
       "</thead>\n",
       "<tbody>\n",
       "\t<tr><th scope=row>6</th><td>-1.224</td><td>0.551</td></tr>\n",
       "\t<tr><th scope=row>8</th><td>-0.440</td><td>0.735</td></tr>\n",
       "\t<tr><th scope=row>9</th><td> 0.322</td><td>0.913</td></tr>\n",
       "\t<tr><th scope=row>11</th><td>-0.945</td><td>0.963</td></tr>\n",
       "\t<tr><th scope=row>10</th><td> 1.578</td><td>1.023</td></tr>\n",
       "\t<tr><th scope=row>12</th><td>-0.450</td><td>1.109</td></tr>\n",
       "</tbody>\n",
       "</table>\n"
      ],
      "text/latex": [
       "A matrix: 6 × 2 of type dbl\n",
       "\\begin{tabular}{r|ll}\n",
       "  & RC1 & RC2\\\\\n",
       "\\hline\n",
       "\t6 & -1.224 & 0.551\\\\\n",
       "\t8 & -0.440 & 0.735\\\\\n",
       "\t9 &  0.322 & 0.913\\\\\n",
       "\t11 & -0.945 & 0.963\\\\\n",
       "\t10 &  1.578 & 1.023\\\\\n",
       "\t12 & -0.450 & 1.109\\\\\n",
       "\\end{tabular}\n"
      ],
      "text/markdown": [
       "\n",
       "A matrix: 6 × 2 of type dbl\n",
       "\n",
       "| <!--/--> | RC1 | RC2 |\n",
       "|---|---|---|\n",
       "| 6 | -1.224 | 0.551 |\n",
       "| 8 | -0.440 | 0.735 |\n",
       "| 9 |  0.322 | 0.913 |\n",
       "| 11 | -0.945 | 0.963 |\n",
       "| 10 |  1.578 | 1.023 |\n",
       "| 12 | -0.450 | 1.109 |\n",
       "\n"
      ],
      "text/plain": [
       "   RC1    RC2  \n",
       "6  -1.224 0.551\n",
       "8  -0.440 0.735\n",
       "9   0.322 0.913\n",
       "11 -0.945 0.963\n",
       "10  1.578 1.023\n",
       "12 -0.450 1.109"
      ]
     },
     "metadata": {},
     "output_type": "display_data"
    }
   ],
   "source": [
    "head(scores[order(scores[, 2]), ])  #按因子2得分排序\n",
    "tail(scores[order(scores[, 2]), ])"
   ]
  },
  {
   "cell_type": "markdown",
   "id": "c128fef2",
   "metadata": {},
   "source": [
    "可以看到第一个因子得分的取值范围是-1.261~1.578; 第二个因子的得分的取值范围是-1.549~1.109。虽然各因子的得分的最大值和最小值关于零不对称，但是因子得分的平均值都是零。若得分值接近零，则表明该城市在这个因子上的得分接近平均水平。"
   ]
  },
  {
   "cell_type": "code",
   "execution_count": 24,
   "id": "c458a0ad",
   "metadata": {
    "vscode": {
     "languageId": "r"
    }
   },
   "outputs": [
    {
     "data": {
      "image/png": "[encoded data removed]",
      "text/plain": [
       "plot without title"
      ]
     },
     "metadata": {
      "image/png": {
       "height": 420,
       "width": 420
      }
     },
     "output_type": "display_data"
    }
   ],
   "source": [
    "plot(scores[,1], scores[,2], xlab=colnames(scores)[1], ylab=colnames(scores)[2], xlim=c(-1.3, 3.9), ylim=c(-1.8, 3.8))\n",
    "text(scores[,1], scores[,2], row.names(data), pos=4, cex=0.7)\n",
    "abline(v=0, h=0, lty=3)"
   ]
  },
  {
   "cell_type": "markdown",
   "id": "695a35f5",
   "metadata": {},
   "source": [
    "因子分析也能很好地用于对变量的聚类。那么根据散点图，将第一因子得分较大且第二因子得分较小的城市1、4、5、10归为发达城市一类，两个因子得分均较小的城市3、2、7归为荒芜城市一类，第一因子得分较小且第二因子得分较大的城市6、11、8、12、9归为发展中城市一类。"
   ]
  },
  {
   "cell_type": "markdown",
   "id": "e3d0a38c",
   "metadata": {},
   "source": [
    "### 四、使用主因子法求解模型"
   ]
  },
  {
   "cell_type": "markdown",
   "id": "0e059b36",
   "metadata": {},
   "source": [
    "\n",
    "\n",
    "设 $\\mathrm{x}$ 的约相关矩阵 $R^{*}$ 为:\n",
    "\n",
    "$$\n",
    "R^{*}=R-D=A A^{\\prime}\n",
    "$$\n",
    "\n",
    "它的对角线元素为 $h_{i}^{2}$, 非对角线元素和 $\\mathrm{R}$ 中的完全一致。\n",
    "\n",
    "设 $\\hat{\\sigma}_{i}^{2}$ 是特殊方差 $\\sigma_{i}^{2}$ 的一个合适的初始估计， 则\n",
    "\n",
    "$$\n",
    "\\hat{R}^{*}=\\hat{R}-\\hat{D}\n",
    "$$\n",
    "\n",
    "其中, $\\hat{R}=\\left(r_{i j}\\right), \\hat{D}=\\operatorname{diag}\\left(\\hat{\\sigma}_{1}^{2}, \\hat{\\sigma}_{2}^{2}, \\ldots, \\hat{\\sigma}_{p}^{2}\\right)$.\n",
    "\n",
    "又设 $\\hat{R}^{*}$ 的前 $m$ 个特征值依次为 $\\hat{\\lambda}_{1}^{*} \\geq \\hat{\\lambda}_{2}^{*} \\geq \\cdots \\geq \\hat{\\lambda}_{p}^{*} \\geq 0$, 相应的正交单位特征向量为 $\\hat{t}_{1}{ }^{*}, \\hat{t}_{2}{ }^{*}, \\cdots, \\hat{t}_{p}{ }^{*}$, 则 $\\mathrm{A}$ 的主因子解为\n",
    "\n",
    "$$\n",
    "\\hat{A}=\\left(\\sqrt{\\hat{\\lambda}_{1}^{*}} \\hat{t}_{1}{ }^{*}, \\ldots, \\sqrt{\\hat{\\lambda}_{m}^{*}} \\hat{t}_{m}{ }^{*}\\right)\n",
    "$$\n",
    "\n",
    "重新估计特殊方差：\n",
    "\n",
    "$$\n",
    "\\hat{\\sigma}_{i}^{2}=1-\\sum_{j=1}^{m} \\hat{a}_{i j}^{2}\n",
    "$$\n",
    "\n",
    "采用迭代的方法, 重复上述步骤, 直到解稳定为止。 "
   ]
  },
  {
   "cell_type": "markdown",
   "id": "6c3bbebc",
   "metadata": {},
   "source": [
    "***下面的两种方法的演示过程将简略叙述，因为使用的方法和得到的结论几乎是一致的。***"
   ]
  },
  {
   "cell_type": "code",
   "execution_count": 32,
   "id": "4bcc53f2",
   "metadata": {
    "vscode": {
     "languageId": "r"
    }
   },
   "outputs": [
    {
     "name": "stderr",
     "output_type": "stream",
     "text": [
      "Warning message in fa.stats(r = r, f = f, phi = phi, n.obs = n.obs, np.obs = np.obs, :\n",
      "\"The estimated weights for the factor scores are probably incorrect.  Try a different factor score estimation method.\"\n",
      "Warning message in fac(r = r, nfactors = nfactors, n.obs = n.obs, rotate = rotate, :\n",
      "\"An ultra-Heywood case was detected.  Examine the results carefully\"\n"
     ]
    },
    {
     "data": {
      "text/plain": [
       "\n",
       "Loadings:\n",
       "       PA1  \n",
       "人口   0.400\n",
       "教育   0.717\n",
       "佣人   0.489\n",
       "服务业 1.014\n",
       "房价   0.761\n",
       "\n",
       "                 PA1\n",
       "SS loadings    2.519\n",
       "Proportion Var 0.504"
      ]
     },
     "metadata": {},
     "output_type": "display_data"
    }
   ],
   "source": [
    "fapa1 = fa(data, nfactors = 1, residuals = TRUE, rotate = \"none\", fm = \"pa\", covar = FALSE, SMC = TRUE)  #主因子法因子分析（fm = \"pa\"），从相关矩阵出发（covar = FALSE，为缺省选项），对每个原始变量取初始共性方差为该变量与其余所有变量的样本复相关系数的平方（SMC = TRUE，为缺省选项）\n",
    "fapa1$loadings  #因子载荷矩阵，列元素的平方和、因子所解释的总方差的比例及累计比例"
   ]
  },
  {
   "cell_type": "code",
   "execution_count": 33,
   "id": "2ecdd660",
   "metadata": {
    "vscode": {
     "languageId": "r"
    }
   },
   "outputs": [
    {
     "name": "stderr",
     "output_type": "stream",
     "text": [
      "Warning message in fa.stats(r = r, f = f, phi = phi, n.obs = n.obs, np.obs = np.obs, :\n",
      "\"The estimated weights for the factor scores are probably incorrect.  Try a different factor score estimation method.\"\n",
      "Warning message in fac(r = r, nfactors = nfactors, n.obs = n.obs, rotate = rotate, :\n",
      "\"An ultra-Heywood case was detected.  Examine the results carefully\"\n"
     ]
    },
    {
     "data": {
      "text/plain": [
       "\n",
       "Loadings:\n",
       "       PA1    PA2   \n",
       "人口    0.624  0.783\n",
       "教育    0.703 -0.527\n",
       "佣人    0.704  0.681\n",
       "服务业  0.881 -0.148\n",
       "房价    0.775 -0.602\n",
       "\n",
       "                 PA1   PA2\n",
       "SS loadings    2.756 1.740\n",
       "Proportion Var 0.551 0.348\n",
       "Cumulative Var 0.551 0.899"
      ]
     },
     "metadata": {},
     "output_type": "display_data"
    }
   ],
   "source": [
    "fapa = fa(data, nfactors = 2, residuals = TRUE, rotate = \"none\", fm = \"pa\", covar = FALSE, SMC = TRUE)  #主因子法因子分析（fm = \"pa\"），从相关矩阵出发（covar = FALSE，为缺省选项），对每个原始变量取初始共性方差为该变量与其余所有变量的样本复相关系数的平方（SMC = TRUE，为缺省选项）\n",
    "fapa$loadings  #因子载荷矩阵，列元素的平方和、因子所解释的总方差的比例及累计比例"
   ]
  },
  {
   "cell_type": "markdown",
   "id": "4454c02b",
   "metadata": {},
   "source": [
    "可以看到，只用一个因子对总方差的贡献度是不够的，使用两个因子比较好。"
   ]
  },
  {
   "cell_type": "code",
   "execution_count": 34,
   "id": "0c274494",
   "metadata": {
    "vscode": {
     "languageId": "r"
    }
   },
   "outputs": [
    {
     "data": {
      "text/html": [
       "<table class=\"dataframe\">\n",
       "<caption>A data.frame: 5 × 1</caption>\n",
       "<thead>\n",
       "\t<tr><th></th><th scope=col>round.fapa.communality..3.</th></tr>\n",
       "\t<tr><th></th><th scope=col>&lt;dbl&gt;</th></tr>\n",
       "</thead>\n",
       "<tbody>\n",
       "\t<tr><th scope=row>人口</th><td>1.003</td></tr>\n",
       "\t<tr><th scope=row>教育</th><td>0.772</td></tr>\n",
       "\t<tr><th scope=row>佣人</th><td>0.959</td></tr>\n",
       "\t<tr><th scope=row>服务业</th><td>0.798</td></tr>\n",
       "\t<tr><th scope=row>房价</th><td>0.964</td></tr>\n",
       "</tbody>\n",
       "</table>\n"
      ],
      "text/latex": [
       "A data.frame: 5 × 1\n",
       "\\begin{tabular}{r|l}\n",
       "  & round.fapa.communality..3.\\\\\n",
       "  & <dbl>\\\\\n",
       "\\hline\n",
       "\t人口 & 1.003\\\\\n",
       "\t教育 & 0.772\\\\\n",
       "\t佣人 & 0.959\\\\\n",
       "\t服务业 & 0.798\\\\\n",
       "\t房价 & 0.964\\\\\n",
       "\\end{tabular}\n"
      ],
      "text/markdown": [
       "\n",
       "A data.frame: 5 × 1\n",
       "\n",
       "| <!--/--> | round.fapa.communality..3. &lt;dbl&gt; |\n",
       "|---|---|\n",
       "| 人口 | 1.003 |\n",
       "| 教育 | 0.772 |\n",
       "| 佣人 | 0.959 |\n",
       "| 服务业 | 0.798 |\n",
       "| 房价 | 0.964 |\n",
       "\n"
      ],
      "text/plain": [
       "       round.fapa.communality..3.\n",
       "人口   1.003                     \n",
       "教育   0.772                     \n",
       "佣人   0.959                     \n",
       "服务业 0.798                     \n",
       "房价   0.964                     "
      ]
     },
     "metadata": {},
     "output_type": "display_data"
    }
   ],
   "source": [
    "data.frame(round(fapa$communality, 3))  #共性方差"
   ]
  },
  {
   "cell_type": "markdown",
   "id": "f72c4769",
   "metadata": {},
   "source": [
    "我们发现两因子的共性方差都较大，表明两个因子能够解释各变量方差的绝大部分。"
   ]
  },
  {
   "cell_type": "code",
   "execution_count": 35,
   "id": "dbe9e82c",
   "metadata": {
    "vscode": {
     "languageId": "r"
    }
   },
   "outputs": [
    {
     "data": {
      "text/html": [
       "<table class=\"dataframe\">\n",
       "<caption>A matrix: 5 × 5 of type dbl</caption>\n",
       "<thead>\n",
       "\t<tr><th></th><th scope=col>人口</th><th scope=col>教育</th><th scope=col>佣人</th><th scope=col>服务业</th><th scope=col>房价</th></tr>\n",
       "</thead>\n",
       "<tbody>\n",
       "\t<tr><th scope=row>人口</th><td> 0.000</td><td>-0.016</td><td> 0.000</td><td> 0.005</td><td> 0.010</td></tr>\n",
       "\t<tr><th scope=row>教育</th><td>-0.016</td><td> 0.000</td><td> 0.019</td><td>-0.006</td><td> 0.000</td></tr>\n",
       "\t<tr><th scope=row>佣人</th><td> 0.000</td><td> 0.019</td><td> 0.000</td><td>-0.005</td><td>-0.013</td></tr>\n",
       "\t<tr><th scope=row>服务业</th><td> 0.005</td><td>-0.006</td><td>-0.005</td><td> 0.000</td><td> 0.006</td></tr>\n",
       "\t<tr><th scope=row>房价</th><td> 0.010</td><td> 0.000</td><td>-0.013</td><td> 0.006</td><td> 0.000</td></tr>\n",
       "</tbody>\n",
       "</table>\n"
      ],
      "text/latex": [
       "A matrix: 5 × 5 of type dbl\n",
       "\\begin{tabular}{r|lllll}\n",
       "  & 人口 & 教育 & 佣人 & 服务业 & 房价\\\\\n",
       "\\hline\n",
       "\t人口 &  0.000 & -0.016 &  0.000 &  0.005 &  0.010\\\\\n",
       "\t教育 & -0.016 &  0.000 &  0.019 & -0.006 &  0.000\\\\\n",
       "\t佣人 &  0.000 &  0.019 &  0.000 & -0.005 & -0.013\\\\\n",
       "\t服务业 &  0.005 & -0.006 & -0.005 &  0.000 &  0.006\\\\\n",
       "\t房价 &  0.010 &  0.000 & -0.013 &  0.006 &  0.000\\\\\n",
       "\\end{tabular}\n"
      ],
      "text/markdown": [
       "\n",
       "A matrix: 5 × 5 of type dbl\n",
       "\n",
       "| <!--/--> | 人口 | 教育 | 佣人 | 服务业 | 房价 |\n",
       "|---|---|---|---|---|---|\n",
       "| 人口 |  0.000 | -0.016 |  0.000 |  0.005 |  0.010 |\n",
       "| 教育 | -0.016 |  0.000 |  0.019 | -0.006 |  0.000 |\n",
       "| 佣人 |  0.000 |  0.019 |  0.000 | -0.005 | -0.013 |\n",
       "| 服务业 |  0.005 | -0.006 | -0.005 |  0.000 |  0.006 |\n",
       "| 房价 |  0.010 |  0.000 | -0.013 |  0.006 |  0.000 |\n",
       "\n"
      ],
      "text/plain": [
       "       人口   教育   佣人   服务业 房价  \n",
       "人口    0.000 -0.016  0.000  0.005  0.010\n",
       "教育   -0.016  0.000  0.019 -0.006  0.000\n",
       "佣人    0.000  0.019  0.000 -0.005 -0.013\n",
       "服务业  0.005 -0.006 -0.005  0.000  0.006\n",
       "房价    0.010  0.000 -0.013  0.006  0.000"
      ]
     },
     "metadata": {},
     "output_type": "display_data"
    }
   ],
   "source": [
    "residual = fapa$residual-diag(diag(fapa$residual))  #残差矩阵\n",
    "round(residual, 3)"
   ]
  },
  {
   "cell_type": "markdown",
   "id": "da2e1871",
   "metadata": {},
   "source": [
    "残差矩阵的数值已经较小，说明拟合程度较高。"
   ]
  },
  {
   "cell_type": "code",
   "execution_count": 37,
   "id": "3eacf2d8",
   "metadata": {
    "vscode": {
     "languageId": "r"
    }
   },
   "outputs": [
    {
     "name": "stderr",
     "output_type": "stream",
     "text": [
      "Warning message in fa.stats(r = r, f = f, phi = phi, n.obs = n.obs, np.obs = np.obs, :\n",
      "\"The estimated weights for the factor scores are probably incorrect.  Try a different factor score estimation method.\"\n",
      "Warning message in fac(r = r, nfactors = nfactors, n.obs = n.obs, rotate = rotate, :\n",
      "\"An ultra-Heywood case was detected.  Examine the results carefully\"\n"
     ]
    },
    {
     "data": {
      "text/html": [
       "<table class=\"dataframe\">\n",
       "<caption>A data.frame: 2 × 2</caption>\n",
       "<thead>\n",
       "\t<tr><th scope=col>X1</th><th scope=col>X2</th></tr>\n",
       "\t<tr><th scope=col>&lt;dbl&gt;</th><th scope=col>&lt;dbl&gt;</th></tr>\n",
       "</thead>\n",
       "<tbody>\n",
       "\t<tr><td> 0.794</td><td>0.608</td></tr>\n",
       "\t<tr><td>-0.608</td><td>0.794</td></tr>\n",
       "</tbody>\n",
       "</table>\n"
      ],
      "text/latex": [
       "A data.frame: 2 × 2\n",
       "\\begin{tabular}{ll}\n",
       " X1 & X2\\\\\n",
       " <dbl> & <dbl>\\\\\n",
       "\\hline\n",
       "\t  0.794 & 0.608\\\\\n",
       "\t -0.608 & 0.794\\\\\n",
       "\\end{tabular}\n"
      ],
      "text/markdown": [
       "\n",
       "A data.frame: 2 × 2\n",
       "\n",
       "| X1 &lt;dbl&gt; | X2 &lt;dbl&gt; |\n",
       "|---|---|\n",
       "|  0.794 | 0.608 |\n",
       "| -0.608 | 0.794 |\n",
       "\n"
      ],
      "text/plain": [
       "  X1     X2   \n",
       "1  0.794 0.608\n",
       "2 -0.608 0.794"
      ]
     },
     "metadata": {},
     "output_type": "display_data"
    },
    {
     "data": {
      "text/plain": [
       "\n",
       "Loadings:\n",
       "       PA1    PA2   \n",
       "人口           1.001\n",
       "教育    0.879       \n",
       "佣人    0.145  0.968\n",
       "服务业  0.789  0.419\n",
       "房价    0.982       \n",
       "\n",
       "                 PA1   PA2\n",
       "SS loadings    2.380 2.115\n",
       "Proportion Var 0.476 0.423\n",
       "Cumulative Var 0.476 0.899"
      ]
     },
     "metadata": {},
     "output_type": "display_data"
    }
   ],
   "source": [
    "fapa.varimax = fa(data, nfactors = 2, rotate = \"varimax\", fm = \"pa\", scores = \"regression\")  #\"regression\"是scores的缺省选项，即按回归法计算因子得分\n",
    "data.frame(round(fapa.varimax$rot.mat, 3))  #旋转矩阵\n",
    "fapa.varimax$loadings  #旋转后的因子载荷矩阵，列元素的平方和、因子所解释的总方差的比例及累计比例"
   ]
  },
  {
   "cell_type": "code",
   "execution_count": 42,
   "id": "7358717f",
   "metadata": {
    "vscode": {
     "languageId": "r"
    }
   },
   "outputs": [
    {
     "data": {
      "image/png": "[encoded data removed]",
      "text/plain": [
       "Plot with title \"Factor Analysis\""
      ]
     },
     "metadata": {
      "image/png": {
       "height": 420,
       "width": 420
      }
     },
     "output_type": "display_data"
    }
   ],
   "source": [
    "factor.plot(fapa.varimax, xlim = c(0, 1.0), ylim = c(-0.5, 1.0))  #因子载荷图"
   ]
  },
  {
   "cell_type": "markdown",
   "id": "c65d066e",
   "metadata": {},
   "source": [
    "得到的结论和方法一一样。分别为经济发达因子和人口膨胀因子。"
   ]
  },
  {
   "cell_type": "code",
   "execution_count": 43,
   "id": "be1b43bd",
   "metadata": {
    "vscode": {
     "languageId": "r"
    }
   },
   "outputs": [
    {
     "data": {
      "text/html": [
       "<table class=\"dataframe\">\n",
       "<caption>A matrix: 5 × 2 of type dbl</caption>\n",
       "<thead>\n",
       "\t<tr><th></th><th scope=col>PA1</th><th scope=col>PA2</th></tr>\n",
       "</thead>\n",
       "<tbody>\n",
       "\t<tr><th scope=row>人口</th><td>-0.665</td><td> 1.247</td></tr>\n",
       "\t<tr><th scope=row>教育</th><td>-0.033</td><td> 0.153</td></tr>\n",
       "\t<tr><th scope=row>佣人</th><td> 0.641</td><td>-0.253</td></tr>\n",
       "\t<tr><th scope=row>服务业</th><td> 0.095</td><td> 0.004</td></tr>\n",
       "\t<tr><th scope=row>房价</th><td> 0.872</td><td>-0.139</td></tr>\n",
       "</tbody>\n",
       "</table>\n"
      ],
      "text/latex": [
       "A matrix: 5 × 2 of type dbl\n",
       "\\begin{tabular}{r|ll}\n",
       "  & PA1 & PA2\\\\\n",
       "\\hline\n",
       "\t人口 & -0.665 &  1.247\\\\\n",
       "\t教育 & -0.033 &  0.153\\\\\n",
       "\t佣人 &  0.641 & -0.253\\\\\n",
       "\t服务业 &  0.095 &  0.004\\\\\n",
       "\t房价 &  0.872 & -0.139\\\\\n",
       "\\end{tabular}\n"
      ],
      "text/markdown": [
       "\n",
       "A matrix: 5 × 2 of type dbl\n",
       "\n",
       "| <!--/--> | PA1 | PA2 |\n",
       "|---|---|---|\n",
       "| 人口 | -0.665 |  1.247 |\n",
       "| 教育 | -0.033 |  0.153 |\n",
       "| 佣人 |  0.641 | -0.253 |\n",
       "| 服务业 |  0.095 |  0.004 |\n",
       "| 房价 |  0.872 | -0.139 |\n",
       "\n"
      ],
      "text/plain": [
       "       PA1    PA2   \n",
       "人口   -0.665  1.247\n",
       "教育   -0.033  0.153\n",
       "佣人    0.641 -0.253\n",
       "服务业  0.095  0.004\n",
       "房价    0.872 -0.139"
      ]
     },
     "metadata": {},
     "output_type": "display_data"
    }
   ],
   "source": [
    "round(fapa.varimax$weights, 3)  #标准化得分系数"
   ]
  },
  {
   "cell_type": "markdown",
   "id": "80c8e1b6",
   "metadata": {},
   "source": [
    "根据标准化的得分系数，我们有如下表达式：\n",
    "\n",
    "$$\n",
    "\\begin{gathered}\n",
    "\\hat{f}_{1}^{*}=-0.665 x_{1}^{*}-0.033 x_{2}^{*}+0.641 x_{3}^{*}+0.095x_{4}^{*}+0.872 x_{5}^{*} \\\\\n",
    "\\hat{f}_{2}^{*}=1.247 x_{1}^{*}+0.153 x_{2}^{*}-0.253 x_{3}^{*}+0.004 x_{4}^{*}-0.139 x_{5}^{*}\n",
    "\\end{gathered}\n",
    "$$"
   ]
  },
  {
   "cell_type": "code",
   "execution_count": 44,
   "id": "ea62e4f1",
   "metadata": {
    "vscode": {
     "languageId": "r"
    }
   },
   "outputs": [
    {
     "data": {
      "text/html": [
       "<table class=\"dataframe\">\n",
       "<caption>A matrix: 6 × 2 of type dbl</caption>\n",
       "<thead>\n",
       "\t<tr><th></th><th scope=col>PA1</th><th scope=col>PA2</th></tr>\n",
       "</thead>\n",
       "<tbody>\n",
       "\t<tr><th scope=row>3</th><td>-1.279</td><td>-0.813</td></tr>\n",
       "\t<tr><th scope=row>2</th><td>-0.923</td><td>-1.444</td></tr>\n",
       "\t<tr><th scope=row>6</th><td>-0.919</td><td> 0.494</td></tr>\n",
       "\t<tr><th scope=row>11</th><td>-0.836</td><td> 0.971</td></tr>\n",
       "\t<tr><th scope=row>8</th><td>-0.516</td><td> 0.907</td></tr>\n",
       "\t<tr><th scope=row>12</th><td>-0.315</td><td> 0.888</td></tr>\n",
       "</tbody>\n",
       "</table>\n"
      ],
      "text/latex": [
       "A matrix: 6 × 2 of type dbl\n",
       "\\begin{tabular}{r|ll}\n",
       "  & PA1 & PA2\\\\\n",
       "\\hline\n",
       "\t3 & -1.279 & -0.813\\\\\n",
       "\t2 & -0.923 & -1.444\\\\\n",
       "\t6 & -0.919 &  0.494\\\\\n",
       "\t11 & -0.836 &  0.971\\\\\n",
       "\t8 & -0.516 &  0.907\\\\\n",
       "\t12 & -0.315 &  0.888\\\\\n",
       "\\end{tabular}\n"
      ],
      "text/markdown": [
       "\n",
       "A matrix: 6 × 2 of type dbl\n",
       "\n",
       "| <!--/--> | PA1 | PA2 |\n",
       "|---|---|---|\n",
       "| 3 | -1.279 | -0.813 |\n",
       "| 2 | -0.923 | -1.444 |\n",
       "| 6 | -0.919 |  0.494 |\n",
       "| 11 | -0.836 |  0.971 |\n",
       "| 8 | -0.516 |  0.907 |\n",
       "| 12 | -0.315 |  0.888 |\n",
       "\n"
      ],
      "text/plain": [
       "   PA1    PA2   \n",
       "3  -1.279 -0.813\n",
       "2  -0.923 -1.444\n",
       "6  -0.919  0.494\n",
       "11 -0.836  0.971\n",
       "8  -0.516  0.907\n",
       "12 -0.315  0.888"
      ]
     },
     "metadata": {},
     "output_type": "display_data"
    },
    {
     "data": {
      "text/html": [
       "<table class=\"dataframe\">\n",
       "<caption>A matrix: 6 × 2 of type dbl</caption>\n",
       "<thead>\n",
       "\t<tr><th></th><th scope=col>PA1</th><th scope=col>PA2</th></tr>\n",
       "</thead>\n",
       "<tbody>\n",
       "\t<tr><th scope=row>7</th><td>-0.252</td><td>-1.419</td></tr>\n",
       "\t<tr><th scope=row>9</th><td> 0.010</td><td> 1.180</td></tr>\n",
       "\t<tr><th scope=row>5</th><td> 1.142</td><td>-0.721</td></tr>\n",
       "\t<tr><th scope=row>4</th><td> 1.218</td><td>-0.746</td></tr>\n",
       "\t<tr><th scope=row>10</th><td> 1.283</td><td> 0.987</td></tr>\n",
       "\t<tr><th scope=row>1</th><td> 1.386</td><td>-0.284</td></tr>\n",
       "</tbody>\n",
       "</table>\n"
      ],
      "text/latex": [
       "A matrix: 6 × 2 of type dbl\n",
       "\\begin{tabular}{r|ll}\n",
       "  & PA1 & PA2\\\\\n",
       "\\hline\n",
       "\t7 & -0.252 & -1.419\\\\\n",
       "\t9 &  0.010 &  1.180\\\\\n",
       "\t5 &  1.142 & -0.721\\\\\n",
       "\t4 &  1.218 & -0.746\\\\\n",
       "\t10 &  1.283 &  0.987\\\\\n",
       "\t1 &  1.386 & -0.284\\\\\n",
       "\\end{tabular}\n"
      ],
      "text/markdown": [
       "\n",
       "A matrix: 6 × 2 of type dbl\n",
       "\n",
       "| <!--/--> | PA1 | PA2 |\n",
       "|---|---|---|\n",
       "| 7 | -0.252 | -1.419 |\n",
       "| 9 |  0.010 |  1.180 |\n",
       "| 5 |  1.142 | -0.721 |\n",
       "| 4 |  1.218 | -0.746 |\n",
       "| 10 |  1.283 |  0.987 |\n",
       "| 1 |  1.386 | -0.284 |\n",
       "\n"
      ],
      "text/plain": [
       "   PA1    PA2   \n",
       "7  -0.252 -1.419\n",
       "9   0.010  1.180\n",
       "5   1.142 -0.721\n",
       "4   1.218 -0.746\n",
       "10  1.283  0.987\n",
       "1   1.386 -0.284"
      ]
     },
     "metadata": {},
     "output_type": "display_data"
    },
    {
     "data": {
      "text/html": [
       "<table class=\"dataframe\">\n",
       "<caption>A matrix: 6 × 2 of type dbl</caption>\n",
       "<thead>\n",
       "\t<tr><th></th><th scope=col>PA1</th><th scope=col>PA2</th></tr>\n",
       "</thead>\n",
       "<tbody>\n",
       "\t<tr><th scope=row>2</th><td>-0.923</td><td>-1.444</td></tr>\n",
       "\t<tr><th scope=row>7</th><td>-0.252</td><td>-1.419</td></tr>\n",
       "\t<tr><th scope=row>3</th><td>-1.279</td><td>-0.813</td></tr>\n",
       "\t<tr><th scope=row>4</th><td> 1.218</td><td>-0.746</td></tr>\n",
       "\t<tr><th scope=row>5</th><td> 1.142</td><td>-0.721</td></tr>\n",
       "\t<tr><th scope=row>1</th><td> 1.386</td><td>-0.284</td></tr>\n",
       "</tbody>\n",
       "</table>\n"
      ],
      "text/latex": [
       "A matrix: 6 × 2 of type dbl\n",
       "\\begin{tabular}{r|ll}\n",
       "  & PA1 & PA2\\\\\n",
       "\\hline\n",
       "\t2 & -0.923 & -1.444\\\\\n",
       "\t7 & -0.252 & -1.419\\\\\n",
       "\t3 & -1.279 & -0.813\\\\\n",
       "\t4 &  1.218 & -0.746\\\\\n",
       "\t5 &  1.142 & -0.721\\\\\n",
       "\t1 &  1.386 & -0.284\\\\\n",
       "\\end{tabular}\n"
      ],
      "text/markdown": [
       "\n",
       "A matrix: 6 × 2 of type dbl\n",
       "\n",
       "| <!--/--> | PA1 | PA2 |\n",
       "|---|---|---|\n",
       "| 2 | -0.923 | -1.444 |\n",
       "| 7 | -0.252 | -1.419 |\n",
       "| 3 | -1.279 | -0.813 |\n",
       "| 4 |  1.218 | -0.746 |\n",
       "| 5 |  1.142 | -0.721 |\n",
       "| 1 |  1.386 | -0.284 |\n",
       "\n"
      ],
      "text/plain": [
       "  PA1    PA2   \n",
       "2 -0.923 -1.444\n",
       "7 -0.252 -1.419\n",
       "3 -1.279 -0.813\n",
       "4  1.218 -0.746\n",
       "5  1.142 -0.721\n",
       "1  1.386 -0.284"
      ]
     },
     "metadata": {},
     "output_type": "display_data"
    },
    {
     "data": {
      "text/html": [
       "<table class=\"dataframe\">\n",
       "<caption>A matrix: 6 × 2 of type dbl</caption>\n",
       "<thead>\n",
       "\t<tr><th></th><th scope=col>PA1</th><th scope=col>PA2</th></tr>\n",
       "</thead>\n",
       "<tbody>\n",
       "\t<tr><th scope=row>6</th><td>-0.919</td><td>0.494</td></tr>\n",
       "\t<tr><th scope=row>12</th><td>-0.315</td><td>0.888</td></tr>\n",
       "\t<tr><th scope=row>8</th><td>-0.516</td><td>0.907</td></tr>\n",
       "\t<tr><th scope=row>11</th><td>-0.836</td><td>0.971</td></tr>\n",
       "\t<tr><th scope=row>10</th><td> 1.283</td><td>0.987</td></tr>\n",
       "\t<tr><th scope=row>9</th><td> 0.010</td><td>1.180</td></tr>\n",
       "</tbody>\n",
       "</table>\n"
      ],
      "text/latex": [
       "A matrix: 6 × 2 of type dbl\n",
       "\\begin{tabular}{r|ll}\n",
       "  & PA1 & PA2\\\\\n",
       "\\hline\n",
       "\t6 & -0.919 & 0.494\\\\\n",
       "\t12 & -0.315 & 0.888\\\\\n",
       "\t8 & -0.516 & 0.907\\\\\n",
       "\t11 & -0.836 & 0.971\\\\\n",
       "\t10 &  1.283 & 0.987\\\\\n",
       "\t9 &  0.010 & 1.180\\\\\n",
       "\\end{tabular}\n"
      ],
      "text/markdown": [
       "\n",
       "A matrix: 6 × 2 of type dbl\n",
       "\n",
       "| <!--/--> | PA1 | PA2 |\n",
       "|---|---|---|\n",
       "| 6 | -0.919 | 0.494 |\n",
       "| 12 | -0.315 | 0.888 |\n",
       "| 8 | -0.516 | 0.907 |\n",
       "| 11 | -0.836 | 0.971 |\n",
       "| 10 |  1.283 | 0.987 |\n",
       "| 9 |  0.010 | 1.180 |\n",
       "\n"
      ],
      "text/plain": [
       "   PA1    PA2  \n",
       "6  -0.919 0.494\n",
       "12 -0.315 0.888\n",
       "8  -0.516 0.907\n",
       "11 -0.836 0.971\n",
       "10  1.283 0.987\n",
       "9   0.010 1.180"
      ]
     },
     "metadata": {},
     "output_type": "display_data"
    }
   ],
   "source": [
    "scores = round(fapa.varimax$scores, 3)  #因子得分\n",
    "head(scores[order(scores[, 1]), ])  #按因子1得分排序\n",
    "tail(scores[order(scores[, 1]), ])\n",
    "head(scores[order(scores[, 2]), ])  #按因子2得分排序\n",
    "tail(scores[order(scores[, 2]), ])"
   ]
  },
  {
   "cell_type": "code",
   "execution_count": 45,
   "id": "45d02a59",
   "metadata": {
    "vscode": {
     "languageId": "r"
    }
   },
   "outputs": [
    {
     "data": {
      "image/png": "[encoded data removed]",
      "text/plain": [
       "plot without title"
      ]
     },
     "metadata": {
      "image/png": {
       "height": 420,
       "width": 420
      }
     },
     "output_type": "display_data"
    }
   ],
   "source": [
    "plot(scores[,1], scores[,2], xlab = colnames(scores)[1], ylab = colnames(scores)[2], xlim = c(-1.3, 3.9), ylim = c(-1.8, 3.8))\n",
    "text(scores[,1], scores[,2], row.names(data), pos = 4, cex = 0.7)\n",
    "abline(v = 0, h = 0, lty = 3)"
   ]
  },
  {
   "cell_type": "markdown",
   "id": "4562a725",
   "metadata": {},
   "source": [
    "分类的结果和主成分法也较为类似。"
   ]
  },
  {
   "cell_type": "markdown",
   "id": "939818a1",
   "metadata": {},
   "source": [
    "### 五、使用极大似然法求解模型"
   ]
  },
  {
   "cell_type": "markdown",
   "id": "220d3419",
   "metadata": {},
   "source": [
    "设公共因子和特殊因子服从正态分布且相互独立, 则原始变量 $x \\sim N_{p}(\\mu, \\Sigma)$. 又由于 $\\Sigma=\\mathrm{AA}^{\\prime}+D$, 故似然函数可以表示为$\\operatorname{L}(\\mu ,A,\\operatorname{D})$，且有$\\operatorname{L}(\\hat{\\mu} ,\\hat{A},\\operatorname{\\hat{D}})=max \\operatorname{L}(\\mu ,A,\\operatorname{D})$.可以证明，$\\hat{A}$和$\\hat{D}$满足以下方程，并且通常$A^{\\prime}D^{-1}A$是对角矩阵：\n",
    "\n",
    "$$\n",
    "\\left\\{\\begin{array}{l}\n",
    "\\hat{\\Sigma} \\hat{D}^{-1} \\hat{A}=\\hat{A}\\left(I_{m}+\\hat{A}^{\\prime} \\hat{D}^{-1} \\hat{A}\\right) \\\\\n",
    "\\hat{D}=\\operatorname{diag}\\left(\\hat{\\Sigma}-\\hat{A} \\hat{A}^{\\prime}\\right)\n",
    "\\end{array}\\right.\n",
    "$$\n",
    "\n",
    "需要注意的是, 对极大似然解, 各因子所解释的总方差的比例末必像主成分解及主因子解那样依次递减；当因子数增加时， 原来因子的估计载荷及对 $\\mathrm{x}$ 的贡献将发生变化。"
   ]
  },
  {
   "cell_type": "code",
   "execution_count": 47,
   "id": "e22dcc1e",
   "metadata": {
    "vscode": {
     "languageId": "r"
    }
   },
   "outputs": [
    {
     "data": {
      "text/plain": [
       "\n",
       "Loadings:\n",
       "       ML1  \n",
       "人口   0.975\n",
       "教育   0.145\n",
       "佣人   0.998\n",
       "服务业 0.511\n",
       "房价   0.116\n",
       "\n",
       "                 ML1\n",
       "SS loadings    2.240\n",
       "Proportion Var 0.448"
      ]
     },
     "metadata": {},
     "output_type": "display_data"
    }
   ],
   "source": [
    "faml1 = fa(data, nfactors = 1, residuals = TRUE, rotate = \"none\", fm = \"ml\")  #极大似然法因子分析（fm = \"ml\"），选取2个因子，残差矩阵，未旋转\n",
    "faml1$loadings  #因子载荷矩阵，列元素的平方和、因子所解释的总方差的比例及累计比例"
   ]
  },
  {
   "cell_type": "code",
   "execution_count": 48,
   "id": "e108bc5e",
   "metadata": {
    "vscode": {
     "languageId": "r"
    }
   },
   "outputs": [
    {
     "data": {
      "text/plain": [
       "\n",
       "Loadings:\n",
       "       ML2    ML1   \n",
       "人口           0.997\n",
       "教育    0.897       \n",
       "佣人           0.978\n",
       "服务业  0.777  0.460\n",
       "房价    0.961       \n",
       "\n",
       "                 ML2   ML1\n",
       "SS loadings    2.342 2.165\n",
       "Proportion Var 0.468 0.433\n",
       "Cumulative Var 0.468 0.901"
      ]
     },
     "metadata": {},
     "output_type": "display_data"
    }
   ],
   "source": [
    "faml = fa(data, nfactors = 2, residuals = TRUE, rotate = \"none\", fm = \"ml\")  #极大似然法因子分析（fm = \"ml\"），选取2个因子，残差矩阵，未旋转\n",
    "faml$loadings  #因子载荷矩阵，列元素的平方和、因子所解释的总方差的比例及累计比例"
   ]
  },
  {
   "cell_type": "markdown",
   "id": "a9f3fc71",
   "metadata": {},
   "source": [
    "根据Cumulative Var的结果，应当选择m=2时的情况。"
   ]
  },
  {
   "cell_type": "code",
   "execution_count": 49,
   "id": "32f3993a",
   "metadata": {
    "vscode": {
     "languageId": "r"
    }
   },
   "outputs": [
    {
     "data": {
      "text/html": [
       "<table class=\"dataframe\">\n",
       "<caption>A data.frame: 5 × 1</caption>\n",
       "<thead>\n",
       "\t<tr><th></th><th scope=col>round.faml.communality..3.</th></tr>\n",
       "\t<tr><th></th><th scope=col>&lt;dbl&gt;</th></tr>\n",
       "</thead>\n",
       "<tbody>\n",
       "\t<tr><th scope=row>人口</th><td>0.995</td></tr>\n",
       "\t<tr><th scope=row>教育</th><td>0.807</td></tr>\n",
       "\t<tr><th scope=row>佣人</th><td>0.964</td></tr>\n",
       "\t<tr><th scope=row>服务业</th><td>0.815</td></tr>\n",
       "\t<tr><th scope=row>房价</th><td>0.926</td></tr>\n",
       "</tbody>\n",
       "</table>\n"
      ],
      "text/latex": [
       "A data.frame: 5 × 1\n",
       "\\begin{tabular}{r|l}\n",
       "  & round.faml.communality..3.\\\\\n",
       "  & <dbl>\\\\\n",
       "\\hline\n",
       "\t人口 & 0.995\\\\\n",
       "\t教育 & 0.807\\\\\n",
       "\t佣人 & 0.964\\\\\n",
       "\t服务业 & 0.815\\\\\n",
       "\t房价 & 0.926\\\\\n",
       "\\end{tabular}\n"
      ],
      "text/markdown": [
       "\n",
       "A data.frame: 5 × 1\n",
       "\n",
       "| <!--/--> | round.faml.communality..3. &lt;dbl&gt; |\n",
       "|---|---|\n",
       "| 人口 | 0.995 |\n",
       "| 教育 | 0.807 |\n",
       "| 佣人 | 0.964 |\n",
       "| 服务业 | 0.815 |\n",
       "| 房价 | 0.926 |\n",
       "\n"
      ],
      "text/plain": [
       "       round.faml.communality..3.\n",
       "人口   0.995                     \n",
       "教育   0.807                     \n",
       "佣人   0.964                     \n",
       "服务业 0.815                     \n",
       "房价   0.926                     "
      ]
     },
     "metadata": {},
     "output_type": "display_data"
    }
   ],
   "source": [
    "data.frame(round(faml$communality, 3))  #共性方差"
   ]
  },
  {
   "cell_type": "markdown",
   "id": "155f2719",
   "metadata": {},
   "source": [
    "共性方差均较大，表明两个因子能够解释各变量方差的绝大部分。"
   ]
  },
  {
   "cell_type": "code",
   "execution_count": 50,
   "id": "807358c5",
   "metadata": {
    "vscode": {
     "languageId": "r"
    }
   },
   "outputs": [
    {
     "data": {
      "text/html": [
       "<table class=\"dataframe\">\n",
       "<caption>A matrix: 5 × 5 of type dbl</caption>\n",
       "<thead>\n",
       "\t<tr><th></th><th scope=col>人口</th><th scope=col>教育</th><th scope=col>佣人</th><th scope=col>服务业</th><th scope=col>房价</th></tr>\n",
       "</thead>\n",
       "<tbody>\n",
       "\t<tr><th scope=row>人口</th><td> 0.000</td><td>-0.005</td><td> 0.000</td><td> 0.001</td><td> 0.001</td></tr>\n",
       "\t<tr><th scope=row>教育</th><td>-0.005</td><td> 0.000</td><td> 0.036</td><td>-0.023</td><td>-0.001</td></tr>\n",
       "\t<tr><th scope=row>佣人</th><td> 0.000</td><td> 0.036</td><td> 0.000</td><td>-0.005</td><td>-0.011</td></tr>\n",
       "\t<tr><th scope=row>服务业</th><td> 0.001</td><td>-0.023</td><td>-0.005</td><td> 0.000</td><td> 0.010</td></tr>\n",
       "\t<tr><th scope=row>房价</th><td> 0.001</td><td>-0.001</td><td>-0.011</td><td> 0.010</td><td> 0.000</td></tr>\n",
       "</tbody>\n",
       "</table>\n"
      ],
      "text/latex": [
       "A matrix: 5 × 5 of type dbl\n",
       "\\begin{tabular}{r|lllll}\n",
       "  & 人口 & 教育 & 佣人 & 服务业 & 房价\\\\\n",
       "\\hline\n",
       "\t人口 &  0.000 & -0.005 &  0.000 &  0.001 &  0.001\\\\\n",
       "\t教育 & -0.005 &  0.000 &  0.036 & -0.023 & -0.001\\\\\n",
       "\t佣人 &  0.000 &  0.036 &  0.000 & -0.005 & -0.011\\\\\n",
       "\t服务业 &  0.001 & -0.023 & -0.005 &  0.000 &  0.010\\\\\n",
       "\t房价 &  0.001 & -0.001 & -0.011 &  0.010 &  0.000\\\\\n",
       "\\end{tabular}\n"
      ],
      "text/markdown": [
       "\n",
       "A matrix: 5 × 5 of type dbl\n",
       "\n",
       "| <!--/--> | 人口 | 教育 | 佣人 | 服务业 | 房价 |\n",
       "|---|---|---|---|---|---|\n",
       "| 人口 |  0.000 | -0.005 |  0.000 |  0.001 |  0.001 |\n",
       "| 教育 | -0.005 |  0.000 |  0.036 | -0.023 | -0.001 |\n",
       "| 佣人 |  0.000 |  0.036 |  0.000 | -0.005 | -0.011 |\n",
       "| 服务业 |  0.001 | -0.023 | -0.005 |  0.000 |  0.010 |\n",
       "| 房价 |  0.001 | -0.001 | -0.011 |  0.010 |  0.000 |\n",
       "\n"
      ],
      "text/plain": [
       "       人口   教育   佣人   服务业 房价  \n",
       "人口    0.000 -0.005  0.000  0.001  0.001\n",
       "教育   -0.005  0.000  0.036 -0.023 -0.001\n",
       "佣人    0.000  0.036  0.000 -0.005 -0.011\n",
       "服务业  0.001 -0.023 -0.005  0.000  0.010\n",
       "房价    0.001 -0.001 -0.011  0.010  0.000"
      ]
     },
     "metadata": {},
     "output_type": "display_data"
    }
   ],
   "source": [
    "residual = faml$residual-diag(diag(faml$residual))  #残差矩阵\n",
    "round(residual, 3)"
   ]
  },
  {
   "cell_type": "markdown",
   "id": "19bb76fc",
   "metadata": {},
   "source": [
    "残差矩阵数值较小，说明拟合效果很好。"
   ]
  },
  {
   "cell_type": "code",
   "execution_count": 51,
   "id": "0656f5c1",
   "metadata": {
    "vscode": {
     "languageId": "r"
    }
   },
   "outputs": [
    {
     "data": {
      "text/html": [
       "<table class=\"dataframe\">\n",
       "<caption>A data.frame: 2 × 2</caption>\n",
       "<thead>\n",
       "\t<tr><th scope=col>X1</th><th scope=col>X2</th></tr>\n",
       "\t<tr><th scope=col>&lt;dbl&gt;</th><th scope=col>&lt;dbl&gt;</th></tr>\n",
       "</thead>\n",
       "<tbody>\n",
       "\t<tr><td> 0.999</td><td>0.047</td></tr>\n",
       "\t<tr><td>-0.047</td><td>0.999</td></tr>\n",
       "</tbody>\n",
       "</table>\n"
      ],
      "text/latex": [
       "A data.frame: 2 × 2\n",
       "\\begin{tabular}{ll}\n",
       " X1 & X2\\\\\n",
       " <dbl> & <dbl>\\\\\n",
       "\\hline\n",
       "\t  0.999 & 0.047\\\\\n",
       "\t -0.047 & 0.999\\\\\n",
       "\\end{tabular}\n"
      ],
      "text/markdown": [
       "\n",
       "A data.frame: 2 × 2\n",
       "\n",
       "| X1 &lt;dbl&gt; | X2 &lt;dbl&gt; |\n",
       "|---|---|\n",
       "|  0.999 | 0.047 |\n",
       "| -0.047 | 0.999 |\n",
       "\n"
      ],
      "text/plain": [
       "  X1     X2   \n",
       "1  0.999 0.047\n",
       "2 -0.047 0.999"
      ]
     },
     "metadata": {},
     "output_type": "display_data"
    },
    {
     "data": {
      "text/plain": [
       "\n",
       "Loadings:\n",
       "       ML2    ML1   \n",
       "人口           0.997\n",
       "教育    0.898       \n",
       "佣人    0.137  0.972\n",
       "服务业  0.798  0.423\n",
       "房价    0.962       \n",
       "\n",
       "                 ML2   ML1\n",
       "SS loadings    2.388 2.118\n",
       "Proportion Var 0.478 0.424\n",
       "Cumulative Var 0.478 0.901"
      ]
     },
     "metadata": {},
     "output_type": "display_data"
    }
   ],
   "source": [
    "faml.varimax = fa(data, nfactors = 2, rotate = \"varimax\", fm = \"ml\", scores = \"regression\")  #极大似然法因子分析，选取2个因子，使用最大方差旋转法，计算因子得分（缺省时为回归法）\n",
    "data.frame(round(faml.varimax$rot.mat, 3))\n",
    "faml.varimax$loadings  #旋转后的因子载荷矩阵，列元素的平方和、因子所解释的总方差的比例及累计比例"
   ]
  },
  {
   "cell_type": "code",
   "execution_count": 53,
   "id": "f6a136bb",
   "metadata": {
    "vscode": {
     "languageId": "r"
    }
   },
   "outputs": [
    {
     "data": {
      "image/png": "[encoded data removed]",
      "text/plain": [
       "Plot with title \"Factor Analysis\""
      ]
     },
     "metadata": {
      "image/png": {
       "height": 420,
       "width": 420
      }
     },
     "output_type": "display_data"
    }
   ],
   "source": [
    "factor.plot(faml.varimax, xlim = c(0, 1.0), ylim = c(-0.5, 1.0))  #因子载荷图"
   ]
  },
  {
   "cell_type": "markdown",
   "id": "a97a234b",
   "metadata": {},
   "source": [
    "得到的结论前面的是相同的。"
   ]
  },
  {
   "cell_type": "code",
   "execution_count": 54,
   "id": "1c0f3e8b",
   "metadata": {
    "vscode": {
     "languageId": "r"
    }
   },
   "outputs": [
    {
     "data": {
      "text/html": [
       "<table class=\"dataframe\">\n",
       "<caption>A matrix: 5 × 2 of type dbl</caption>\n",
       "<thead>\n",
       "\t<tr><th></th><th scope=col>ML2</th><th scope=col>ML1</th></tr>\n",
       "</thead>\n",
       "<tbody>\n",
       "\t<tr><th scope=row>人口</th><td>-0.202</td><td> 0.887</td></tr>\n",
       "\t<tr><th scope=row>教育</th><td> 0.218</td><td>-0.009</td></tr>\n",
       "\t<tr><th scope=row>佣人</th><td> 0.124</td><td> 0.113</td></tr>\n",
       "\t<tr><th scope=row>服务业</th><td> 0.197</td><td> 0.002</td></tr>\n",
       "\t<tr><th scope=row>房价</th><td> 0.610</td><td>-0.026</td></tr>\n",
       "</tbody>\n",
       "</table>\n"
      ],
      "text/latex": [
       "A matrix: 5 × 2 of type dbl\n",
       "\\begin{tabular}{r|ll}\n",
       "  & ML2 & ML1\\\\\n",
       "\\hline\n",
       "\t人口 & -0.202 &  0.887\\\\\n",
       "\t教育 &  0.218 & -0.009\\\\\n",
       "\t佣人 &  0.124 &  0.113\\\\\n",
       "\t服务业 &  0.197 &  0.002\\\\\n",
       "\t房价 &  0.610 & -0.026\\\\\n",
       "\\end{tabular}\n"
      ],
      "text/markdown": [
       "\n",
       "A matrix: 5 × 2 of type dbl\n",
       "\n",
       "| <!--/--> | ML2 | ML1 |\n",
       "|---|---|---|\n",
       "| 人口 | -0.202 |  0.887 |\n",
       "| 教育 |  0.218 | -0.009 |\n",
       "| 佣人 |  0.124 |  0.113 |\n",
       "| 服务业 |  0.197 |  0.002 |\n",
       "| 房价 |  0.610 | -0.026 |\n",
       "\n"
      ],
      "text/plain": [
       "       ML2    ML1   \n",
       "人口   -0.202  0.887\n",
       "教育    0.218 -0.009\n",
       "佣人    0.124  0.113\n",
       "服务业  0.197  0.002\n",
       "房价    0.610 -0.026"
      ]
     },
     "metadata": {},
     "output_type": "display_data"
    }
   ],
   "source": [
    "round(faml.varimax$weights, 3)  #标准化得分系数"
   ]
  },
  {
   "cell_type": "markdown",
   "id": "008e46c6",
   "metadata": {},
   "source": [
    "根据标准化的得分系数，我们有如下表达式：\n",
    "\n",
    "$$\n",
    "\\begin{gathered}\n",
    "\\hat{f}_{1}^{*}=-0.202x_{1}^{*}+0.218 x_{2}^{*}+0.124 x_{3}^{*}+0.197x_{4}^{*}+0.610 x_{5}^{*} \\\\\n",
    "\\hat{f}_{2}^{*}=0.887x_{1}^{*}-0.009 x_{2}^{*}+0.113 x_{3}^{*}+0.002 x_{4}^{*}-0.026 x_{5}^{*}\n",
    "\\end{gathered}\n",
    "$$"
   ]
  },
  {
   "cell_type": "code",
   "execution_count": 55,
   "id": "cef8b0d6",
   "metadata": {
    "vscode": {
     "languageId": "r"
    }
   },
   "outputs": [
    {
     "data": {
      "text/html": [
       "<table class=\"dataframe\">\n",
       "<caption>A matrix: 6 × 2 of type dbl</caption>\n",
       "<thead>\n",
       "\t<tr><th></th><th scope=col>ML2</th><th scope=col>ML1</th></tr>\n",
       "</thead>\n",
       "<tbody>\n",
       "\t<tr><th scope=row>3</th><td>-1.245</td><td>-0.810</td></tr>\n",
       "\t<tr><th scope=row>6</th><td>-1.055</td><td> 0.565</td></tr>\n",
       "\t<tr><th scope=row>11</th><td>-0.875</td><td> 0.984</td></tr>\n",
       "\t<tr><th scope=row>2</th><td>-0.792</td><td>-1.480</td></tr>\n",
       "\t<tr><th scope=row>8</th><td>-0.456</td><td> 0.836</td></tr>\n",
       "\t<tr><th scope=row>12</th><td>-0.443</td><td> 0.983</td></tr>\n",
       "</tbody>\n",
       "</table>\n"
      ],
      "text/latex": [
       "A matrix: 6 × 2 of type dbl\n",
       "\\begin{tabular}{r|ll}\n",
       "  & ML2 & ML1\\\\\n",
       "\\hline\n",
       "\t3 & -1.245 & -0.810\\\\\n",
       "\t6 & -1.055 &  0.565\\\\\n",
       "\t11 & -0.875 &  0.984\\\\\n",
       "\t2 & -0.792 & -1.480\\\\\n",
       "\t8 & -0.456 &  0.836\\\\\n",
       "\t12 & -0.443 &  0.983\\\\\n",
       "\\end{tabular}\n"
      ],
      "text/markdown": [
       "\n",
       "A matrix: 6 × 2 of type dbl\n",
       "\n",
       "| <!--/--> | ML2 | ML1 |\n",
       "|---|---|---|\n",
       "| 3 | -1.245 | -0.810 |\n",
       "| 6 | -1.055 |  0.565 |\n",
       "| 11 | -0.875 |  0.984 |\n",
       "| 2 | -0.792 | -1.480 |\n",
       "| 8 | -0.456 |  0.836 |\n",
       "| 12 | -0.443 |  0.983 |\n",
       "\n"
      ],
      "text/plain": [
       "   ML2    ML1   \n",
       "3  -1.245 -0.810\n",
       "6  -1.055  0.565\n",
       "11 -0.875  0.984\n",
       "2  -0.792 -1.480\n",
       "8  -0.456  0.836\n",
       "12 -0.443  0.983"
      ]
     },
     "metadata": {},
     "output_type": "display_data"
    },
    {
     "data": {
      "text/html": [
       "<table class=\"dataframe\">\n",
       "<caption>A matrix: 6 × 2 of type dbl</caption>\n",
       "<thead>\n",
       "\t<tr><th></th><th scope=col>ML2</th><th scope=col>ML1</th></tr>\n",
       "</thead>\n",
       "<tbody>\n",
       "\t<tr><th scope=row>2</th><td>-0.792</td><td>-1.480</td></tr>\n",
       "\t<tr><th scope=row>7</th><td>-0.188</td><td>-1.474</td></tr>\n",
       "\t<tr><th scope=row>3</th><td>-1.245</td><td>-0.810</td></tr>\n",
       "\t<tr><th scope=row>4</th><td> 1.143</td><td>-0.731</td></tr>\n",
       "\t<tr><th scope=row>5</th><td> 1.024</td><td>-0.684</td></tr>\n",
       "\t<tr><th scope=row>1</th><td> 1.237</td><td>-0.162</td></tr>\n",
       "</tbody>\n",
       "</table>\n"
      ],
      "text/latex": [
       "A matrix: 6 × 2 of type dbl\n",
       "\\begin{tabular}{r|ll}\n",
       "  & ML2 & ML1\\\\\n",
       "\\hline\n",
       "\t2 & -0.792 & -1.480\\\\\n",
       "\t7 & -0.188 & -1.474\\\\\n",
       "\t3 & -1.245 & -0.810\\\\\n",
       "\t4 &  1.143 & -0.731\\\\\n",
       "\t5 &  1.024 & -0.684\\\\\n",
       "\t1 &  1.237 & -0.162\\\\\n",
       "\\end{tabular}\n"
      ],
      "text/markdown": [
       "\n",
       "A matrix: 6 × 2 of type dbl\n",
       "\n",
       "| <!--/--> | ML2 | ML1 |\n",
       "|---|---|---|\n",
       "| 2 | -0.792 | -1.480 |\n",
       "| 7 | -0.188 | -1.474 |\n",
       "| 3 | -1.245 | -0.810 |\n",
       "| 4 |  1.143 | -0.731 |\n",
       "| 5 |  1.024 | -0.684 |\n",
       "| 1 |  1.237 | -0.162 |\n",
       "\n"
      ],
      "text/plain": [
       "  ML2    ML1   \n",
       "2 -0.792 -1.480\n",
       "7 -0.188 -1.474\n",
       "3 -1.245 -0.810\n",
       "4  1.143 -0.731\n",
       "5  1.024 -0.684\n",
       "1  1.237 -0.162"
      ]
     },
     "metadata": {},
     "output_type": "display_data"
    }
   ],
   "source": [
    "scores = round(faml.varimax$scores, 3)  #因子得分\n",
    "head(scores[order(scores[, 1]), ])  #按因子1得分排序\n",
    "head(scores[order(scores[, 2]), ])  #按因子2得分排序"
   ]
  },
  {
   "cell_type": "code",
   "execution_count": 56,
   "id": "eeab875e",
   "metadata": {
    "vscode": {
     "languageId": "r"
    }
   },
   "outputs": [
    {
     "data": {
      "image/png": "[encoded data removed]",
      "text/plain": [
       "plot without title"
      ]
     },
     "metadata": {
      "image/png": {
       "height": 420,
       "width": 420
      }
     },
     "output_type": "display_data"
    }
   ],
   "source": [
    "plot(scores[,1], scores[,2], xlab = colnames(scores)[1], ylab = colnames(scores)[2], xlim = c(-1.3, 3.9), ylim = c(-1.8, 3.8))\n",
    "text(scores[,1], scores[,2], row.names(data), pos = 4, cex = 0.7)\n",
    "abline(v = 0, h = 0, lty = 3)"
   ]
  },
  {
   "cell_type": "markdown",
   "id": "51073f45",
   "metadata": {},
   "source": [
    "得到的结论与前面的两种方法一致。"
   ]
  }
 ],
 "metadata": {
  "kernelspec": {
   "display_name": "R",
   "language": "R",
   "name": "ir"
  },
  "language_info": {
   "codemirror_mode": "r",
   "file_extension": ".r",
   "mimetype": "text/x-r-source",
   "name": "R",
   "pygments_lexer": "r",
   "version": "4.1.3"
  },
  "toc": {
   "base_numbering": 1,
   "nav_menu": {},
   "number_sections": true,
   "sideBar": true,
   "skip_h1_title": false,
   "title_cell": "Table of Contents",
   "title_sidebar": "Contents",
   "toc_cell": true,
   "toc_position": {},
   "toc_section_display": true,
   "toc_window_display": true
  }
 },
 "nbformat": 4,
 "nbformat_minor": 5
}
