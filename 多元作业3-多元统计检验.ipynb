{
 "cells": [
  {
   "cell_type": "markdown",
   "id": "0faede0e",
   "metadata": {},
   "source": [
    "### 4.1（1） 人体出汗数据：单个总体的均值检验(Σ未知)"
   ]
  },
  {
   "cell_type": "code",
   "execution_count": 145,
   "id": "955798d5",
   "metadata": {
    "vscode": {
     "languageId": "r"
    }
   },
   "outputs": [
    {
     "data": {
      "text/html": [
       "<table class=\"dataframe\">\n",
       "<caption>A tibble: 6 × 3</caption>\n",
       "<thead>\n",
       "\t<tr><th scope=col>出汗量</th><th scope=col>钠含量</th><th scope=col>钾含量</th></tr>\n",
       "\t<tr><th scope=col>&lt;dbl&gt;</th><th scope=col>&lt;dbl&gt;</th><th scope=col>&lt;dbl&gt;</th></tr>\n",
       "</thead>\n",
       "<tbody>\n",
       "\t<tr><td>3.7</td><td>48.5</td><td> 9.3</td></tr>\n",
       "\t<tr><td>5.7</td><td>65.1</td><td> 8.0</td></tr>\n",
       "\t<tr><td>3.8</td><td>47.2</td><td>10.9</td></tr>\n",
       "\t<tr><td>3.2</td><td>53.2</td><td>12.0</td></tr>\n",
       "\t<tr><td>3.1</td><td>55.5</td><td> 9.7</td></tr>\n",
       "\t<tr><td>4.6</td><td>36.1</td><td> 7.9</td></tr>\n",
       "</tbody>\n",
       "</table>\n"
      ],
      "text/latex": [
       "A tibble: 6 × 3\n",
       "\\begin{tabular}{lll}\n",
       " 出汗量 & 钠含量 & 钾含量\\\\\n",
       " <dbl> & <dbl> & <dbl>\\\\\n",
       "\\hline\n",
       "\t 3.7 & 48.5 &  9.3\\\\\n",
       "\t 5.7 & 65.1 &  8.0\\\\\n",
       "\t 3.8 & 47.2 & 10.9\\\\\n",
       "\t 3.2 & 53.2 & 12.0\\\\\n",
       "\t 3.1 & 55.5 &  9.7\\\\\n",
       "\t 4.6 & 36.1 &  7.9\\\\\n",
       "\\end{tabular}\n"
      ],
      "text/markdown": [
       "\n",
       "A tibble: 6 × 3\n",
       "\n",
       "| 出汗量 &lt;dbl&gt; | 钠含量 &lt;dbl&gt; | 钾含量 &lt;dbl&gt; |\n",
       "|---|---|---|\n",
       "| 3.7 | 48.5 |  9.3 |\n",
       "| 5.7 | 65.1 |  8.0 |\n",
       "| 3.8 | 47.2 | 10.9 |\n",
       "| 3.2 | 53.2 | 12.0 |\n",
       "| 3.1 | 55.5 |  9.7 |\n",
       "| 4.6 | 36.1 |  7.9 |\n",
       "\n"
      ],
      "text/plain": [
       "  出汗量 钠含量 钾含量\n",
       "1 3.7    48.5    9.3  \n",
       "2 5.7    65.1    8.0  \n",
       "3 3.8    47.2   10.9  \n",
       "4 3.2    53.2   12.0  \n",
       "5 3.1    55.5    9.7  \n",
       "6 4.6    36.1    7.9  "
      ]
     },
     "metadata": {},
     "output_type": "display_data"
    }
   ],
   "source": [
    "# 总体均值检验\n",
    "\n",
    "library(readxl)\n",
    "data = read_excel('.//AMSA_data//《应用多元统计分析》（第6版）Excel数据//exec4.1.xlsx')\n",
    "head(data) #查看前几行"
   ]
  },
  {
   "cell_type": "code",
   "execution_count": 146,
   "id": "40deff16",
   "metadata": {
    "vscode": {
     "languageId": "r"
    }
   },
   "outputs": [
    {
     "data": {
      "text/html": [
       "<table class=\"dataframe\">\n",
       "<caption>A data.frame: 3 × 1</caption>\n",
       "<thead>\n",
       "\t<tr><th></th><th scope=col>meanx</th></tr>\n",
       "\t<tr><th></th><th scope=col>&lt;dbl&gt;</th></tr>\n",
       "</thead>\n",
       "<tbody>\n",
       "\t<tr><th scope=row>出汗量</th><td> 4.640</td></tr>\n",
       "\t<tr><th scope=row>钠含量</th><td>45.400</td></tr>\n",
       "\t<tr><th scope=row>钾含量</th><td> 9.965</td></tr>\n",
       "</tbody>\n",
       "</table>\n"
      ],
      "text/latex": [
       "A data.frame: 3 × 1\n",
       "\\begin{tabular}{r|l}\n",
       "  & meanx\\\\\n",
       "  & <dbl>\\\\\n",
       "\\hline\n",
       "\t出汗量 &  4.640\\\\\n",
       "\t钠含量 & 45.400\\\\\n",
       "\t钾含量 &  9.965\\\\\n",
       "\\end{tabular}\n"
      ],
      "text/markdown": [
       "\n",
       "A data.frame: 3 × 1\n",
       "\n",
       "| <!--/--> | meanx &lt;dbl&gt; |\n",
       "|---|---|\n",
       "| 出汗量 |  4.640 |\n",
       "| 钠含量 | 45.400 |\n",
       "| 钾含量 |  9.965 |\n",
       "\n"
      ],
      "text/plain": [
       "       meanx \n",
       "出汗量  4.640\n",
       "钠含量 45.400\n",
       "钾含量  9.965"
      ]
     },
     "metadata": {},
     "output_type": "display_data"
    }
   ],
   "source": [
    "n = dim(data)[1] # 数据长度\n",
    "p = 3 # 维度\n",
    "mu0 = c(4,50,10)\n",
    "meanx = apply(data,2,mean)\n",
    "data.frame(meanx) # 样本均值"
   ]
  },
  {
   "cell_type": "code",
   "execution_count": 147,
   "id": "d9e95ca5",
   "metadata": {
    "vscode": {
     "languageId": "r"
    }
   },
   "outputs": [
    {
     "data": {
      "text/html": [
       "<table class=\"dataframe\">\n",
       "<caption>A matrix: 1 × 1 of type dbl</caption>\n",
       "<tbody>\n",
       "\t<tr><td>0.06492834</td></tr>\n",
       "</tbody>\n",
       "</table>\n"
      ],
      "text/latex": [
       "A matrix: 1 × 1 of type dbl\n",
       "\\begin{tabular}{l}\n",
       "\t 0.06492834\\\\\n",
       "\\end{tabular}\n"
      ],
      "text/markdown": [
       "\n",
       "A matrix: 1 × 1 of type dbl\n",
       "\n",
       "| 0.06492834 |\n",
       "\n"
      ],
      "text/plain": [
       "     [,1]      \n",
       "[1,] 0.06492834"
      ]
     },
     "metadata": {},
     "output_type": "display_data"
    }
   ],
   "source": [
    "Ts = n * t(meanx-mu0) %*% solve(cov(data)) %*% (meanx-mu0) # 计算T方统计量\n",
    "F = (n-p)/p/(n-1)*Ts\n",
    "p = 1-pf(F,p,n-p) \n",
    "p # 计算p值 "
   ]
  },
  {
   "cell_type": "markdown",
   "id": "1d3622c0",
   "metadata": {},
   "source": [
    "所以，在显著性水平α=0.05下，没有理由拒绝原假设，即认为健康成年女性的出汗量、钠含量、钾含量的均值与（5，50，10）没有显著差异。"
   ]
  },
  {
   "cell_type": "markdown",
   "id": "14fc7ae1",
   "metadata": {},
   "source": [
    "### 4.3 轮胎测试数据：两个总体均值的比较分析（Σ未知但是相等）"
   ]
  },
  {
   "cell_type": "code",
   "execution_count": 1,
   "id": "20bc762c",
   "metadata": {
    "vscode": {
     "languageId": "r"
    }
   },
   "outputs": [
    {
     "data": {
      "text/html": [
       "<table class=\"dataframe\">\n",
       "<caption>A tibble: 6 × 4</caption>\n",
       "<thead>\n",
       "\t<tr><th scope=col>第一阶段耐用性指标值</th><th scope=col>第二阶段耐用性指标值</th><th scope=col>第三阶段耐用性指标值</th><th scope=col>品牌</th></tr>\n",
       "\t<tr><th scope=col>&lt;dbl&gt;</th><th scope=col>&lt;dbl&gt;</th><th scope=col>&lt;dbl&gt;</th><th scope=col>&lt;chr&gt;</th></tr>\n",
       "</thead>\n",
       "<tbody>\n",
       "\t<tr><td>194</td><td>192</td><td>141</td><td>甲</td></tr>\n",
       "\t<tr><td>208</td><td>188</td><td>165</td><td>甲</td></tr>\n",
       "\t<tr><td>233</td><td>217</td><td>171</td><td>甲</td></tr>\n",
       "\t<tr><td>241</td><td>222</td><td>201</td><td>甲</td></tr>\n",
       "\t<tr><td>265</td><td>252</td><td>207</td><td>甲</td></tr>\n",
       "\t<tr><td>269</td><td>283</td><td>191</td><td>甲</td></tr>\n",
       "</tbody>\n",
       "</table>\n"
      ],
      "text/latex": [
       "A tibble: 6 × 4\n",
       "\\begin{tabular}{llll}\n",
       " 第一阶段耐用性指标值 & 第二阶段耐用性指标值 & 第三阶段耐用性指标值 & 品牌\\\\\n",
       " <dbl> & <dbl> & <dbl> & <chr>\\\\\n",
       "\\hline\n",
       "\t 194 & 192 & 141 & 甲\\\\\n",
       "\t 208 & 188 & 165 & 甲\\\\\n",
       "\t 233 & 217 & 171 & 甲\\\\\n",
       "\t 241 & 222 & 201 & 甲\\\\\n",
       "\t 265 & 252 & 207 & 甲\\\\\n",
       "\t 269 & 283 & 191 & 甲\\\\\n",
       "\\end{tabular}\n"
      ],
      "text/markdown": [
       "\n",
       "A tibble: 6 × 4\n",
       "\n",
       "| 第一阶段耐用性指标值 &lt;dbl&gt; | 第二阶段耐用性指标值 &lt;dbl&gt; | 第三阶段耐用性指标值 &lt;dbl&gt; | 品牌 &lt;chr&gt; |\n",
       "|---|---|---|---|\n",
       "| 194 | 192 | 141 | 甲 |\n",
       "| 208 | 188 | 165 | 甲 |\n",
       "| 233 | 217 | 171 | 甲 |\n",
       "| 241 | 222 | 201 | 甲 |\n",
       "| 265 | 252 | 207 | 甲 |\n",
       "| 269 | 283 | 191 | 甲 |\n",
       "\n"
      ],
      "text/plain": [
       "  第一阶段耐用性指标值 第二阶段耐用性指标值 第三阶段耐用性指标值 品牌\n",
       "1 194                  192                  141                  甲  \n",
       "2 208                  188                  165                  甲  \n",
       "3 233                  217                  171                  甲  \n",
       "4 241                  222                  201                  甲  \n",
       "5 265                  252                  207                  甲  \n",
       "6 269                  283                  191                  甲  "
      ]
     },
     "metadata": {},
     "output_type": "display_data"
    }
   ],
   "source": [
    "library(readxl)\n",
    "data = read_excel('.//AMSA_data//《应用多元统计分析》（第6版）Excel数据//exec4.3.xlsx')\n",
    "head(data) #查看前几行"
   ]
  },
  {
   "cell_type": "code",
   "execution_count": 151,
   "id": "6462d6fe",
   "metadata": {
    "vscode": {
     "languageId": "r"
    }
   },
   "outputs": [
    {
     "data": {
      "text/html": [
       "<table class=\"dataframe\">\n",
       "<caption>A data.frame: 3 × 1</caption>\n",
       "<thead>\n",
       "\t<tr><th></th><th scope=col>meanx</th></tr>\n",
       "\t<tr><th></th><th scope=col>&lt;dbl&gt;</th></tr>\n",
       "</thead>\n",
       "<tbody>\n",
       "\t<tr><th scope=row>第一阶段耐用性指标值</th><td>235.0000</td></tr>\n",
       "\t<tr><th scope=row>第二阶段耐用性指标值</th><td>225.6667</td></tr>\n",
       "\t<tr><th scope=row>第三阶段耐用性指标值</th><td>179.3333</td></tr>\n",
       "</tbody>\n",
       "</table>\n"
      ],
      "text/latex": [
       "A data.frame: 3 × 1\n",
       "\\begin{tabular}{r|l}\n",
       "  & meanx\\\\\n",
       "  & <dbl>\\\\\n",
       "\\hline\n",
       "\t第一阶段耐用性指标值 & 235.0000\\\\\n",
       "\t第二阶段耐用性指标值 & 225.6667\\\\\n",
       "\t第三阶段耐用性指标值 & 179.3333\\\\\n",
       "\\end{tabular}\n"
      ],
      "text/markdown": [
       "\n",
       "A data.frame: 3 × 1\n",
       "\n",
       "| <!--/--> | meanx &lt;dbl&gt; |\n",
       "|---|---|\n",
       "| 第一阶段耐用性指标值 | 235.0000 |\n",
       "| 第二阶段耐用性指标值 | 225.6667 |\n",
       "| 第三阶段耐用性指标值 | 179.3333 |\n",
       "\n"
      ],
      "text/plain": [
       "                     meanx   \n",
       "第一阶段耐用性指标值 235.0000\n",
       "第二阶段耐用性指标值 225.6667\n",
       "第三阶段耐用性指标值 179.3333"
      ]
     },
     "metadata": {},
     "output_type": "display_data"
    },
    {
     "data": {
      "text/html": [
       "<table class=\"dataframe\">\n",
       "<caption>A data.frame: 3 × 1</caption>\n",
       "<thead>\n",
       "\t<tr><th></th><th scope=col>meany</th></tr>\n",
       "\t<tr><th></th><th scope=col>&lt;dbl&gt;</th></tr>\n",
       "</thead>\n",
       "<tbody>\n",
       "\t<tr><th scope=row>第一阶段耐用性指标值</th><td>227.33333</td></tr>\n",
       "\t<tr><th scope=row>第二阶段耐用性指标值</th><td>120.00000</td></tr>\n",
       "\t<tr><th scope=row>第三阶段耐用性指标值</th><td> 89.83333</td></tr>\n",
       "</tbody>\n",
       "</table>\n"
      ],
      "text/latex": [
       "A data.frame: 3 × 1\n",
       "\\begin{tabular}{r|l}\n",
       "  & meany\\\\\n",
       "  & <dbl>\\\\\n",
       "\\hline\n",
       "\t第一阶段耐用性指标值 & 227.33333\\\\\n",
       "\t第二阶段耐用性指标值 & 120.00000\\\\\n",
       "\t第三阶段耐用性指标值 &  89.83333\\\\\n",
       "\\end{tabular}\n"
      ],
      "text/markdown": [
       "\n",
       "A data.frame: 3 × 1\n",
       "\n",
       "| <!--/--> | meany &lt;dbl&gt; |\n",
       "|---|---|\n",
       "| 第一阶段耐用性指标值 | 227.33333 |\n",
       "| 第二阶段耐用性指标值 | 120.00000 |\n",
       "| 第三阶段耐用性指标值 |  89.83333 |\n",
       "\n"
      ],
      "text/plain": [
       "                     meany    \n",
       "第一阶段耐用性指标值 227.33333\n",
       "第二阶段耐用性指标值 120.00000\n",
       "第三阶段耐用性指标值  89.83333"
      ]
     },
     "metadata": {},
     "output_type": "display_data"
    }
   ],
   "source": [
    "data1 = subset(data, 品牌=='甲')[,1:3]\n",
    "data2 = subset(data, 品牌=='乙')[,1:3]\n",
    "n = dim(data1)[1]  # dim(data1)[1] == dim(data2)[1] TRUE\n",
    "p = 3\n",
    "meanx = apply(data1,2,mean)\n",
    "meany = apply(data2,2,mean)\n",
    "data.frame(meanx)\n",
    "data.frame(meany)"
   ]
  },
  {
   "cell_type": "code",
   "execution_count": 152,
   "id": "28d174a8",
   "metadata": {
    "vscode": {
     "languageId": "r"
    }
   },
   "outputs": [
    {
     "data": {
      "text/html": [
       "<table class=\"dataframe\">\n",
       "<caption>A matrix: 1 × 1 of type dbl</caption>\n",
       "<tbody>\n",
       "\t<tr><td>1.22699e-06</td></tr>\n",
       "</tbody>\n",
       "</table>\n"
      ],
      "text/latex": [
       "A matrix: 1 × 1 of type dbl\n",
       "\\begin{tabular}{l}\n",
       "\t 1.22699e-06\\\\\n",
       "\\end{tabular}\n"
      ],
      "text/markdown": [
       "\n",
       "A matrix: 1 × 1 of type dbl\n",
       "\n",
       "| 1.22699e-06 |\n",
       "\n"
      ],
      "text/plain": [
       "     [,1]       \n",
       "[1,] 1.22699e-06"
      ]
     },
     "metadata": {},
     "output_type": "display_data"
    }
   ],
   "source": [
    "Si = function(data,mean){\n",
    "    sum = 0\n",
    "    for(i in 1:n){\n",
    "        sum = sum + (t(as.matrix(data[i,]-mean))) %*%  (as.matrix(data[i,]-mean))\n",
    "    }\n",
    "    S = (1/(n-1))*sum\n",
    "    return(S)\n",
    "}\n",
    "\n",
    "S1 = Si(data1,meanx)\n",
    "S2 = Si(data2,meany)\n",
    "Sp = ((n-1)*S1+(n-1)*S2)/(n+n-2)\n",
    "\n",
    "A = as.matrix(meanx-meany)  ;B= t(A)\n",
    "Ts = (n*n/(n+n)) * B %*% solve(Sp) %*% A\n",
    "F = (n+n-p-1)/(p*(n+n-2))*Ts\n",
    "pv = 1-pf(F,p,n+n-p-1) \n",
    "pv # 计算p值"
   ]
  },
  {
   "cell_type": "markdown",
   "id": "65c083f8",
   "metadata": {},
   "source": [
    "在显著性水平α=0.05下，可以拒绝原假设，即认为甲乙两种品牌轮胎的耐用性指标有显著差异。"
   ]
  },
  {
   "cell_type": "code",
   "execution_count": 153,
   "id": "5ab59187",
   "metadata": {
    "vscode": {
     "languageId": "r"
    }
   },
   "outputs": [
    {
     "data": {
      "text/html": [
       "<table class=\"dataframe\">\n",
       "<caption>A matrix: 3 × 1 of type dbl</caption>\n",
       "<tbody>\n",
       "\t<tr><th scope=row>第一阶段耐用性指标值</th><td>  7.666667</td></tr>\n",
       "\t<tr><th scope=row>第二阶段耐用性指标值</th><td>105.666667</td></tr>\n",
       "\t<tr><th scope=row>第三阶段耐用性指标值</th><td> 89.500000</td></tr>\n",
       "</tbody>\n",
       "</table>\n"
      ],
      "text/latex": [
       "A matrix: 3 × 1 of type dbl\n",
       "\\begin{tabular}{r|l}\n",
       "\t第一阶段耐用性指标值 &   7.666667\\\\\n",
       "\t第二阶段耐用性指标值 & 105.666667\\\\\n",
       "\t第三阶段耐用性指标值 &  89.500000\\\\\n",
       "\\end{tabular}\n"
      ],
      "text/markdown": [
       "\n",
       "A matrix: 3 × 1 of type dbl\n",
       "\n",
       "| 第一阶段耐用性指标值 |   7.666667 |\n",
       "| 第二阶段耐用性指标值 | 105.666667 |\n",
       "| 第三阶段耐用性指标值 |  89.500000 |\n",
       "\n"
      ],
      "text/plain": [
       "                     [,1]      \n",
       "第一阶段耐用性指标值   7.666667\n",
       "第二阶段耐用性指标值 105.666667\n",
       "第三阶段耐用性指标值  89.500000"
      ]
     },
     "metadata": {},
     "output_type": "display_data"
    }
   ],
   "source": [
    "as.matrix(meanx-meany) # 计算均值差值"
   ]
  },
  {
   "cell_type": "markdown",
   "id": "861feae6",
   "metadata": {},
   "source": [
    "显然，甲乙两种产品在第二个阶段的锻造过程中存在明显的差异，第三阶段次之，而在第一阶段则不存在较大差异。\n",
    "\n",
    "还可以使用多元方差分析的方法从统计上观察差异的差异性。"
   ]
  },
  {
   "cell_type": "code",
   "execution_count": 2,
   "id": "6d6c6048",
   "metadata": {
    "vscode": {
     "languageId": "r"
    }
   },
   "outputs": [
    {
     "data": {
      "text/plain": [
       " Response 第一阶段耐用性指标值 :\n",
       "            Df Sum Sq Mean Sq F value Pr(>F)\n",
       "g            1  176.3  176.33  0.2666 0.6169\n",
       "Residuals   10 6615.3  661.53               \n",
       "\n",
       " Response 第二阶段耐用性指标值 :\n",
       "            Df Sum Sq Mean Sq F value    Pr(>F)    \n",
       "g            1  33496   33496  48.215 3.978e-05 ***\n",
       "Residuals   10   6947     695                      \n",
       "---\n",
       "Signif. codes:  0 '***' 0.001 '**' 0.01 '*' 0.05 '.' 0.1 ' ' 1\n",
       "\n",
       " Response 第三阶段耐用性指标值 :\n",
       "            Df  Sum Sq Mean Sq F value    Pr(>F)    \n",
       "g            1 24030.8 24030.8  60.285 1.528e-05 ***\n",
       "Residuals   10  3986.2   398.6                      \n",
       "---\n",
       "Signif. codes:  0 '***' 0.001 '**' 0.01 '*' 0.05 '.' 0.1 ' ' 1\n"
      ]
     },
     "metadata": {},
     "output_type": "display_data"
    }
   ],
   "source": [
    "library(MASS)\n",
    "attach(data)\n",
    "g = factor(品牌)  # 转换为因子\n",
    "y = cbind(第一阶段耐用性指标值,第二阶段耐用性指标值,第三阶段耐用性指标值)\n",
    "detach(data)\n",
    "fit = manova(y~g) # 多元方差分析\n",
    "summary.aov(fit) # 一元方差分析表"
   ]
  },
  {
   "cell_type": "markdown",
   "id": "3edab8dd",
   "metadata": {},
   "source": [
    "分析三对数据方差分析的p值，对于第一阶段数据，P值为0.6169，没有理由拒绝原假设，在0.05的显著性水平下认为甲乙两个品牌在受第一阶段影响差异并不显著。同理，第二阶段和第三阶段方差分析的P值结果都远远小于0.05，即认为甲乙两个品牌在受第二、三阶段影响差异非常显著。这和我们直观观察得到的结论也是相同的。"
   ]
  }
 ],
 "metadata": {
  "kernelspec": {
   "display_name": "R",
   "language": "R",
   "name": "ir"
  },
  "language_info": {
   "codemirror_mode": "r",
   "file_extension": ".r",
   "mimetype": "text/x-r-source",
   "name": "R",
   "pygments_lexer": "r",
   "version": "4.1.3"
  }
 },
 "nbformat": 4,
 "nbformat_minor": 5
}
