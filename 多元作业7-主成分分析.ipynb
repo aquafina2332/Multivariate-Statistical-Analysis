{
 "cells": [
  {
   "cell_type": "markdown",
   "id": "f45a9583",
   "metadata": {},
   "source": [
    "## 7.6 对犯罪数据进行主成分分析"
   ]
  },
  {
   "cell_type": "markdown",
   "id": "ac4e2234",
   "metadata": {},
   "source": [
    "主成分分析是一种通过将为技术把多个变量化为少数几个主成分的统计分析方法，这些主成分能反应原始变量的绝大部分信息。本案例中的数据包含美国50个州的7种犯罪比率数据，分别是杀人罪、强奸罪、抢劫罪、伤害罪、夜盗罪、盗窃罪和汽车犯罪。显然地，这七种指标之间具有较高的信息重叠与相关性，因此我们使用主成分分析对数据进行降维能够有效简化实际问题的分析。\n",
    "\n",
    "我们首先对变量进行相关性分析，这是对数据的探索性分析。\n"
   ]
  },
  {
   "cell_type": "code",
   "execution_count": 1,
   "id": "dae0ce89",
   "metadata": {
    "vscode": {
     "languageId": "r"
    }
   },
   "outputs": [
    {
     "name": "stderr",
     "output_type": "stream",
     "text": [
      "corrplot 0.92 loaded\n",
      "\n"
     ]
    },
    {
     "data": {
      "image/png": "[encoded data removed]",
      "text/plain": [
       "Plot with title \"\""
      ]
     },
     "metadata": {
      "image/png": {
       "height": 420,
       "width": 420
      }
     },
     "output_type": "display_data"
    }
   ],
   "source": [
    "# 读入数据\n",
    "data = read.table('.//AMSA_data//《应用多元统计分析》（第6版）文本数据（以逗号为间隔）//exec7.6.csv',header = TRUE,sep = ',')\n",
    "colnames(data) = c('地区','杀人罪','强奸罪','抢劫罪','斗殴罪','夜盗罪','偷盗罪','汽车犯罪')\n",
    "# 绘制热力图\n",
    "library(\"corrplot\")\n",
    "b = cor(as.matrix(data[,-1])) # 相关系数矩阵\n",
    "col = colorRampPalette(c(\"navy\", \"white\", \"firebrick3\"))\n",
    "corrplot(b,type = \"upper\",col = col(10),tl.pos = \"d\",tl.cex = 0.75) \n",
    "corrplot(b,add = TRUE, type = \"lower\", method = \"number\",diag = FALSE,tl.pos = \"n\", cl.pos = \"n\",col = col(10))"
   ]
  },
  {
   "cell_type": "markdown",
   "id": "f9bf6ea6",
   "metadata": {},
   "source": [
    "通过观察变量之间的相关系数可知，许多变量之间确实都具有较强的相关性，其中夜盗罪犯罪比率和偷盗罪犯罪比率的相关性最强。从图中我们还可以得到更多的信息，红色代表变量之间的正相关关系，气泡的越大、颜色越深，表明两变量间的相关程度越大。\n",
    "\n",
    "由于当各变量的单位不完全相同，或者变量的方差差异较大时，不宜采用从协方差矩阵出发的主成分分析法，因而需要观察变量的差异信息，以决定是否采用从相关矩阵出发的方法。"
   ]
  },
  {
   "cell_type": "code",
   "execution_count": 2,
   "id": "a666876e",
   "metadata": {
    "vscode": {
     "languageId": "r"
    }
   },
   "outputs": [
    {
     "data": {
      "text/html": [
       "<table class=\"dataframe\">\n",
       "<caption>A data.frame: 7 × 1</caption>\n",
       "<thead>\n",
       "\t<tr><th></th><th scope=col>apply(data[, -1], 2, var)</th></tr>\n",
       "\t<tr><th></th><th scope=col>&lt;dbl&gt;</th></tr>\n",
       "</thead>\n",
       "<tbody>\n",
       "\t<tr><th scope=row>杀人罪</th><td>    14.9519</td></tr>\n",
       "\t<tr><th scope=row>强奸罪</th><td>   115.7696</td></tr>\n",
       "\t<tr><th scope=row>抢劫罪</th><td>  7805.4693</td></tr>\n",
       "\t<tr><th scope=row>斗殴罪</th><td> 10050.6739</td></tr>\n",
       "\t<tr><th scope=row>夜盗罪</th><td>187017.9416</td></tr>\n",
       "\t<tr><th scope=row>偷盗罪</th><td>526943.4505</td></tr>\n",
       "\t<tr><th scope=row>汽车犯罪</th><td> 37401.4007</td></tr>\n",
       "</tbody>\n",
       "</table>\n"
      ],
      "text/latex": [
       "A data.frame: 7 × 1\n",
       "\\begin{tabular}{r|l}\n",
       "  & apply(data{[}, -1{]}, 2, var)\\\\\n",
       "  & <dbl>\\\\\n",
       "\\hline\n",
       "\t杀人罪 &     14.9519\\\\\n",
       "\t强奸罪 &    115.7696\\\\\n",
       "\t抢劫罪 &   7805.4693\\\\\n",
       "\t斗殴罪 &  10050.6739\\\\\n",
       "\t夜盗罪 & 187017.9416\\\\\n",
       "\t偷盗罪 & 526943.4505\\\\\n",
       "\t汽车犯罪 &  37401.4007\\\\\n",
       "\\end{tabular}\n"
      ],
      "text/markdown": [
       "\n",
       "A data.frame: 7 × 1\n",
       "\n",
       "| <!--/--> | apply(data[, -1], 2, var) &lt;dbl&gt; |\n",
       "|---|---|\n",
       "| 杀人罪 |     14.9519 |\n",
       "| 强奸罪 |    115.7696 |\n",
       "| 抢劫罪 |   7805.4693 |\n",
       "| 斗殴罪 |  10050.6739 |\n",
       "| 夜盗罪 | 187017.9416 |\n",
       "| 偷盗罪 | 526943.4505 |\n",
       "| 汽车犯罪 |  37401.4007 |\n",
       "\n"
      ],
      "text/plain": [
       "         apply(data[, -1], 2, var)\n",
       "杀人罪       14.9519              \n",
       "强奸罪      115.7696              \n",
       "抢劫罪     7805.4693              \n",
       "斗殴罪    10050.6739              \n",
       "夜盗罪   187017.9416              \n",
       "偷盗罪   526943.4505              \n",
       "汽车犯罪  37401.4007              "
      ]
     },
     "metadata": {},
     "output_type": "display_data"
    }
   ],
   "source": [
    "# 对各变量求方差\n",
    "as.data.frame(apply(data[,-1],2,var))"
   ]
  },
  {
   "cell_type": "markdown",
   "id": "4236056e",
   "metadata": {},
   "source": [
    "显然，不同变量方差之间差距非常大，因此为了结果的稳健性，我们采用从相关矩阵R出发的主成分分析法。从R出发求得的主成分具有十分简洁的性质。并且，R是未知的，我们需要通过样本进行估计。"
   ]
  },
  {
   "cell_type": "markdown",
   "id": "b16d6dea",
   "metadata": {},
   "source": [
    "设 $\\lambda_1^* \\geq \\lambda_2^* \\geq \\cdots \\geq \\lambda_p^* \\geq 0$ 为 $\\mathrm{R}$ 的 $\\mathrm{p}$ 个特征值, $t_1^*, t_2^*, \\ldots, t_p^*$ 为相应的单位特征向量, 且相互正交, 则 $\\mathrm{p}$ 个主成分为 $y_1^*=t_1^{* \\prime} x^*, y_2^*=$ $t_2^{* \\prime} x^*, \\ldots, y_p^*=t_p^{* \\prime} x^*$ 。记 $y^*=\\left(y_1^*, y_2^*, \\ldots, y_p^*\\right)^{\\prime}, T^*=\\left(t_1^*, t_2^*, \\ldots, t_p^*\\right)=\\left(t_{i k}^*\\right)$, 于是主成分的定义是：\n",
    "$$y^*=T^{* \\prime} x^*$$\n",
    "\n",
    "主成分 $y_1^*, y_2^*, \\ldots, y_m^*$ 对变量 $x_i^*$ 的贡献率为：\n",
    "$$\n",
    "\\rho_{i \\cdot 1, \\ldots, m}^2=\\sum_{k=1}^m \\rho^2\\left(x_i^*, y_k^*\\right)=\\sum_{k=1}^m \\lambda_k^* t_{i k}^{* 2}\n",
    "$$\n",
    "累计贡献率为：\n",
    "$$\n",
    "\\sum_{i=1}^m \\rho_{i \\cdot 1, \\ldots, m}^2\n",
    "$$"
   ]
  },
  {
   "cell_type": "markdown",
   "id": "016eef63",
   "metadata": {},
   "source": [
    "第一主成分的贡献率最大，表明它解释原始变量的能力最强，而之后的几个主成分的解释能力依次递减。而累计贡献率则表明从1到m个主成分共同解释原始变量的能力。通常我们取一个较小的m，使累计贡献率达到较高的百分比（85%~95%）。"
   ]
  },
  {
   "cell_type": "code",
   "execution_count": 3,
   "id": "890733e4",
   "metadata": {
    "vscode": {
     "languageId": "r"
    }
   },
   "outputs": [
    {
     "data": {
      "text/html": [
       "<table class=\"dataframe\">\n",
       "<caption>A data.frame: 7 × 3</caption>\n",
       "<thead>\n",
       "\t<tr><th scope=col>特征值</th><th scope=col>贡献率</th><th scope=col>累计贡献率</th></tr>\n",
       "\t<tr><th scope=col>&lt;dbl&gt;</th><th scope=col>&lt;dbl&gt;</th><th scope=col>&lt;dbl&gt;</th></tr>\n",
       "</thead>\n",
       "<tbody>\n",
       "\t<tr><td>4.115</td><td>0.588</td><td>0.588</td></tr>\n",
       "\t<tr><td>1.239</td><td>0.177</td><td>0.765</td></tr>\n",
       "\t<tr><td>0.726</td><td>0.104</td><td>0.868</td></tr>\n",
       "\t<tr><td>0.316</td><td>0.045</td><td>0.914</td></tr>\n",
       "\t<tr><td>0.258</td><td>0.037</td><td>0.951</td></tr>\n",
       "\t<tr><td>0.222</td><td>0.032</td><td>0.982</td></tr>\n",
       "\t<tr><td>0.124</td><td>0.018</td><td>1.000</td></tr>\n",
       "</tbody>\n",
       "</table>\n"
      ],
      "text/latex": [
       "A data.frame: 7 × 3\n",
       "\\begin{tabular}{lll}\n",
       " 特征值 & 贡献率 & 累计贡献率\\\\\n",
       " <dbl> & <dbl> & <dbl>\\\\\n",
       "\\hline\n",
       "\t 4.115 & 0.588 & 0.588\\\\\n",
       "\t 1.239 & 0.177 & 0.765\\\\\n",
       "\t 0.726 & 0.104 & 0.868\\\\\n",
       "\t 0.316 & 0.045 & 0.914\\\\\n",
       "\t 0.258 & 0.037 & 0.951\\\\\n",
       "\t 0.222 & 0.032 & 0.982\\\\\n",
       "\t 0.124 & 0.018 & 1.000\\\\\n",
       "\\end{tabular}\n"
      ],
      "text/markdown": [
       "\n",
       "A data.frame: 7 × 3\n",
       "\n",
       "| 特征值 &lt;dbl&gt; | 贡献率 &lt;dbl&gt; | 累计贡献率 &lt;dbl&gt; |\n",
       "|---|---|---|\n",
       "| 4.115 | 0.588 | 0.588 |\n",
       "| 1.239 | 0.177 | 0.765 |\n",
       "| 0.726 | 0.104 | 0.868 |\n",
       "| 0.316 | 0.045 | 0.914 |\n",
       "| 0.258 | 0.037 | 0.951 |\n",
       "| 0.222 | 0.032 | 0.982 |\n",
       "| 0.124 | 0.018 | 1.000 |\n",
       "\n"
      ],
      "text/plain": [
       "  特征值 贡献率 累计贡献率\n",
       "1 4.115  0.588  0.588     \n",
       "2 1.239  0.177  0.765     \n",
       "3 0.726  0.104  0.868     \n",
       "4 0.316  0.045  0.914     \n",
       "5 0.258  0.037  0.951     \n",
       "6 0.222  0.032  0.982     \n",
       "7 0.124  0.018  1.000     "
      ]
     },
     "metadata": {},
     "output_type": "display_data"
    }
   ],
   "source": [
    "pc = eigen(b) # b是相关系数矩阵\n",
    "lam = pc$values\n",
    "prop = lam/sum(lam)\n",
    "cumprop = cumsum(prop)\n",
    "lpc = data.frame(特征值 = lam,贡献率 = prop,累计贡献率 = cumprop)\n",
    "round(lpc,3)"
   ]
  },
  {
   "cell_type": "markdown",
   "id": "5ba03216",
   "metadata": {
    "vscode": {
     "languageId": "r"
    }
   },
   "source": [
    "观察主成分的贡献率，当取m=3时，累计贡献率达到了86.8%，这说明使用前三个主成分已经可以基本满足我们的要求。"
   ]
  },
  {
   "cell_type": "markdown",
   "id": "fe775548",
   "metadata": {},
   "source": [
    "此外，碎石图是一个能帮助我们确定主成分个数的视觉工具。"
   ]
  },
  {
   "cell_type": "code",
   "execution_count": 4,
   "id": "008905ca",
   "metadata": {
    "vscode": {
     "languageId": "r"
    }
   },
   "outputs": [
    {
     "data": {
      "image/png": "[encoded data removed]",
      "text/plain": [
       "Plot with title \"PCA\""
      ]
     },
     "metadata": {
      "image/png": {
       "height": 420,
       "width": 420
      }
     },
     "output_type": "display_data"
    }
   ],
   "source": [
    "# 碎石图\n",
    "PCA = princomp(data[,-1],cor=TRUE) # 从相关矩阵出发，默认从协方差矩阵出发\n",
    "screeplot(PCA,type = 'line') "
   ]
  },
  {
   "cell_type": "markdown",
   "id": "8ed9d89e",
   "metadata": {},
   "source": [
    "可以看到，从第四个主成分起，线段开始变得平坦，意味着从$\\lambda_4$起特征值的变化开始明显变小，因此我们有理由倾向于取前面三个主成分。"
   ]
  },
  {
   "cell_type": "markdown",
   "id": "f3ce98cc",
   "metadata": {},
   "source": [
    "根据前面的分析，累计贡献率可以度量 $m$ 主成分 $y_1, y_2, \\ldots, y_m$ 从原始变量 $x_1, x_2, \\ldots, x_p$ 中提取信息的多少，而为了度量 $y_1, y_2, \\ldots, y_m$ 包含有 $x_i(\\mathrm{i}=1,2, \\ldots, \\mathrm{p})$ 的信息量, 我们可以使用 $x_i$ 与 $y_1, y_2, \\ldots, y_m$ 的复相关系数的平方 $\\rho_{i \\cdot 1, \\ldots, m}^2$ 这个指标。\n",
    "\n",
    "为了计算复相关系数，我们需要计算主成分得分：\n",
    "\n",
    "若将各观测值 $x_j$ 代替上式中的观测值向量 $\\mathrm{x}$, 则第 $\\mathrm{i}$ 主成分的值\n",
    "$$\n",
    "\\hat{y_{ji}}=\\hat{t}_l^{\\prime} x_j, i=1,2, \\ldots, p\n",
    "$$\n",
    "称之为观测值 $x_j$ 的第 $\\mathrm{i}$ 主成分得分。\n",
    "\n",
    "复相关系数的平方是 $x_i$ 的方差可由 $y_1, y_2, \\ldots, y_m$ 联 合解释的比例，称之为 $\\mathrm{m}$ 个主成分 $y_1, y_2, \\ldots, y_m$ 对原始变量 $x_i$ 的贡献率:\n",
    "$$\n",
    "\\rho_{i \\cdot 1, \\ldots, m}^2=\\sum_{k=1}^m \\rho^2\\left(x_i, y_k\\right)=\\sum_{k=1}^m \\frac{\\lambda_k t_{i k}^2}{\\sigma_{i i}}\n",
    "$$\n",
    "\n",
    "并且, $y_1, y_2, \\ldots, y_p$ 对 $x_i$ 的贡献率 $\\rho_{i \\cdot 1, \\ldots, p}^2=1$\n",
    "\n",
    "再定义 $\\rho\\left(y_m, x_i\\right)$ 为 $y_m$ 对 $x_i$ 的贡献率，反映一个主成分对一个原始变量的解释程度。"
   ]
  },
  {
   "cell_type": "code",
   "execution_count": 19,
   "id": "ac794103",
   "metadata": {
    "vscode": {
     "languageId": "r"
    }
   },
   "outputs": [
    {
     "data": {
      "text/html": [
       "<table class=\"dataframe\">\n",
       "<caption>A data.frame: 7 × 7</caption>\n",
       "<thead>\n",
       "\t<tr><th></th><th scope=col>前1个主成分</th><th scope=col>前2个主成分</th><th scope=col>前3个主成分</th><th scope=col>前4个主成分</th><th scope=col>前5个主成分</th><th scope=col>前6个主成分</th><th scope=col>前7个主成分</th></tr>\n",
       "\t<tr><th></th><th scope=col>&lt;dbl&gt;</th><th scope=col>&lt;dbl&gt;</th><th scope=col>&lt;dbl&gt;</th><th scope=col>&lt;dbl&gt;</th><th scope=col>&lt;dbl&gt;</th><th scope=col>&lt;dbl&gt;</th><th scope=col>&lt;dbl&gt;</th></tr>\n",
       "</thead>\n",
       "<tbody>\n",
       "\t<tr><th scope=row>杀人罪</th><td>0.3710359</td><td>0.8613969</td><td>0.8844571</td><td>0.9015055</td><td>0.9762088</td><td>0.9911169</td><td>1</td></tr>\n",
       "\t<tr><th scope=row>强奸罪</th><td>0.7670949</td><td>0.8026564</td><td>0.8459387</td><td>0.8471635</td><td>0.8563271</td><td>0.9890950</td><td>1</td></tr>\n",
       "\t<tr><th scope=row>抢劫罪</th><td>0.6481479</td><td>0.6503588</td><td>0.8288211</td><td>0.9273429</td><td>0.9970930</td><td>0.9999981</td><td>1</td></tr>\n",
       "\t<tr><th scope=row>斗殴罪</th><td>0.6474172</td><td>0.7936007</td><td>0.7971076</td><td>0.9226215</td><td>0.9888424</td><td>0.9954390</td><td>1</td></tr>\n",
       "\t<tr><th scope=row>夜盗罪</th><td>0.7972255</td><td>0.8484435</td><td>0.8804200</td><td>0.8814682</td><td>0.8841015</td><td>0.9478895</td><td>1</td></tr>\n",
       "\t<tr><th scope=row>偷盗罪</th><td>0.5255043</td><td>0.7260047</td><td>0.9370508</td><td>0.9545094</td><td>0.9547431</td><td>0.9550879</td><td>1</td></tr>\n",
       "\t<tr><th scope=row>汽车犯罪</th><td>0.3585337</td><td>0.6712203</td><td>0.9057027</td><td>0.9613190</td><td>0.9965886</td><td>0.9973176</td><td>1</td></tr>\n",
       "</tbody>\n",
       "</table>\n"
      ],
      "text/latex": [
       "A data.frame: 7 × 7\n",
       "\\begin{tabular}{r|lllllll}\n",
       "  & 前1个主成分 & 前2个主成分 & 前3个主成分 & 前4个主成分 & 前5个主成分 & 前6个主成分 & 前7个主成分\\\\\n",
       "  & <dbl> & <dbl> & <dbl> & <dbl> & <dbl> & <dbl> & <dbl>\\\\\n",
       "\\hline\n",
       "\t杀人罪 & 0.3710359 & 0.8613969 & 0.8844571 & 0.9015055 & 0.9762088 & 0.9911169 & 1\\\\\n",
       "\t强奸罪 & 0.7670949 & 0.8026564 & 0.8459387 & 0.8471635 & 0.8563271 & 0.9890950 & 1\\\\\n",
       "\t抢劫罪 & 0.6481479 & 0.6503588 & 0.8288211 & 0.9273429 & 0.9970930 & 0.9999981 & 1\\\\\n",
       "\t斗殴罪 & 0.6474172 & 0.7936007 & 0.7971076 & 0.9226215 & 0.9888424 & 0.9954390 & 1\\\\\n",
       "\t夜盗罪 & 0.7972255 & 0.8484435 & 0.8804200 & 0.8814682 & 0.8841015 & 0.9478895 & 1\\\\\n",
       "\t偷盗罪 & 0.5255043 & 0.7260047 & 0.9370508 & 0.9545094 & 0.9547431 & 0.9550879 & 1\\\\\n",
       "\t汽车犯罪 & 0.3585337 & 0.6712203 & 0.9057027 & 0.9613190 & 0.9965886 & 0.9973176 & 1\\\\\n",
       "\\end{tabular}\n"
      ],
      "text/markdown": [
       "\n",
       "A data.frame: 7 × 7\n",
       "\n",
       "| <!--/--> | 前1个主成分 &lt;dbl&gt; | 前2个主成分 &lt;dbl&gt; | 前3个主成分 &lt;dbl&gt; | 前4个主成分 &lt;dbl&gt; | 前5个主成分 &lt;dbl&gt; | 前6个主成分 &lt;dbl&gt; | 前7个主成分 &lt;dbl&gt; |\n",
       "|---|---|---|---|---|---|---|---|\n",
       "| 杀人罪 | 0.3710359 | 0.8613969 | 0.8844571 | 0.9015055 | 0.9762088 | 0.9911169 | 1 |\n",
       "| 强奸罪 | 0.7670949 | 0.8026564 | 0.8459387 | 0.8471635 | 0.8563271 | 0.9890950 | 1 |\n",
       "| 抢劫罪 | 0.6481479 | 0.6503588 | 0.8288211 | 0.9273429 | 0.9970930 | 0.9999981 | 1 |\n",
       "| 斗殴罪 | 0.6474172 | 0.7936007 | 0.7971076 | 0.9226215 | 0.9888424 | 0.9954390 | 1 |\n",
       "| 夜盗罪 | 0.7972255 | 0.8484435 | 0.8804200 | 0.8814682 | 0.8841015 | 0.9478895 | 1 |\n",
       "| 偷盗罪 | 0.5255043 | 0.7260047 | 0.9370508 | 0.9545094 | 0.9547431 | 0.9550879 | 1 |\n",
       "| 汽车犯罪 | 0.3585337 | 0.6712203 | 0.9057027 | 0.9613190 | 0.9965886 | 0.9973176 | 1 |\n",
       "\n"
      ],
      "text/plain": [
       "         前1个主成分 前2个主成分 前3个主成分 前4个主成分 前5个主成分\n",
       "杀人罪   0.3710359   0.8613969   0.8844571   0.9015055   0.9762088  \n",
       "强奸罪   0.7670949   0.8026564   0.8459387   0.8471635   0.8563271  \n",
       "抢劫罪   0.6481479   0.6503588   0.8288211   0.9273429   0.9970930  \n",
       "斗殴罪   0.6474172   0.7936007   0.7971076   0.9226215   0.9888424  \n",
       "夜盗罪   0.7972255   0.8484435   0.8804200   0.8814682   0.8841015  \n",
       "偷盗罪   0.5255043   0.7260047   0.9370508   0.9545094   0.9547431  \n",
       "汽车犯罪 0.3585337   0.6712203   0.9057027   0.9613190   0.9965886  \n",
       "         前6个主成分 前7个主成分\n",
       "杀人罪   0.9911169   1          \n",
       "强奸罪   0.9890950   1          \n",
       "抢劫罪   0.9999981   1          \n",
       "斗殴罪   0.9954390   1          \n",
       "夜盗罪   0.9478895   1          \n",
       "偷盗罪   0.9550879   1          \n",
       "汽车犯罪 0.9973176   1          "
      ]
     },
     "metadata": {},
     "output_type": "display_data"
    },
    {
     "data": {
      "text/html": [
       "<table class=\"dataframe\">\n",
       "<caption>A data.frame: 7 × 7</caption>\n",
       "<thead>\n",
       "\t<tr><th></th><th scope=col>第1个主成分</th><th scope=col>第2个主成分</th><th scope=col>第3个主成分</th><th scope=col>第4个主成分</th><th scope=col>第5个主成分</th><th scope=col>第6个主成分</th><th scope=col>第7个主成分</th></tr>\n",
       "\t<tr><th></th><th scope=col>&lt;dbl&gt;</th><th scope=col>&lt;dbl&gt;</th><th scope=col>&lt;dbl&gt;</th><th scope=col>&lt;dbl&gt;</th><th scope=col>&lt;dbl&gt;</th><th scope=col>&lt;dbl&gt;</th><th scope=col>&lt;dbl&gt;</th></tr>\n",
       "</thead>\n",
       "<tbody>\n",
       "\t<tr><th scope=row>杀人罪</th><td>0.6091272</td><td> 0.70025782</td><td> 0.15185585</td><td> 0.13056951</td><td> 0.27331898</td><td> 0.12209858</td><td> 0.094250434</td></tr>\n",
       "\t<tr><th scope=row>强奸罪</th><td>0.8758395</td><td> 0.18857770</td><td>-0.20804381</td><td>-0.03499774</td><td> 0.09572650</td><td>-0.36437336</td><td>-0.104426905</td></tr>\n",
       "\t<tr><th scope=row>抢劫罪</th><td>0.8050763</td><td>-0.04701999</td><td> 0.42244803</td><td> 0.31388175</td><td>-0.26410240</td><td>-0.05389934</td><td>-0.001374586</td></tr>\n",
       "\t<tr><th scope=row>斗殴罪</th><td>0.8046224</td><td> 0.38233955</td><td>-0.05921872</td><td>-0.35427944</td><td>-0.25733424</td><td> 0.08121925</td><td> 0.067535496</td></tr>\n",
       "\t<tr><th scope=row>夜盗罪</th><td>0.8928749</td><td>-0.22631376</td><td>-0.17881986</td><td> 0.03237596</td><td> 0.05131603</td><td> 0.25256285</td><td>-0.228277155</td></tr>\n",
       "\t<tr><th scope=row>偷盗罪</th><td>0.7249168</td><td>-0.44777266</td><td>-0.45939753</td><td> 0.13213094</td><td> 0.01528742</td><td> 0.01856874</td><td> 0.211924812</td></tr>\n",
       "\t<tr><th scope=row>汽车犯罪</th><td>0.5987769</td><td>-0.55918385</td><td> 0.48423379</td><td>-0.23583117</td><td> 0.18780202</td><td>-0.02699926</td><td> 0.051792034</td></tr>\n",
       "</tbody>\n",
       "</table>\n"
      ],
      "text/latex": [
       "A data.frame: 7 × 7\n",
       "\\begin{tabular}{r|lllllll}\n",
       "  & 第1个主成分 & 第2个主成分 & 第3个主成分 & 第4个主成分 & 第5个主成分 & 第6个主成分 & 第7个主成分\\\\\n",
       "  & <dbl> & <dbl> & <dbl> & <dbl> & <dbl> & <dbl> & <dbl>\\\\\n",
       "\\hline\n",
       "\t杀人罪 & 0.6091272 &  0.70025782 &  0.15185585 &  0.13056951 &  0.27331898 &  0.12209858 &  0.094250434\\\\\n",
       "\t强奸罪 & 0.8758395 &  0.18857770 & -0.20804381 & -0.03499774 &  0.09572650 & -0.36437336 & -0.104426905\\\\\n",
       "\t抢劫罪 & 0.8050763 & -0.04701999 &  0.42244803 &  0.31388175 & -0.26410240 & -0.05389934 & -0.001374586\\\\\n",
       "\t斗殴罪 & 0.8046224 &  0.38233955 & -0.05921872 & -0.35427944 & -0.25733424 &  0.08121925 &  0.067535496\\\\\n",
       "\t夜盗罪 & 0.8928749 & -0.22631376 & -0.17881986 &  0.03237596 &  0.05131603 &  0.25256285 & -0.228277155\\\\\n",
       "\t偷盗罪 & 0.7249168 & -0.44777266 & -0.45939753 &  0.13213094 &  0.01528742 &  0.01856874 &  0.211924812\\\\\n",
       "\t汽车犯罪 & 0.5987769 & -0.55918385 &  0.48423379 & -0.23583117 &  0.18780202 & -0.02699926 &  0.051792034\\\\\n",
       "\\end{tabular}\n"
      ],
      "text/markdown": [
       "\n",
       "A data.frame: 7 × 7\n",
       "\n",
       "| <!--/--> | 第1个主成分 &lt;dbl&gt; | 第2个主成分 &lt;dbl&gt; | 第3个主成分 &lt;dbl&gt; | 第4个主成分 &lt;dbl&gt; | 第5个主成分 &lt;dbl&gt; | 第6个主成分 &lt;dbl&gt; | 第7个主成分 &lt;dbl&gt; |\n",
       "|---|---|---|---|---|---|---|---|\n",
       "| 杀人罪 | 0.6091272 |  0.70025782 |  0.15185585 |  0.13056951 |  0.27331898 |  0.12209858 |  0.094250434 |\n",
       "| 强奸罪 | 0.8758395 |  0.18857770 | -0.20804381 | -0.03499774 |  0.09572650 | -0.36437336 | -0.104426905 |\n",
       "| 抢劫罪 | 0.8050763 | -0.04701999 |  0.42244803 |  0.31388175 | -0.26410240 | -0.05389934 | -0.001374586 |\n",
       "| 斗殴罪 | 0.8046224 |  0.38233955 | -0.05921872 | -0.35427944 | -0.25733424 |  0.08121925 |  0.067535496 |\n",
       "| 夜盗罪 | 0.8928749 | -0.22631376 | -0.17881986 |  0.03237596 |  0.05131603 |  0.25256285 | -0.228277155 |\n",
       "| 偷盗罪 | 0.7249168 | -0.44777266 | -0.45939753 |  0.13213094 |  0.01528742 |  0.01856874 |  0.211924812 |\n",
       "| 汽车犯罪 | 0.5987769 | -0.55918385 |  0.48423379 | -0.23583117 |  0.18780202 | -0.02699926 |  0.051792034 |\n",
       "\n"
      ],
      "text/plain": [
       "         第1个主成分 第2个主成分 第3个主成分 第4个主成分 第5个主成分\n",
       "杀人罪   0.6091272    0.70025782  0.15185585  0.13056951  0.27331898\n",
       "强奸罪   0.8758395    0.18857770 -0.20804381 -0.03499774  0.09572650\n",
       "抢劫罪   0.8050763   -0.04701999  0.42244803  0.31388175 -0.26410240\n",
       "斗殴罪   0.8046224    0.38233955 -0.05921872 -0.35427944 -0.25733424\n",
       "夜盗罪   0.8928749   -0.22631376 -0.17881986  0.03237596  0.05131603\n",
       "偷盗罪   0.7249168   -0.44777266 -0.45939753  0.13213094  0.01528742\n",
       "汽车犯罪 0.5987769   -0.55918385  0.48423379 -0.23583117  0.18780202\n",
       "         第6个主成分 第7个主成分 \n",
       "杀人罪    0.12209858  0.094250434\n",
       "强奸罪   -0.36437336 -0.104426905\n",
       "抢劫罪   -0.05389934 -0.001374586\n",
       "斗殴罪    0.08121925  0.067535496\n",
       "夜盗罪    0.25256285 -0.228277155\n",
       "偷盗罪    0.01856874  0.211924812\n",
       "汽车犯罪 -0.02699926  0.051792034"
      ]
     },
     "metadata": {},
     "output_type": "display_data"
    }
   ],
   "source": [
    "# 计算主成分对原始变量的贡献率\n",
    "# 主成分得分\n",
    "scores = round(PCA$scores[,c(1,2,3)],3)\n",
    "rownames(scores) = data[,1] # 添加行名\n",
    "\n",
    "p = c() # y对于x的贡献率\n",
    "p2 = c() #（y,y,…）对与x的贡献率\n",
    "for (m in 1:7){\n",
    "    ps2 = c()\n",
    "    ps = c()\n",
    "    for (i in 2:8){\n",
    "        gx = 0\n",
    "        for (k in 1:m){gx = gx+(cor(data[i],PCA$scores[,k]))^2}\n",
    "        ps2 = c(ps2,gx)\n",
    "        gxsingle = cor(data[i],PCA$scores[,m])\n",
    "        ps = c(ps,gxsingle)\n",
    "    }\n",
    "    p2 = cbind(p2,ps2)\n",
    "    p = cbind(p,ps)\n",
    "}\n",
    "\n",
    "p2 = data.frame(p2,row.names = c('杀人罪','强奸罪','抢劫罪','斗殴罪','夜盗罪','偷盗罪','汽车犯罪'))\n",
    "colnames(p2) = c('前1个主成分','前2个主成分','前3个主成分','前4个主成分','前5个主成分','前6个主成分','前7个主成分')\n",
    "p2\n",
    "\n",
    "p = data.frame(p,row.names = c('杀人罪','强奸罪','抢劫罪','斗殴罪','夜盗罪','偷盗罪','汽车犯罪'))\n",
    "colnames(p) = c('第1个主成分','第2个主成分','第3个主成分','第4个主成分','第5个主成分','第6个主成分','第7个主成分')\n",
    "p"
   ]
  },
  {
   "cell_type": "markdown",
   "id": "ab0c0c7a",
   "metadata": {},
   "source": [
    "可见，前两个主成分对抢劫罪和汽车犯罪这两个原始变量的解释率都比较低，并且第二个主成分对抢劫罪变量的贡献率几乎为零，这说明 $y_1$和$y_2$中包含较少的关于这两个变量的信息，只取前面两个主成分会导致对原始变量的解释程度不够高。再取 $y_3$，此时（$y_1$,$y_2$,$y_3$）对每个变量$x_i$的贡献率都比较高，最小为79.7%，最大为93.7%，平均在85%左右，大致符合我们的要求。而如果使用更多的主成分，会导致降维的效果大打折扣，并且难以进行可视化分析。"
   ]
  },
  {
   "cell_type": "markdown",
   "id": "69d77dd5",
   "metadata": {},
   "source": [
    "使用前三个主成分已经可以基本满足我们的要求，但是这三个主成分必须都能得到成功的解释。因此，我们需要再考察主成分的公式:\n",
    "$$\n",
    "y_k=t_{1 k} x_1+t_{2 k} x_2+\\cdots+t_{p k} x_p,    k=1,2, \\ldots, p .\n",
    "$$\n",
    "称 $t_{i k}$ 为第 $\\mathrm{k}$ 主成分 $y_k$ 在第 $\\mathrm{i}$ 个原始变量 $x_i$ 上的载荷，它反映了 $x_i$ 对 $y_k$ 的重要程度。"
   ]
  },
  {
   "cell_type": "code",
   "execution_count": 22,
   "id": "b8481179",
   "metadata": {
    "vscode": {
     "languageId": "r"
    }
   },
   "outputs": [
    {
     "data": {
      "text/html": [
       "<table class=\"dataframe\">\n",
       "<caption>A matrix: 7 × 7 of type dbl</caption>\n",
       "<thead>\n",
       "\t<tr><th></th><th scope=col>主成分1</th><th scope=col>主成分2</th><th scope=col>主成分3</th><th scope=col>主成分4</th><th scope=col>主成分5</th><th scope=col>主成分6</th><th scope=col>主成分7</th></tr>\n",
       "</thead>\n",
       "<tbody>\n",
       "\t<tr><th scope=row>杀人罪</th><td>-0.300</td><td> 0.629</td><td> 0.178</td><td>-0.232</td><td> 0.538</td><td>-0.259</td><td> 0.268</td></tr>\n",
       "\t<tr><th scope=row>强奸罪</th><td>-0.432</td><td> 0.169</td><td>-0.244</td><td> 0.062</td><td> 0.188</td><td> 0.773</td><td>-0.296</td></tr>\n",
       "\t<tr><th scope=row>抢劫罪</th><td>-0.397</td><td>-0.042</td><td> 0.496</td><td>-0.558</td><td>-0.520</td><td> 0.114</td><td>-0.004</td></tr>\n",
       "\t<tr><th scope=row>斗殴罪</th><td>-0.397</td><td> 0.344</td><td>-0.070</td><td> 0.630</td><td>-0.507</td><td>-0.172</td><td> 0.192</td></tr>\n",
       "\t<tr><th scope=row>夜盗罪</th><td>-0.440</td><td>-0.203</td><td>-0.210</td><td>-0.058</td><td> 0.101</td><td>-0.536</td><td>-0.648</td></tr>\n",
       "\t<tr><th scope=row>偷盗罪</th><td>-0.357</td><td>-0.402</td><td>-0.539</td><td>-0.235</td><td> 0.030</td><td>-0.039</td><td> 0.602</td></tr>\n",
       "\t<tr><th scope=row>汽车犯罪</th><td>-0.295</td><td>-0.502</td><td> 0.568</td><td> 0.419</td><td> 0.370</td><td> 0.057</td><td> 0.147</td></tr>\n",
       "</tbody>\n",
       "</table>\n"
      ],
      "text/latex": [
       "A matrix: 7 × 7 of type dbl\n",
       "\\begin{tabular}{r|lllllll}\n",
       "  & 主成分1 & 主成分2 & 主成分3 & 主成分4 & 主成分5 & 主成分6 & 主成分7\\\\\n",
       "\\hline\n",
       "\t杀人罪 & -0.300 &  0.629 &  0.178 & -0.232 &  0.538 & -0.259 &  0.268\\\\\n",
       "\t强奸罪 & -0.432 &  0.169 & -0.244 &  0.062 &  0.188 &  0.773 & -0.296\\\\\n",
       "\t抢劫罪 & -0.397 & -0.042 &  0.496 & -0.558 & -0.520 &  0.114 & -0.004\\\\\n",
       "\t斗殴罪 & -0.397 &  0.344 & -0.070 &  0.630 & -0.507 & -0.172 &  0.192\\\\\n",
       "\t夜盗罪 & -0.440 & -0.203 & -0.210 & -0.058 &  0.101 & -0.536 & -0.648\\\\\n",
       "\t偷盗罪 & -0.357 & -0.402 & -0.539 & -0.235 &  0.030 & -0.039 &  0.602\\\\\n",
       "\t汽车犯罪 & -0.295 & -0.502 &  0.568 &  0.419 &  0.370 &  0.057 &  0.147\\\\\n",
       "\\end{tabular}\n"
      ],
      "text/markdown": [
       "\n",
       "A matrix: 7 × 7 of type dbl\n",
       "\n",
       "| <!--/--> | 主成分1 | 主成分2 | 主成分3 | 主成分4 | 主成分5 | 主成分6 | 主成分7 |\n",
       "|---|---|---|---|---|---|---|---|\n",
       "| 杀人罪 | -0.300 |  0.629 |  0.178 | -0.232 |  0.538 | -0.259 |  0.268 |\n",
       "| 强奸罪 | -0.432 |  0.169 | -0.244 |  0.062 |  0.188 |  0.773 | -0.296 |\n",
       "| 抢劫罪 | -0.397 | -0.042 |  0.496 | -0.558 | -0.520 |  0.114 | -0.004 |\n",
       "| 斗殴罪 | -0.397 |  0.344 | -0.070 |  0.630 | -0.507 | -0.172 |  0.192 |\n",
       "| 夜盗罪 | -0.440 | -0.203 | -0.210 | -0.058 |  0.101 | -0.536 | -0.648 |\n",
       "| 偷盗罪 | -0.357 | -0.402 | -0.539 | -0.235 |  0.030 | -0.039 |  0.602 |\n",
       "| 汽车犯罪 | -0.295 | -0.502 |  0.568 |  0.419 |  0.370 |  0.057 |  0.147 |\n",
       "\n"
      ],
      "text/plain": [
       "         主成分1 主成分2 主成分3 主成分4 主成分5 主成分6 主成分7\n",
       "杀人罪   -0.300   0.629   0.178  -0.232   0.538  -0.259   0.268 \n",
       "强奸罪   -0.432   0.169  -0.244   0.062   0.188   0.773  -0.296 \n",
       "抢劫罪   -0.397  -0.042   0.496  -0.558  -0.520   0.114  -0.004 \n",
       "斗殴罪   -0.397   0.344  -0.070   0.630  -0.507  -0.172   0.192 \n",
       "夜盗罪   -0.440  -0.203  -0.210  -0.058   0.101  -0.536  -0.648 \n",
       "偷盗罪   -0.357  -0.402  -0.539  -0.235   0.030  -0.039   0.602 \n",
       "汽车犯罪 -0.295  -0.502   0.568   0.419   0.370   0.057   0.147 "
      ]
     },
     "metadata": {},
     "output_type": "display_data"
    }
   ],
   "source": [
    "# 特征向量打印\n",
    "comp = pc$vectors\n",
    "rownames(comp) = c('杀人罪','强奸罪','抢劫罪','斗殴罪','夜盗罪','偷盗罪','汽车犯罪') # 添加行名\n",
    "colnames(comp) = paste('主成分',1:length(lam),sep='') # 添加列名\n",
    "round(comp,3)"
   ]
  },
  {
   "cell_type": "markdown",
   "id": "94bf0b65",
   "metadata": {},
   "source": [
    "因此得到主成分向量分别为（只列举前三个，后面的以此类推）：\n",
    "\n",
    "$y_1=-0.3 x_1-0.432 x_2-0.397 x_3-0.397 x_4-0.44 x_5-0.357 x_6-0.295 x_7$\n",
    "\n",
    "$y_2=0.629 x_1+0.169 x_2-0.042 x_3+0.344 x_4-0.203 x_5-0.402 x_6-0.502 x_7$ \n",
    "\n",
    "$y_3=0.178 x_1-0.244 x_2+0.496 x_3-0.07 x_4-0.21 x_5-0.539 x_6+0.568 x_7$\n",
    "\n"
   ]
  },
  {
   "cell_type": "markdown",
   "id": "f302ace6",
   "metadata": {},
   "source": [
    "第一主成分$y_1$对所有标准化变量都有近似相等的负载荷，大的$y_1$值意味着各种罪名的犯罪概率普遍倾向于有较小的值，即社会整体稳定安全；反之，小的$y_1$值意味着各种罪名的犯罪概率普遍倾向于有较大的值，即社会整体治安动荡。因此，我们称第一主成分为**社会综合治理成分**。\n",
    "\n",
    "第二主成分$y_2$在杀人罪、斗殴罪概率指标上有较大的正载荷，在汽车犯罪、偷盗罪上有较大的负载荷，而在其余变量上载荷都较小。$y_2$的值大时说明杀人罪、斗殴罪概率大，而汽车犯罪、偷盗罪概率小。这里我们认定汽车犯罪为在汽车交通运输中发生的严重危害交通运输安全的行为，包括酒后驾驶等。相对于汽车犯罪、偷盗罪，杀人罪、斗殴罪带来的社会影响更大，犯罪情节更严重，故可称第二主成分为**情节恶劣犯罪成分**。\n",
    "\n",
    "第三主成分$y_3$在汽车犯罪上有较大的正载荷，在偷盗罪上有较大的负载荷，而在其余变量上载荷都较小。$y_3$的值大时说明汽车犯罪概率大，而偷盗罪概率小。由于汽车交通犯罪主要是指超速驾驶、无证驾驶、醉酒驾驶等，这些已经成为一个一般性和日常性的犯罪类型，而偷盗罪概率小能在一定程度上说明社会经济稳定，失业率较低。因此，可称第三主成分为**社会常规稳定成分**。"
   ]
  },
  {
   "cell_type": "markdown",
   "id": "e489010e",
   "metadata": {},
   "source": [
    "进一步，为了研究七个原始变量间是否存在多重共线性，我们观察到最末一个主成分的特征值为0.124，非常小，所以我们认为变量存在这样的一个多重共线性关系：\n",
    "\n",
    "$0.2675928 x_1-0.29648548 x_2-0.003902681 x_3+0.19174459 x_4-0.64811708 x_5+0.60169004 x_6+0.14704626 x_7 \\approx 0$."
   ]
  },
  {
   "cell_type": "markdown",
   "id": "e2fc5e4a",
   "metadata": {},
   "source": [
    "最后为了根据不同成分对不同城市进行粗略的划分层次，我们可以根据不同的主成分进行城市排序。"
   ]
  },
  {
   "cell_type": "code",
   "execution_count": 62,
   "id": "c888efce",
   "metadata": {
    "vscode": {
     "languageId": "r"
    }
   },
   "outputs": [
    {
     "data": {
      "text/html": [
       "<table class=\"dataframe\">\n",
       "<caption>A matrix: 6 × 3 of type dbl</caption>\n",
       "<thead>\n",
       "\t<tr><th></th><th scope=col>Comp.1</th><th scope=col>Comp.2</th><th scope=col>Comp.3</th></tr>\n",
       "</thead>\n",
       "<tbody>\n",
       "\t<tr><th scope=row>North Dakota</th><td>-4.004</td><td>-0.392</td><td>-0.087</td></tr>\n",
       "\t<tr><th scope=row>South Dakota</th><td>-3.204</td><td> 0.257</td><td>-0.140</td></tr>\n",
       "\t<tr><th scope=row>West Virginia</th><td>-3.180</td><td> 0.823</td><td> 0.542</td></tr>\n",
       "\t<tr><th scope=row>Iowa</th><td>-2.608</td><td>-0.833</td><td>-0.521</td></tr>\n",
       "\t<tr><th scope=row>Wisconsin</th><td>-2.528</td><td>-0.789</td><td>-0.431</td></tr>\n",
       "\t<tr><th scope=row>New Hampshire</th><td>-2.491</td><td>-0.833</td><td>-0.212</td></tr>\n",
       "</tbody>\n",
       "</table>\n"
      ],
      "text/latex": [
       "A matrix: 6 × 3 of type dbl\n",
       "\\begin{tabular}{r|lll}\n",
       "  & Comp.1 & Comp.2 & Comp.3\\\\\n",
       "\\hline\n",
       "\tNorth Dakota & -4.004 & -0.392 & -0.087\\\\\n",
       "\tSouth Dakota & -3.204 &  0.257 & -0.140\\\\\n",
       "\tWest Virginia & -3.180 &  0.823 &  0.542\\\\\n",
       "\tIowa & -2.608 & -0.833 & -0.521\\\\\n",
       "\tWisconsin & -2.528 & -0.789 & -0.431\\\\\n",
       "\tNew Hampshire & -2.491 & -0.833 & -0.212\\\\\n",
       "\\end{tabular}\n"
      ],
      "text/markdown": [
       "\n",
       "A matrix: 6 × 3 of type dbl\n",
       "\n",
       "| <!--/--> | Comp.1 | Comp.2 | Comp.3 |\n",
       "|---|---|---|---|\n",
       "| North Dakota | -4.004 | -0.392 | -0.087 |\n",
       "| South Dakota | -3.204 |  0.257 | -0.140 |\n",
       "| West Virginia | -3.180 |  0.823 |  0.542 |\n",
       "| Iowa | -2.608 | -0.833 | -0.521 |\n",
       "| Wisconsin | -2.528 | -0.789 | -0.431 |\n",
       "| New Hampshire | -2.491 | -0.833 | -0.212 |\n",
       "\n"
      ],
      "text/plain": [
       "              Comp.1 Comp.2 Comp.3\n",
       "North Dakota  -4.004 -0.392 -0.087\n",
       "South Dakota  -3.204  0.257 -0.140\n",
       "West Virginia -3.180  0.823  0.542\n",
       "Iowa          -2.608 -0.833 -0.521\n",
       "Wisconsin     -2.528 -0.789 -0.431\n",
       "New Hampshire -2.491 -0.833 -0.212"
      ]
     },
     "metadata": {},
     "output_type": "display_data"
    }
   ],
   "source": [
    "head(scores[order(scores[,1]),]) # 按第一主成分排序 "
   ]
  },
  {
   "cell_type": "code",
   "execution_count": 38,
   "id": "c6e8a5e0",
   "metadata": {
    "vscode": {
     "languageId": "r"
    }
   },
   "outputs": [
    {
     "data": {
      "text/html": [
       "<table class=\"dataframe\">\n",
       "<caption>A matrix: 6 × 3 of type dbl</caption>\n",
       "<thead>\n",
       "\t<tr><th></th><th scope=col>Comp.1</th><th scope=col>Comp.2</th><th scope=col>Comp.3</th></tr>\n",
       "</thead>\n",
       "<tbody>\n",
       "\t<tr><th scope=row>Massachusetts</th><td> 0.988</td><td>-2.658</td><td> 2.568</td></tr>\n",
       "\t<tr><th scope=row>Rhode Island</th><td>-0.204</td><td>-2.168</td><td> 0.967</td></tr>\n",
       "\t<tr><th scope=row>Hawaii</th><td> 0.831</td><td>-1.842</td><td>-0.790</td></tr>\n",
       "\t<tr><th scope=row>Connecticut</th><td>-0.547</td><td>-1.516</td><td> 0.792</td></tr>\n",
       "\t<tr><th scope=row>Delaware</th><td> 0.974</td><td>-1.310</td><td>-0.531</td></tr>\n",
       "\t<tr><th scope=row>Minnesota</th><td>-1.570</td><td>-1.067</td><td>-0.148</td></tr>\n",
       "</tbody>\n",
       "</table>\n"
      ],
      "text/latex": [
       "A matrix: 6 × 3 of type dbl\n",
       "\\begin{tabular}{r|lll}\n",
       "  & Comp.1 & Comp.2 & Comp.3\\\\\n",
       "\\hline\n",
       "\tMassachusetts &  0.988 & -2.658 &  2.568\\\\\n",
       "\tRhode Island & -0.204 & -2.168 &  0.967\\\\\n",
       "\tHawaii &  0.831 & -1.842 & -0.790\\\\\n",
       "\tConnecticut & -0.547 & -1.516 &  0.792\\\\\n",
       "\tDelaware &  0.974 & -1.310 & -0.531\\\\\n",
       "\tMinnesota & -1.570 & -1.067 & -0.148\\\\\n",
       "\\end{tabular}\n"
      ],
      "text/markdown": [
       "\n",
       "A matrix: 6 × 3 of type dbl\n",
       "\n",
       "| <!--/--> | Comp.1 | Comp.2 | Comp.3 |\n",
       "|---|---|---|---|\n",
       "| Massachusetts |  0.988 | -2.658 |  2.568 |\n",
       "| Rhode Island | -0.204 | -2.168 |  0.967 |\n",
       "| Hawaii |  0.831 | -1.842 | -0.790 |\n",
       "| Connecticut | -0.547 | -1.516 |  0.792 |\n",
       "| Delaware |  0.974 | -1.310 | -0.531 |\n",
       "| Minnesota | -1.570 | -1.067 | -0.148 |\n",
       "\n"
      ],
      "text/plain": [
       "              Comp.1 Comp.2 Comp.3\n",
       "Massachusetts  0.988 -2.658  2.568\n",
       "Rhode Island  -0.204 -2.168  0.967\n",
       "Hawaii         0.831 -1.842 -0.790\n",
       "Connecticut   -0.547 -1.516  0.792\n",
       "Delaware       0.974 -1.310 -0.531\n",
       "Minnesota     -1.570 -1.067 -0.148"
      ]
     },
     "metadata": {},
     "output_type": "display_data"
    }
   ],
   "source": [
    "head(scores[order(scores[,2]),]) # 按第二主成分排序 "
   ]
  },
  {
   "cell_type": "code",
   "execution_count": 39,
   "id": "9090f236",
   "metadata": {
    "vscode": {
     "languageId": "r"
    }
   },
   "outputs": [
    {
     "data": {
      "text/html": [
       "<table class=\"dataframe\">\n",
       "<caption>A matrix: 6 × 3 of type dbl</caption>\n",
       "<thead>\n",
       "\t<tr><th></th><th scope=col>Comp.1</th><th scope=col>Comp.2</th><th scope=col>Comp.3</th></tr>\n",
       "</thead>\n",
       "<tbody>\n",
       "\t<tr><th scope=row>Arizona</th><td>3.045</td><td>-0.854</td><td>-1.770</td></tr>\n",
       "\t<tr><th scope=row>Washington</th><td>0.940</td><td>-0.745</td><td>-1.317</td></tr>\n",
       "\t<tr><th scope=row>Oregon</th><td>1.464</td><td>-0.592</td><td>-1.258</td></tr>\n",
       "\t<tr><th scope=row>Florida</th><td>3.143</td><td> 0.610</td><td>-1.228</td></tr>\n",
       "\t<tr><th scope=row>Colorado</th><td>2.535</td><td>-0.926</td><td>-1.163</td></tr>\n",
       "\t<tr><th scope=row>New Mexico</th><td>1.226</td><td> 0.960</td><td>-1.084</td></tr>\n",
       "</tbody>\n",
       "</table>\n"
      ],
      "text/latex": [
       "A matrix: 6 × 3 of type dbl\n",
       "\\begin{tabular}{r|lll}\n",
       "  & Comp.1 & Comp.2 & Comp.3\\\\\n",
       "\\hline\n",
       "\tArizona & 3.045 & -0.854 & -1.770\\\\\n",
       "\tWashington & 0.940 & -0.745 & -1.317\\\\\n",
       "\tOregon & 1.464 & -0.592 & -1.258\\\\\n",
       "\tFlorida & 3.143 &  0.610 & -1.228\\\\\n",
       "\tColorado & 2.535 & -0.926 & -1.163\\\\\n",
       "\tNew Mexico & 1.226 &  0.960 & -1.084\\\\\n",
       "\\end{tabular}\n"
      ],
      "text/markdown": [
       "\n",
       "A matrix: 6 × 3 of type dbl\n",
       "\n",
       "| <!--/--> | Comp.1 | Comp.2 | Comp.3 |\n",
       "|---|---|---|---|\n",
       "| Arizona | 3.045 | -0.854 | -1.770 |\n",
       "| Washington | 0.940 | -0.745 | -1.317 |\n",
       "| Oregon | 1.464 | -0.592 | -1.258 |\n",
       "| Florida | 3.143 |  0.610 | -1.228 |\n",
       "| Colorado | 2.535 | -0.926 | -1.163 |\n",
       "| New Mexico | 1.226 |  0.960 | -1.084 |\n",
       "\n"
      ],
      "text/plain": [
       "           Comp.1 Comp.2 Comp.3\n",
       "Arizona    3.045  -0.854 -1.770\n",
       "Washington 0.940  -0.745 -1.317\n",
       "Oregon     1.464  -0.592 -1.258\n",
       "Florida    3.143   0.610 -1.228\n",
       "Colorado   2.535  -0.926 -1.163\n",
       "New Mexico 1.226   0.960 -1.084"
      ]
     },
     "metadata": {},
     "output_type": "display_data"
    }
   ],
   "source": [
    "head(scores[order(scores[,3]),]) # 按第三主成分排序 "
   ]
  },
  {
   "cell_type": "markdown",
   "id": "748b76a4",
   "metadata": {},
   "source": [
    "按三种主成分进行升序排序可以看到，各个排行榜均存在差异。按照我们此前对各个成分的解释，North Dakota州社会治理最不稳定，Massachusetts州发生严重犯罪最少，Arizona州经济发展较差，社会并不稳定。"
   ]
  },
  {
   "cell_type": "code",
   "execution_count": 41,
   "id": "f1e37b9c",
   "metadata": {
    "vscode": {
     "languageId": "r"
    }
   },
   "outputs": [
    {
     "data": {
      "image/png": "[encoded data removed]",
      "text/plain": [
       "plot without title"
      ]
     },
     "metadata": {
      "image/png": {
       "height": 420,
       "width": 420
      }
     },
     "output_type": "display_data"
    }
   ],
   "source": [
    "# 可视化结果\n",
    "library(\"scatterplot3d\")\n",
    "source('http://www.sthda.com/sthda/RDoc/functions/addgrids3d.r')\n",
    "s3d = scatterplot3d(scores[,1],scores[,2],scores[,3],pch = 18,grid=TRUE,angle = 60) # 散点图\n",
    "addgrids3d(scores[,1],scores[,2],scores[,3], grid = c(\"xy\", \"xz\", \"yz\"),angle = 60)\n",
    "text(s3d$xyz.convert(scores[,1],scores[,2],scores[,3]), labels = data$地区,cex= 0.5, col = \"black\")"
   ]
  },
  {
   "cell_type": "markdown",
   "id": "7e261fe5",
   "metadata": {},
   "source": [
    "为了能对结果进行直观的呈现，我们绘制三维散点图。根据绘图结果，显然第二主成分值越大，第一、三主成分值越小，说明社会很不稳定，犯罪情节严重。因此看到，North Dakota州和South Dakota州的治安是较为混乱的，但是由于使用的数据较为过时，这与目前的情况实际上并不完全吻合。"
   ]
  }
 ],
 "metadata": {
  "kernelspec": {
   "display_name": "R",
   "language": "R",
   "name": "ir"
  },
  "language_info": {
   "codemirror_mode": "r",
   "file_extension": ".r",
   "mimetype": "text/x-r-source",
   "name": "R",
   "pygments_lexer": "r",
   "version": "4.1.3"
  },
  "toc": {
   "base_numbering": 1,
   "nav_menu": {},
   "number_sections": true,
   "sideBar": true,
   "skip_h1_title": false,
   "title_cell": "Table of Contents",
   "title_sidebar": "Contents",
   "toc_cell": true,
   "toc_position": {},
   "toc_section_display": true,
   "toc_window_display": true
  }
 },
 "nbformat": 4,
 "nbformat_minor": 5
}
