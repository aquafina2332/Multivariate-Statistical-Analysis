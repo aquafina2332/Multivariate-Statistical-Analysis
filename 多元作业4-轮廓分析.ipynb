{
 "cells": [
  {
   "cell_type": "markdown",
   "id": "875039aa",
   "metadata": {
    "vscode": {
     "languageId": "r"
    }
   },
   "source": [
    "# 例4.4.2"
   ]
  },
  {
   "cell_type": "markdown",
   "id": "2c32d860",
   "metadata": {},
   "source": [
    "### 1.分步骤计算三次检验的结果"
   ]
  },
  {
   "cell_type": "code",
   "execution_count": 1,
   "id": "c0cd3507",
   "metadata": {
    "vscode": {
     "languageId": "r"
    }
   },
   "outputs": [],
   "source": [
    "# 读入数据\n",
    "library(readxl)\n",
    "data = read_excel('.//AMSA_data//《应用多元统计分析》（第6版）Excel数据//examp4.4.2.xlsx')\n",
    "data1 = subset(data, 总体=='1')[,1:4] # 丈夫对妻子\n",
    "data2 = subset(data, 总体=='2')[,1:4] # 妻子对丈夫"
   ]
  },
  {
   "cell_type": "code",
   "execution_count": 3,
   "id": "b72d8fd8",
   "metadata": {
    "vscode": {
     "languageId": "r"
    }
   },
   "outputs": [
    {
     "data": {
      "image/png": "[encoded data removed]",
      "text/plain": [
       "plot without title"
      ]
     },
     "metadata": {
      "image/png": {
       "height": 420,
       "width": 420
      }
     },
     "output_type": "display_data"
    }
   ],
   "source": [
    "# 求均值和协方差矩阵的无偏估计\n",
    "mean1 = apply(data1,2,mean)\n",
    "mean2 = apply(data2,2,mean)\n",
    "\n",
    "n1 = dim(data1)[1]\n",
    "n2 = dim(data2)[1]\n",
    "Sp = ((n1-1)*cov(data1)+(n2-1)*cov(data2))/(n1+n2-2)\n",
    "\n",
    "# 绘图直观观察\n",
    "\n",
    "x = c(1,2,3,4)\n",
    "plot(x, mean2, type=\"l\")\n",
    "points(x,mean2)\n",
    "lines(x, mean1, col=\"red\")\n",
    "points(x, mean1, col=\"red\") # 红色表示丈夫对妻子的回答"
   ]
  },
  {
   "cell_type": "code",
   "execution_count": 34,
   "id": "365294ec",
   "metadata": {
    "vscode": {
     "languageId": "r"
    }
   },
   "outputs": [
    {
     "data": {
      "text/html": [
       "'(1)轮廓平行假设的p值为：0.062559'"
      ],
      "text/latex": [
       "'(1)轮廓平行假设的p值为：0.062559'"
      ],
      "text/markdown": [
       "'(1)轮廓平行假设的p值为：0.062559'"
      ],
      "text/plain": [
       "[1] \"(1)轮廓平行假设的p值为：0.062559\""
      ]
     },
     "metadata": {},
     "output_type": "display_data"
    },
    {
     "name": "stdout",
     "output_type": "stream",
     "text": [
      "[1] \"不能拒绝两总体的轮廓是平行的假设\"\n"
     ]
    }
   ],
   "source": [
    "# 检验轮廓平行性\n",
    "C =  rbind(c(-1,1,0,0),c(0,-1,1,0),c(0,0,-1,1))\n",
    "T2 = (n1*n2/(n1+n2))*t(C%*%(mean1-mean2))%*%solve(C%*%Sp%*%t(C))%*%(C%*%(mean1-mean2))\n",
    "a = 0.05 # 显著性水平\n",
    "p = 4 # 维度\n",
    "Ta2 = (p-1)*(n1+n2-2)/(n1+n2-p)*qf(a, df1 = p-1, df2 = n1+n2-p, lower.tail = FALSE) # 临界值法\n",
    "p1 = pf(T2/((p-1)*(n1+n2-2)/(n1+n2-p)), df1 = p-1, df2 = n1+n2-p, lower.tail = FALSE) # P值法\n",
    "print(sprintf('(1)轮廓平行假设的p值为：%f',p1))\n",
    "if (p1>a) print('不能拒绝两总体的轮廓是平行的假设') else print('拒绝两总体的轮廓是平行的假设，检验结束')"
   ]
  },
  {
   "cell_type": "markdown",
   "id": "b6b32fc9",
   "metadata": {},
   "source": [
    "简单分析：根据图片来看，两者确实存在一定的趋势相似性"
   ]
  },
  {
   "cell_type": "code",
   "execution_count": 33,
   "id": "1640eeda",
   "metadata": {
    "vscode": {
     "languageId": "r"
    }
   },
   "outputs": [
    {
     "data": {
      "text/html": [
       "'(2)轮廓重合假设的p值为：0.220685'"
      ],
      "text/latex": [
       "'(2)轮廓重合假设的p值为：0.220685'"
      ],
      "text/markdown": [
       "'(2)轮廓重合假设的p值为：0.220685'"
      ],
      "text/plain": [
       "[1] \"(2)轮廓重合假设的p值为：0.220685\""
      ]
     },
     "metadata": {},
     "output_type": "display_data"
    },
    {
     "name": "stdout",
     "output_type": "stream",
     "text": [
      "[1] \"不能拒绝两总体的轮廓是重合的假设，即两者没有显著差异\"\n"
     ]
    }
   ],
   "source": [
    "# 检验轮廓是否重合\n",
    "I = c(1,1,1,1) # 生成单位矩阵\n",
    "T21 = n1*n2/(n1+n2)*((t(I)%*%(mean1-mean2))^2)/(t(I)%*%Sp%*%I)\n",
    "F2 = qf(a, df1 = 1, df2 = n1+n2-2, lower.tail = FALSE) # 临界值法\n",
    "p2 = pf(T21,df1 = 1, df2 = n1+n2-2, lower.tail = FALSE) # P值法\n",
    "print(sprintf('(2)轮廓重合假设的p值为：%f',p2))\n",
    "if (p2>a) print('不能拒绝两总体的轮廓是重合的假设，即两者没有显著差异') else print('拒绝两总体的轮廓是重合的假设，检验结束')"
   ]
  },
  {
   "cell_type": "markdown",
   "id": "a97dd08e",
   "metadata": {},
   "source": [
    "简单分析：说明丈夫对妻子和妻子对丈夫的回答没有显著差异"
   ]
  },
  {
   "cell_type": "code",
   "execution_count": 32,
   "id": "9c201c44",
   "metadata": {
    "vscode": {
     "languageId": "r"
    }
   },
   "outputs": [
    {
     "data": {
      "text/html": [
       "'(3)共同轮廓水平假设的p值为：0.000155'"
      ],
      "text/latex": [
       "'(3)共同轮廓水平假设的p值为：0.000155'"
      ],
      "text/markdown": [
       "'(3)共同轮廓水平假设的p值为：0.000155'"
      ],
      "text/plain": [
       "[1] \"(3)共同轮廓水平假设的p值为：0.000155\""
      ]
     },
     "metadata": {},
     "output_type": "display_data"
    },
    {
     "name": "stdout",
     "output_type": "stream",
     "text": [
      "[1] \"拒绝共同轮廓是水平的假设，即在不同方面水平有显著差异\"\n"
     ]
    }
   ],
   "source": [
    "# 共同轮廓水平假设\n",
    "z = rbind(data1,data2) # 合并\n",
    "n = dim(z)[1]\n",
    "S = cov(z) # 新样本协方差矩阵\n",
    "T22 = (n1+n2)*t(0.5*C%*%(mean1+mean2))%*%(solve(C%*%S%*%t(C)))%*%(0.5*C%*%(mean1+mean2))\n",
    "Ta22 = (p-1)*(n1+n2-1)/(n1+n2-p+1)*qf(a, df1 = p-1, df2 = n1+n2-p+1, lower.tail = FALSE) # 临界值法\n",
    "p3 = pf(T22/((p-1)*(n1+n2-1)/(n1+n2-p+1)),df1 = p-1, df2 = n1+n2-p+1, lower.tail = FALSE) # P值法\n",
    "print(sprintf('(3)共同轮廓水平假设的p值为：%f',p3))\n",
    "if (p3<a) print('拒绝共同轮廓是水平的假设，即在不同方面水平有显著差异') else print('不能拒绝共同轮廓是水平的假设，不同方面没有显著差异')"
   ]
  },
  {
   "cell_type": "markdown",
   "id": "b1038b1e",
   "metadata": {},
   "source": [
    "简单分析：说明妻子和丈夫作为整体而言，对于四个问题的回答的得分水平有显著的差异。"
   ]
  },
  {
   "cell_type": "markdown",
   "id": "a8276e03",
   "metadata": {},
   "source": [
    "### 2.封装为一个函数，并实现文件调用"
   ]
  },
  {
   "cell_type": "code",
   "execution_count": 41,
   "id": "01cce748",
   "metadata": {
    "vscode": {
     "languageId": "r"
    }
   },
   "outputs": [
    {
     "name": "stdout",
     "output_type": "stream",
     "text": [
      "[1] \"(1)轮廓平行假设的p值为：0.062559\"\n",
      "[1] \"不能拒绝两总体的轮廓是平行的假设\"\n",
      "[1] \"(2)轮廓重合假设的p值为：0.220685\"\n",
      "[1] \"不能拒绝两总体的轮廓是重合的假设，即两者没有显著差异\"\n",
      "[1] \"(3)共同轮廓水平假设的p值为：0.000155\"\n",
      "[1] \"拒绝共同轮廓是水平的假设，即在不同方面水平有显著差异\"\n"
     ]
    },
    {
     "data": {
      "image/png": "[encoded data removed]",
      "text/plain": [
       "plot without title"
      ]
     },
     "metadata": {
      "image/png": {
       "height": 420,
       "width": 420
      }
     },
     "output_type": "display_data"
    }
   ],
   "source": [
    "lunkuo = function(data1,data2){\n",
    "    # 求均值和协方差矩阵的无偏估计\n",
    "    mean1 = apply(data1,2,mean)\n",
    "    mean2 = apply(data2,2,mean)\n",
    "\n",
    "    n1 = dim(data1)[1]\n",
    "    n2 = dim(data2)[1]\n",
    "    Sp = ((n1-1)*cov(data1)+(n2-1)*cov(data2))/(n1+n2-2)\n",
    "\n",
    "    # 绘图直观观察\n",
    "\n",
    "    x = c(1,2,3,4)\n",
    "    plot(x, mean2, type=\"l\")\n",
    "    points(x,mean2)\n",
    "    lines(x, mean1, col=\"red\")\n",
    "    points(x, mean1, col=\"red\") # 红色表示丈夫对妻子的回答\n",
    "\n",
    "    # 检验轮廓平行性\n",
    "    C =  rbind(c(-1,1,0,0),c(0,-1,1,0),c(0,0,-1,1))\n",
    "    T2 = (n1*n2/(n1+n2))*t(C%*%(mean1-mean2))%*%solve(C%*%Sp%*%t(C))%*%(C%*%(mean1-mean2))\n",
    "    a = 0.05 # 显著性水平\n",
    "    p = 4 # 维度\n",
    "    Ta2 = (p-1)*(n1+n2-2)/(n1+n2-p)*qf(a, df1 = p-1, df2 = n1+n2-p, lower.tail = FALSE) # 临界值法\n",
    "    p1 = pf(T2/((p-1)*(n1+n2-2)/(n1+n2-p)), df1 = p-1, df2 = n1+n2-p, lower.tail = FALSE) # P值法\n",
    "    print(sprintf('(1)轮廓平行假设的p值为：%f',p1))\n",
    "    if (p1>a) print('不能拒绝两总体的轮廓是平行的假设') else {return('拒绝两总体的轮廓是平行的假设，检验结束')}\n",
    "    \n",
    "    # 检验轮廓是否重合\n",
    "    I = c(1,1,1,1) # 生成单位矩阵\n",
    "    T21 = n1*n2/(n1+n2)*((t(I)%*%(mean1-mean2))^2)/(t(I)%*%Sp%*%I)\n",
    "    F2 = qf(a, df1 = 1, df2 = n1+n2-2, lower.tail = FALSE) # 临界值法\n",
    "    p2 = pf(T21,df1 = 1, df2 = n1+n2-2, lower.tail = FALSE) # P值法\n",
    "    print(sprintf('(2)轮廓重合假设的p值为：%f',p2))\n",
    "    if (p2>a) print('不能拒绝两总体的轮廓是重合的假设，即两者没有显著差异') else {return('拒绝两总体的轮廓是重合的假设，检验结束')}\n",
    "\n",
    "    # 共同轮廓水平假设\n",
    "    z = rbind(data1,data2) # 合并\n",
    "    n = dim(z)[1]\n",
    "    S = cov(z) # 新样本协方差矩阵\n",
    "    T22 = (n1+n2)*t(0.5*C%*%(mean1+mean2))%*%(solve(C%*%S%*%t(C)))%*%(0.5*C%*%(mean1+mean2))\n",
    "    Ta22 = (p-1)*(n1+n2-1)/(n1+n2-p+1)*qf(a, df1 = p-1, df2 = n1+n2-p+1, lower.tail = FALSE) # 临界值法\n",
    "    p3 = pf(T22/((p-1)*(n1+n2-1)/(n1+n2-p+1)),df1 = p-1, df2 = n1+n2-p+1, lower.tail = FALSE) # P值法\n",
    "    print(sprintf('(3)共同轮廓水平假设的p值为：%f',p3))\n",
    "    if (p3<a) print('拒绝共同轮廓是水平的假设，即在不同方面水平有显著差异') else print('不能拒绝共同轮廓是水平的假设，不同方面没有显著差异')\n",
    "}\n",
    "\n",
    "lunkuo(data1,data2)"
   ]
  },
  {
   "cell_type": "markdown",
   "id": "fef70992",
   "metadata": {},
   "source": [
    "还可以将函数封装为一个文件，以便其余文件也能调用。方法是，将函数单独编辑在一个文件中，文件名为函数名。在使用时，执行代码“source(函数名.R)”载入，之后就可以使用函数了。 "
   ]
  },
  {
   "cell_type": "code",
   "execution_count": 6,
   "id": "e5442f72",
   "metadata": {
    "vscode": {
     "languageId": "r"
    }
   },
   "outputs": [
    {
     "name": "stdout",
     "output_type": "stream",
     "text": [
      "[1] \"(1)轮廓平行假设的p值为：0.062559\"\n",
      "[1] \"不能拒绝两总体的轮廓是平行的假设\"\n",
      "[1] \"(2)轮廓重合假设的p值为：0.220685\"\n",
      "[1] \"不能拒绝两总体的轮廓是重合的假设，即两者没有显著差异\"\n",
      "[1] \"(3)共同轮廓水平假设的p值为：0.000155\"\n",
      "[1] \"拒绝共同轮廓是水平的假设，即在不同方面水平有显著差异\"\n"
     ]
    },
    {
     "data": {
      "image/png": "[encoded data removed]",
      "text/plain": [
       "plot without title"
      ]
     },
     "metadata": {
      "image/png": {
       "height": 420,
       "width": 420
      }
     },
     "output_type": "display_data"
    }
   ],
   "source": [
    "source('lunkuo.R',encoding = \"utf-8\") # 这里需要改一下编码格式\n",
    "lunkuo(data1,data2)"
   ]
  }
 ],
 "metadata": {
  "kernelspec": {
   "display_name": "R",
   "language": "R",
   "name": "ir"
  },
  "language_info": {
   "codemirror_mode": "r",
   "file_extension": ".r",
   "mimetype": "text/x-r-source",
   "name": "R",
   "pygments_lexer": "r",
   "version": "4.1.3"
  }
 },
 "nbformat": 4,
 "nbformat_minor": 5
}
